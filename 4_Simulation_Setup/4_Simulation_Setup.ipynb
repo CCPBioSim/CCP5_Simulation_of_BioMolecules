{
  "cells": [
    {
      "cell_type": "markdown",
      "id": "0",
      "metadata": {
        "id": "0"
      },
      "source": [
        "# Solvate and equilibrate a ligand in a box of water"
      ]
    },
    {
      "cell_type": "markdown",
      "id": "c8624601-62b7-4bfe-b5fe-ad526fbff7e5",
      "metadata": {
        "id": "c8624601-62b7-4bfe-b5fe-ad526fbff7e5"
      },
      "source": [
        "<a rel=\"license\" href=\"http://creativecommons.org/licenses/by/4.0/\"><img alt=\"Creative Commons Licence\" style=\"border-width:0\" src=\"https://i.creativecommons.org/l/by/4.0/88x31.png\" title='This work is licensed under a Creative Commons Attribution 4.0 International License.' align=\"right\"/></a>\n",
        "\n",
        "**Authors**:\n",
        "This tutorial is adapted from [OpenForceField tutorials](https://docs.openforcefield.org/en/latest/examples/openforcefield/openff-interchange/ligand_in_water/ligand_in_water.html).\n",
        "\n",
        "*Updates*: Dr Antonia Mey (antonia.mey@ed.ac.uk), Dr Matteo Degiacomi (matteo.t.degiacomi@durham.ac.uk)\n"
      ]
    },
    {
      "cell_type": "markdown",
      "id": "7625a79a-774a-46c9-b0f2-b8600bdf7189",
      "metadata": {
        "id": "7625a79a-774a-46c9-b0f2-b8600bdf7189"
      },
      "source": [
        "## Learning outcomes\n",
        "* Run a short MD simulation of a ligand with Interchange\n",
        "* Assess the effect of different parameters on simulation"
      ]
    },
    {
      "cell_type": "markdown",
      "id": "271a4a37-89a4-4d00-944f-8c1dccbd0037",
      "metadata": {
        "id": "271a4a37-89a4-4d00-944f-8c1dccbd0037"
      },
      "source": [
        "<div class=\"alert alert-warning\">\n",
        "<b>This tutorial</b> only runs on Colab or locally on Linux or OSX machines. Windows is not supported.</div>"
      ]
    },
    {
      "cell_type": "markdown",
      "id": "57061521-6360-4cdb-9ca9-ec2e69bbff46",
      "metadata": {
        "id": "57061521-6360-4cdb-9ca9-ec2e69bbff46"
      },
      "source": [
        "## Jupyter cheat sheet\n",
        "- to run the currently highlighted cell, hold <kbd>&#x21E7; Shift</kbd> and press <kbd>&#x23ce; Enter</kbd>;\n",
        "- to get help for a specific function, place the cursor within the function's brackets, hold <kbd>&#x21E7; Shift</kbd>, and press <kbd>&#x21E5; Tab</kbd>;"
      ]
    },
    {
      "cell_type": "markdown",
      "id": "a177888e-547f-4f56-a31a-8eedbc4cd147",
      "metadata": {
        "id": "a177888e-547f-4f56-a31a-8eedbc4cd147"
      },
      "source": [
        "## Google Colab setup\n",
        "<div class=\"alert alert-warning\">\n",
        "<b>Attention:</b> Please only run the following cells if you are using Colab! These cells install necessary packages and download data.</div>"
      ]
    },
    {
      "cell_type": "code",
      "execution_count": null,
      "id": "544e3593-ea26-447d-af26-8565a1fea746",
      "metadata": {
        "id": "544e3593-ea26-447d-af26-8565a1fea746"
      },
      "outputs": [],
      "source": [
        "!if [ -n \"$COLAB_RELEASE_TAG\" ]; then pip install condacolab; fi\n",
        "import condacolab\n",
        "condacolab.install()\n",
        "\n",
        "import condacolab\n",
        "!mamba install -c conda-forge mdtraj nglview openmm openff-toolkit rich ipywidgets=7.6.0"
      ]
    },
    {
      "cell_type": "code",
      "execution_count": null,
      "id": "7d44da0f-0293-4c9b-aa5f-8021010b73fd",
      "metadata": {
        "id": "7d44da0f-0293-4c9b-aa5f-8021010b73fd"
      },
      "outputs": [],
      "source": [
        "# enable third party jupyter widgets\n",
        "from google.colab import output\n",
        "output.enable_custom_widget_manager()"
      ]
    },
    {
      "cell_type": "code",
      "execution_count": null,
      "id": "f6755089-3a9f-4e20-883a-d270fe771d2d",
      "metadata": {
        "id": "f6755089-3a9f-4e20-883a-d270fe771d2d"
      },
      "outputs": [],
      "source": [
        "!if [ -n \"$COLAB_RELEASE_TAG\" ]; then git clone https://github.com/CCPBioSim/CCP5_Simulation_of_BioMolecules; fi\n",
        "import os\n",
        "os.chdir(f\"CCP5_Simulation_of_BioMolecules{os.sep}4_Simulation_Setup\")"
      ]
    },
    {
      "cell_type": "markdown",
      "id": "df1b8baf-adf4-489f-956f-9fbb8a9cc2a6",
      "metadata": {
        "id": "df1b8baf-adf4-489f-956f-9fbb8a9cc2a6"
      },
      "source": [
        "## Import packages"
      ]
    },
    {
      "cell_type": "code",
      "execution_count": null,
      "id": "1",
      "metadata": {
        "id": "1"
      },
      "outputs": [],
      "source": [
        "import time, os\n",
        "\n",
        "import mdtraj\n",
        "import nglview\n",
        "import numpy\n",
        "import pandas\n",
        "import matplotlib.pyplot as plt\n",
        "\n",
        "import openmm\n",
        "import openmm.app\n",
        "import openmm.unit\n",
        "from openff.toolkit import ForceField, Molecule, unit\n",
        "from rich.pretty import pprint\n",
        "\n",
        "from openff.interchange import Interchange\n",
        "from openff.interchange.components._packmol import RHOMBIC_DODECAHEDRON, pack_box"
      ]
    },
    {
      "cell_type": "markdown",
      "id": "2",
      "metadata": {
        "id": "2"
      },
      "source": [
        "# 1. Construct the topology"
      ]
    },
    {
      "cell_type": "markdown",
      "id": "e0fac4ce-36af-4a59-a798-526fe63b2799",
      "metadata": {
        "id": "e0fac4ce-36af-4a59-a798-526fe63b2799"
      },
      "source": [
        "In this example we will construct a topology consisting of one ligand in a rhombic dodecahedral box with water molecules. We will use a _mapped_ SMILES when creating `Molecule` objects to ensure the atom ordering matches. *Atom ordering is not strictly a part of SMILES, and therefore liable to be changed with updates to RDKit.*\n",
        "\n",
        "This can be extended or modified by, i.e.:\n",
        "* Replacing this sample ligand with a different ligand of interest - substitute out the ligand SMILES\n",
        "* Using a different number of water molecules - substitute out the `2100` used below\n",
        "* Adding ions or co-solvents into the box - add more `Molecule` object as desired"
      ]
    },
    {
      "cell_type": "markdown",
      "id": "2b00dfb4-d3cf-4788-8dff-9850b58b08dc",
      "metadata": {
        "id": "2b00dfb4-d3cf-4788-8dff-9850b58b08dc"
      },
      "source": [
        "We will start by loading the SMILES of a molecule. In the cell below you see two options the default one being ligand studied in the [previous tutorial](../4_Docking/Docking.ipynb) on docking. You can toggle from one to the other by replacing <code>True</code> with <code>False</code>."
      ]
    },
    {
      "cell_type": "code",
      "execution_count": null,
      "id": "957a7048-1250-4287-b6bc-261950d36d62",
      "metadata": {
        "id": "957a7048-1250-4287-b6bc-261950d36d62"
      },
      "outputs": [],
      "source": [
        "from rdkit import Chem\n",
        "if True:\n",
        "    fin = open(f\"..{os.sep}3_Docking{os.sep}resources{os.sep}lig_27.smi\", \"r\")\n",
        "    lig27_smiles = fin.readline().strip()\n",
        "    fin.close()\n",
        "    lig27_smiles\n",
        "    m = Chem.MolFromSmiles(lig27_smiles)\n",
        "    ligand = Molecule.from_rdkit(m)\n",
        "else:\n",
        "    lig27_smiles = \"[H:7][C@:6]1([C:13](=[C:11]([C:9](=[O:10])[O:8]1)[O:12][H:19])[O:14][H:20])[C@:3]([H:4])([C:2]([H:16])([H:17])[O:1][H:15])[O:5][H:18]\"\n",
        "    ligand = Molecule.from_mapped_smiles(lig27_smiles)"
      ]
    },
    {
      "cell_type": "markdown",
      "source": [
        "For more ways in which to convert between smiles and ligand on which to apply a forcefield you can take a look at this more [extended tutorial](https://docs.openforcefield.org/projects/toolkit/en/stable/users/molecule_cookbook.html)."
      ],
      "metadata": {
        "id": "Jenv-7LQMsWK"
      },
      "id": "Jenv-7LQMsWK"
    },
    {
      "cell_type": "code",
      "source": [
        "ligand"
      ],
      "metadata": {
        "collapsed": true,
        "id": "cU0dF0zcKuDN"
      },
      "id": "cU0dF0zcKuDN",
      "execution_count": null,
      "outputs": []
    },
    {
      "cell_type": "code",
      "execution_count": null,
      "id": "3",
      "metadata": {
        "id": "3"
      },
      "outputs": [],
      "source": [
        "water = Molecule.from_mapped_smiles(\"[H:2][O:1][H:3]\")\n",
        "\n",
        "# Naming the residue is not needed to parameterize the system or run the simulation, but makes visualization easier\n",
        "for atom in water.atoms:\n",
        "    atom.metadata[\"residue_name\"] = \"HOH\""
      ]
    },
    {
      "cell_type": "markdown",
      "id": "4",
      "metadata": {
        "id": "4"
      },
      "source": [
        "There are a few ways to convert the information in this trajectory to an Openff [`Topology`](https://docs.openforcefield.org/projects/toolkit/en/stable/api/generated/openff.toolkit.topology.Topology.html#openff.toolkit.topology.Topology) object. Since we already know how many of which molecules we want, we will use a PACKMOL wrapper shipped with Interchange. The `Topology` object returned by `pack_box` contains the ligand, 1000 copies of water, the box vectors we asked for, and the positions generated by PACKMOL."
      ]
    },
    {
      "cell_type": "code",
      "execution_count": null,
      "id": "5",
      "metadata": {
        "id": "5"
      },
      "outputs": [],
      "source": [
        "topology = pack_box(\n",
        "    molecules=[ligand, water],\n",
        "    number_of_copies=[1, 1000],\n",
        "    box_vectors=3.5 * RHOMBIC_DODECAHEDRON * unit.nanometer,\n",
        ")\n",
        "topology.n_molecules, topology.box_vectors, topology.get_positions().shape"
      ]
    },
    {
      "cell_type": "markdown",
      "id": "6",
      "metadata": {
        "id": "6"
      },
      "source": [
        "The [\"Sage\"](https://openforcefield.org/community/news/general/sage2.0.0-release/) force field line (version 2.x.x) includes TIP3P  parameters for water, so we do not need to use multiple force fields to parametrize this topology. TIP3P is water model with 3 point charges. There are better options for water water models available but this version is still widely used.\n",
        "\n",
        "*Other water models are also a possible option but then it is important to know that the protein or small molecule forcefield is compatible with this water model.*\n",
        "\n",
        "Note that the \"Parsley\" (version 1.x.x) line did *not* include TIP3P parameters, so loading in an extra force field was required."
      ]
    },
    {
      "cell_type": "code",
      "execution_count": null,
      "id": "7",
      "metadata": {
        "id": "7"
      },
      "outputs": [],
      "source": [
        "sage = ForceField(\"openff-2.0.0.offxml\")"
      ]
    },
    {
      "cell_type": "markdown",
      "id": "8",
      "metadata": {
        "id": "8"
      },
      "source": [
        "From here, we can create an ``Interchange`` object, which stores the results of applying the force field to the topology. Since the `Topology` object contained positions and box vectors, we don't need to set them again - they are already set on the `Interchange` object!"
      ]
    },
    {
      "cell_type": "code",
      "execution_count": null,
      "id": "9",
      "metadata": {
        "id": "9"
      },
      "outputs": [],
      "source": [
        "interchange: Interchange = Interchange.from_smirnoff(force_field=sage, topology=topology)\n",
        "interchange.topology.n_atoms, interchange.box, interchange.positions.shape"
      ]
    },
    {
      "cell_type": "markdown",
      "id": "9ba60dd6-c8f1-4dd5-aaa2-c4f1a2e1f8bf",
      "metadata": {
        "id": "9ba60dd6-c8f1-4dd5-aaa2-c4f1a2e1f8bf"
      },
      "source": [
        "# 2. Run a short equilibration simulation"
      ]
    },
    {
      "cell_type": "markdown",
      "id": "10",
      "metadata": {
        "id": "10"
      },
      "source": [
        "Now, we can prepare everything that OpenMM needs to run and report a brief equilibration simulation:\n",
        "* A [`Simulation`](http://docs.openmm.org/latest/api-python/generated/openmm.app.simulation.Simulation.html#openmm.app.simulation.Simulation) object containing\n",
        "  * An `openmm.System`\n",
        "  * A topology in OpenMM's object model (`openmm.app.Topology`)\n",
        "  * Positions and box vectors in OpenMM's unit solution (`openmm.unit.Quantity`)\n",
        "* A barostat, since we want to use NPT dynamics to relax the box size toward equilibrium\n",
        "* An integrator\n",
        "* Reporters for the trajectory and simulation data\n",
        "\n",
        "For convenience, let's wrap some boilerplate code into a function that can be called again later with different inputs."
      ]
    },
    {
      "cell_type": "code",
      "execution_count": null,
      "id": "11",
      "metadata": {
        "id": "11"
      },
      "outputs": [],
      "source": [
        "def create_simulation(\n",
        "    interchange: Interchange,\n",
        "    pdb_stride: int = 500,\n",
        "    trajectory_name: str = \"trajectory.pdb\",\n",
        "    fout_name: str = \"data.csv\"\n",
        ") -> openmm.app.Simulation:\n",
        "    integrator = openmm.LangevinIntegrator(\n",
        "        300 * openmm.unit.kelvin,\n",
        "        1 / openmm.unit.picosecond,\n",
        "        1 * openmm.unit.femtoseconds,\n",
        "    )\n",
        "\n",
        "    barostat = openmm.MonteCarloBarostat(\n",
        "        1.0 * openmm.unit.bar,\n",
        "        293.15 * openmm.unit.kelvin,\n",
        "        25,\n",
        "    )\n",
        "\n",
        "    simulation = interchange.to_openmm_simulation(\n",
        "        combine_nonbonded_forces=True,\n",
        "        integrator=integrator,\n",
        "        additional_forces=[barostat],\n",
        "    )\n",
        "\n",
        "    # https://github.com/openmm/openmm/issues/3736#issuecomment-1217250635\n",
        "    simulation.minimizeEnergy()\n",
        "\n",
        "    simulation.context.setVelocitiesToTemperature(300 * openmm.unit.kelvin)\n",
        "    simulation.context.computeVirtualSites()\n",
        "\n",
        "    pdb_reporter = openmm.app.PDBReporter(trajectory_name, pdb_stride)\n",
        "    state_data_reporter = openmm.app.StateDataReporter(\n",
        "        fout_name,\n",
        "        10,\n",
        "        step=True,\n",
        "        potentialEnergy=True,\n",
        "        temperature=True,\n",
        "        density=True,\n",
        "    )\n",
        "    simulation.reporters.append(pdb_reporter)\n",
        "    simulation.reporters.append(state_data_reporter)\n",
        "\n",
        "    return simulation"
      ]
    },
    {
      "cell_type": "markdown",
      "id": "039356ec-8981-4af0-b65a-43fe19f63d16",
      "metadata": {
        "id": "039356ec-8981-4af0-b65a-43fe19f63d16"
      },
      "source": [
        "We can now create our simulation, set-up so that simulation reporters are saved in the file <code>fout_name</code>."
      ]
    },
    {
      "cell_type": "code",
      "execution_count": null,
      "id": "12",
      "metadata": {
        "id": "12"
      },
      "outputs": [],
      "source": [
        "simulation = create_simulation(interchange, fout_name=\"data_300.csv\")"
      ]
    },
    {
      "cell_type": "markdown",
      "id": "13",
      "metadata": {
        "id": "13"
      },
      "source": [
        "Finally, we can run this simulation. To avoid copy-pasting code, let's first wrap everything up into a function."
      ]
    },
    {
      "cell_type": "code",
      "execution_count": null,
      "id": "14",
      "metadata": {
        "id": "14"
      },
      "outputs": [],
      "source": [
        "def run_simulation(simulation: openmm.app.Simulation, n_steps: int = 5000):\n",
        "    print(\"Starting simulation\")\n",
        "    start_time = time.process_time()\n",
        "\n",
        "    print(\"Step, volume (nm^3)\")\n",
        "\n",
        "    for step in range(n_steps):\n",
        "        simulation.step(1)\n",
        "        if step % 500 == 0: # print text every 500 steps\n",
        "            box_vectors = simulation.context.getState().getPeriodicBoxVectors()\n",
        "            print(step, numpy.linalg.det(box_vectors._value).round(3))\n",
        "\n",
        "    end_time = time.process_time()\n",
        "    print(f\"Elapsed time: {(end_time - start_time):.2f} seconds\")"
      ]
    },
    {
      "cell_type": "markdown",
      "id": "15",
      "metadata": {
        "id": "15"
      },
      "source": [
        "Time to run the simulation! This should take approximately 10-30 seconds on a laptop or small workstation."
      ]
    },
    {
      "cell_type": "code",
      "execution_count": null,
      "id": "16",
      "metadata": {
        "id": "16"
      },
      "outputs": [],
      "source": [
        "run_simulation(simulation)"
      ]
    },
    {
      "cell_type": "markdown",
      "id": "3b9e27ff-ffde-408a-899a-0886f80e5407",
      "metadata": {
        "id": "3b9e27ff-ffde-408a-899a-0886f80e5407"
      },
      "source": [
        "This will generate a file called <code>data_300.csv</code>, featuring all the reporters we initialized in the function <code>create_simulation</code> we created above."
      ]
    },
    {
      "cell_type": "code",
      "execution_count": null,
      "id": "9c30316c-36cc-4686-a630-e207ac365bed",
      "metadata": {
        "id": "9c30316c-36cc-4686-a630-e207ac365bed"
      },
      "outputs": [],
      "source": [
        "reporters = pandas.read_csv(\"data_300.csv\")\n",
        "reporters"
      ]
    },
    {
      "cell_type": "markdown",
      "id": "74cda54a-3e26-4a8e-8c5c-152ddccb02ae",
      "metadata": {
        "id": "74cda54a-3e26-4a8e-8c5c-152ddccb02ae"
      },
      "source": [
        "Let's plot the data we have saved. Again, let's write a plotting function, we will need it for later!"
      ]
    },
    {
      "cell_type": "code",
      "execution_count": null,
      "id": "99e6b325-c4ac-41db-8317-d33c220c1481",
      "metadata": {
        "id": "99e6b325-c4ac-41db-8317-d33c220c1481"
      },
      "outputs": [],
      "source": [
        "def plot_reporters(reporfilename):\n",
        "\n",
        "  reporters = pandas.read_csv(reporfilename)\n",
        "\n",
        "  fig, axs = plt.subplots(1, 3, figsize=(14, 3))\n",
        "  axs[0].plot(reporters['#\"Step\"'], reporters['Potential Energy (kJ/mole)'])\n",
        "  axs[0].set_xlabel(\"step\")\n",
        "  axs[0].set_ylabel('Potential Energy (kJ/mole)')\n",
        "\n",
        "  axs[1].plot(reporters['#\"Step\"'], reporters['Temperature (K)'])\n",
        "  axs[1].set_xlabel(\"step\")\n",
        "  axs[1].set_ylabel('Temperature (K)')\n",
        "\n",
        "  axs[2].plot(reporters['#\"Step\"'], reporters['Density (g/mL)'])\n",
        "  axs[2].set_xlabel(\"step\")\n",
        "  axs[2].set_ylabel('Density (g/mL)');"
      ]
    },
    {
      "cell_type": "code",
      "execution_count": null,
      "id": "c4d97822-9fe2-4f2b-8ace-00c6b1f20def",
      "metadata": {
        "id": "c4d97822-9fe2-4f2b-8ace-00c6b1f20def"
      },
      "outputs": [],
      "source": [
        "plot_reporters(\"data_300.csv\")"
      ]
    },
    {
      "cell_type": "markdown",
      "id": "17",
      "metadata": {
        "id": "17"
      },
      "source": [
        "We can use it and MDTraj to load and visualize the PDB trajectory:"
      ]
    },
    {
      "cell_type": "code",
      "execution_count": null,
      "id": "18",
      "metadata": {
        "tags": [
          "nbval-skip"
        ],
        "id": "18"
      },
      "outputs": [],
      "source": [
        "view = nglview.show_mdtraj(mdtraj.load(\"trajectory.pdb\"))\n",
        "view.add_representation(\"licorice\", selection=\"water\")\n",
        "view"
      ]
    },
    {
      "cell_type": "markdown",
      "id": "d650ff68-1509-4528-8eb2-9de4f2312dfd",
      "metadata": {
        "id": "d650ff68-1509-4528-8eb2-9de4f2312dfd"
      },
      "source": [
        "<div class=\"alert alert-success\">\n",
        "<b>Task 1: </b> What happens if you increase the temperature of the simulation to 340 K? And how about changing the input SMILES string?\n",
        "</div>"
      ]
    },
    {
      "cell_type": "markdown",
      "id": "fdb1e645-4989-42ef-a022-719a031c5eef",
      "metadata": {
        "id": "fdb1e645-4989-42ef-a022-719a031c5eef"
      },
      "source": [
        "<details>\n",
        "<summary> <mark> Solution: </mark> </summary>\n",
        "\n",
        "To run with a different molecule, toggle <code>True</code> to <code>False</code> in the first cell of the section <code>1. Construct to Topology</code>, and re-run the notebook.\n",
        "\n",
        "To change the temperature editing the function <code>create_simulation</code>, changing the temperature from 300 to 340 K, then call it again:\n",
        "\n",
        "```Python\n",
        "simulation = create_simulation(interchange, fout_name=\"data_340.csv\")\n",
        "run_simulation(simulation)\n",
        "plot_reporters(\"data_340.csv\")\n",
        "```\n",
        "</details>"
      ]
    },
    {
      "cell_type": "markdown",
      "id": "19",
      "metadata": {
        "id": "19"
      },
      "source": [
        "# 3. Run a simulation with the OPC water model\n",
        "\n",
        "The `openff-forcefields` package now includes some common water models. After release 2023.05.1, this includes OPC, a 4-site water model from the Amber community. We can load it by simply passing it to the `ForceField` constructor after Sage. (When loading multiple force fields like this, parameters in each section are appended in order of the files.) We can inspect the virtual site parameter in our new in-memory force field."
      ]
    },
    {
      "cell_type": "code",
      "execution_count": null,
      "id": "20",
      "metadata": {
        "id": "20"
      },
      "outputs": [],
      "source": [
        "force_field_opc = ForceField(\"openff_unconstrained-2.0.0.offxml\", \"opc.offxml\")\n",
        "pprint(force_field_opc[\"VirtualSites\"].to_dict())"
      ]
    },
    {
      "cell_type": "markdown",
      "id": "21",
      "metadata": {
        "id": "21"
      },
      "source": [
        "We can also get a rough visualization of a single water molecule including the virtual site."
      ]
    },
    {
      "cell_type": "code",
      "execution_count": null,
      "id": "22",
      "metadata": {
        "id": "22"
      },
      "outputs": [],
      "source": [
        "water.generate_conformers(n_conformers=1)\n",
        "view = force_field_opc.create_interchange(water.to_topology()).visualize(\n",
        "    include_virtual_sites=True\n",
        ")\n",
        "view.clear_representations()\n",
        "view.add_representation(\"ball+stick\", aspectRatio=1.5)\n",
        "view"
      ]
    },
    {
      "cell_type": "markdown",
      "id": "23",
      "metadata": {
        "id": "23"
      },
      "source": [
        "Since we want to use a different force field with the same chemical topology - a ligand in a box of water - we can re-use the same `Topology` object we prepared earlier, re-using the same functions we defined above!"
      ]
    },
    {
      "cell_type": "code",
      "execution_count": null,
      "id": "24",
      "metadata": {
        "id": "24"
      },
      "outputs": [],
      "source": [
        "interchange_opc = Interchange.from_smirnoff(force_field=force_field_opc, topology=topology)"
      ]
    },
    {
      "cell_type": "code",
      "execution_count": null,
      "id": "25",
      "metadata": {
        "id": "25"
      },
      "outputs": [],
      "source": [
        "interchange_opc.to_openmm()"
      ]
    },
    {
      "cell_type": "code",
      "execution_count": null,
      "id": "26",
      "metadata": {
        "id": "26"
      },
      "outputs": [],
      "source": [
        "simulation = create_simulation(interchange_opc, trajectory_name=\"trajectory_opc.pdb\")\n",
        "\n",
        "run_simulation(simulation)"
      ]
    },
    {
      "cell_type": "code",
      "execution_count": null,
      "id": "27",
      "metadata": {
        "tags": [
          "nbval-skip"
        ],
        "id": "27"
      },
      "outputs": [],
      "source": [
        "def view_trajectory(\n",
        "    trajectory: mdtraj.Trajectory,\n",
        "    show_virtual_sites: bool = False,\n",
        ") -> nglview.NGLWidget:\n",
        "    if show_virtual_sites:\n",
        "        view = nglview.show_mdtraj(trajectory)\n",
        "    else:\n",
        "        import numpy\n",
        "\n",
        "        atom_indices = numpy.where(\n",
        "            [a.element.mass > 0.0 for a in trajectory[0].topology.atoms]\n",
        "        )[0]\n",
        "\n",
        "        view = nglview.show_mdtraj(trajectory.atom_slice(atom_indices))\n",
        "\n",
        "    view.add_representation(\"licorice\", selection=\"water\")\n",
        "    return view\n",
        "\n",
        "# NGLview likes to infer bonds between virtual sites in ways that look messy,\n",
        "# but you can pass `show_virtual_sites=True` just to ensure they're there\n",
        "view_trajectory(mdtraj.load(\"trajectory_opc.pdb\"))"
      ]
    },
    {
      "cell_type": "markdown",
      "id": "28",
      "metadata": {
        "id": "28"
      },
      "source": [
        "# 4. Using the TIP4P-FB water model with GROMACS\n",
        "\n",
        "The `openff-forcefields` package includes several other common water models. The toolkit provides an API for listing the force fields found in your current installation. We can filter out some force field lines and get a picture of the water models available to us. At the time of writing, TIP4P-FB and OPC3 are also provided, but future releases will likely add more. *See the [repo's documentation](https://github.com/openforcefield/openff-forcefields/blob/main/docs/water-models.md#versioning) for why multiple copies of each force field are provided with slightly different versions.*"
      ]
    },
    {
      "cell_type": "code",
      "execution_count": null,
      "id": "29",
      "metadata": {
        "id": "29"
      },
      "outputs": [],
      "source": [
        "from openff.toolkit.typing.engines.smirnoff.forcefield import get_available_force_fields\n",
        "\n",
        "sorted(\n",
        "    filter(\n",
        "        lambda x: not x.startswith((\"openff\", \"smirnoff99\", \"ff14sb\")),\n",
        "        get_available_force_fields(),\n",
        "    )\n",
        ")"
      ]
    },
    {
      "cell_type": "markdown",
      "id": "30",
      "metadata": {
        "id": "30"
      },
      "source": [
        "To use a different force field, such as [TIP4P-FB](https://pubs.acs.org/doi/10.1021/jz500737m), simply point the `ForceField` constructor at a different file:"
      ]
    },
    {
      "cell_type": "code",
      "execution_count": null,
      "id": "31",
      "metadata": {
        "id": "31"
      },
      "outputs": [],
      "source": [
        "sage_tip4p_fb = ForceField(\"openff-2.0.0.offxml\", \"tip4p_fb.offxml\")"
      ]
    },
    {
      "cell_type": "markdown",
      "id": "32",
      "metadata": {
        "id": "32"
      },
      "source": [
        "From here we can create a new `Interchange` object - only necessary since we're using a different force field - and use the `Interchange.to_gromacs` method to write GROMACS files. We'll also run an energy minimization before writing out GROMACS files - this could also be done as an extra step with GROMACS, but it's convient to just call it from the Interchange API here."
      ]
    },
    {
      "cell_type": "code",
      "execution_count": null,
      "id": "33",
      "metadata": {
        "id": "33"
      },
      "outputs": [],
      "source": [
        "out = Interchange.from_smirnoff(\n",
        "    force_field=sage_tip4p_fb,\n",
        "    topology=topology,\n",
        ")\n",
        "\n",
        "# could take a few seconds\n",
        "out.minimize()\n",
        "\n",
        "out.to_gromacs(\"tip4p\")"
      ]
    },
    {
      "cell_type": "markdown",
      "id": "34",
      "metadata": {
        "id": "34"
      },
      "source": [
        "Now, with GROMACS files written, we can use the bundled `run.mdp` file to compile and run a GROMACS simulation. For that GROMACS needs to be available on your computer."
      ]
    },
    {
      "cell_type": "markdown",
      "id": "a0e8b7af-afbb-46cc-8e78-bea6f851e7e2",
      "metadata": {
        "id": "a0e8b7af-afbb-46cc-8e78-bea6f851e7e2"
      },
      "source": [
        "<div class=\"alert alert-warning\">\n",
        "<b>Running GROMACS:</b> the following cells require GROMACS to be installed in your machine. If you are on Colab, or running locally on a Linux machine on which you do not have GROMACS already, run the cell below</div>"
      ]
    },
    {
      "cell_type": "code",
      "execution_count": null,
      "id": "18a4112f-daa1-4768-ad65-918e0eef10f9",
      "metadata": {
        "id": "18a4112f-daa1-4768-ad65-918e0eef10f9"
      },
      "outputs": [],
      "source": [
        "!apt install gromacs &> /dev/null"
      ]
    },
    {
      "cell_type": "markdown",
      "id": "99679d1c-65fc-4828-9554-d8122f880232",
      "metadata": {
        "id": "99679d1c-65fc-4828-9554-d8122f880232"
      },
      "source": [
        "If GROMACS is available, you can now run then simulation executing the next cell."
      ]
    },
    {
      "cell_type": "code",
      "execution_count": null,
      "id": "35",
      "metadata": {
        "id": "35"
      },
      "outputs": [],
      "source": [
        "!gmx grompp -p tip4p.top -c tip4p.gro -f run.mdp -o run.tpr -maxwarn 1\n",
        "!gmx mdrun --deffnm run"
      ]
    },
    {
      "cell_type": "markdown",
      "id": "ef8a459c-1fcb-4437-affa-52f91f1cf8f4",
      "metadata": {
        "id": "ef8a459c-1fcb-4437-affa-52f91f1cf8f4"
      },
      "source": [
        "The folder <code>3_simulation_setup</code> (i.e., our current working directory) should now contain the simulation output"
      ]
    },
    {
      "cell_type": "code",
      "execution_count": null,
      "id": "36",
      "metadata": {
        "tags": [
          "nbval-skip"
        ],
        "id": "36"
      },
      "outputs": [],
      "source": [
        "# This view might show erroneous bonds across the periodic boundaries, but individual waters should look fine\n",
        "view_trajectory(mdtraj.load(\"run.xtc\", top=\"run.gro\"))"
      ]
    },
    {
      "cell_type": "markdown",
      "id": "f18b5a40-a8af-46a9-af18-f09eb601ddfd",
      "metadata": {
        "id": "f18b5a40-a8af-46a9-af18-f09eb601ddfd"
      },
      "source": [
        "---"
      ]
    }
  ],
  "metadata": {
    "category": "tutorial",
    "celltoolbar": "Tags",
    "kernelspec": {
      "display_name": "Python 3 (ipykernel)",
      "language": "python",
      "name": "python3"
    },
    "language_info": {
      "codemirror_mode": {
        "name": "ipython",
        "version": 3
      },
      "file_extension": ".py",
      "mimetype": "text/x-python",
      "name": "python",
      "nbconvert_exporter": "python",
      "pygments_lexer": "ipython3",
      "version": "3.11.0"
    },
    "colab": {
      "provenance": []
    }
  },
  "nbformat": 4,
  "nbformat_minor": 5
}