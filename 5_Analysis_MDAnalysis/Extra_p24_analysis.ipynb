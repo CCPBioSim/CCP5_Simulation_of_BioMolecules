{
 "cells": [
  {
   "cell_type": "markdown",
   "id": "a76428ec-7a25-460e-b782-38ad71221d98",
   "metadata": {},
   "source": [
    "# Analysis of the HIV-1 viral capsid protein p24"
   ]
  },
  {
   "cell_type": "markdown",
   "id": "a2f55156-1646-4d7d-9b5c-e0b8427bebf6",
   "metadata": {},
   "source": [
    "**Author**: Dr Matteo Degiacomi (matteo.t.degiacomi@durham.ac.uk)"
   ]
  },
  {
   "cell_type": "markdown",
   "id": "ea2fe146-eea8-46f7-8696-ff5fa5cb823d",
   "metadata": {},
   "source": [
    "## Google Colab setup\n",
    "<div class=\"alert alert-warning\">\n",
    "<b>Attention:</b> Please only run the following cells if you are using Colab! These cells install necessary packages and download data.</div>"
   ]
  },
  {
   "cell_type": "code",
   "execution_count": null,
   "id": "74ed71bc-78a0-46b5-883c-43c4bdfcfd27",
   "metadata": {},
   "outputs": [],
   "source": [
    "!if [ -n \"$COLAB_RELEASE_TAG\" ]; then pip install condacolab; fi\n",
    "import condacolab\n",
    "condacolab.install()\n",
    "\n",
    "import condacolab\n",
    "!mamba install -c conda-forge mdanalysis mdanalysistests mdanalysisdata nglview scikit-learn ipywidgets=7.6.0"
   ]
  },
  {
   "cell_type": "code",
   "execution_count": null,
   "id": "219f7065-cb11-4ba5-ba4f-49e59b8f6aa9",
   "metadata": {},
   "outputs": [],
   "source": [
    "# enable third party jupyter widgets\n",
    "from google.colab import output\n",
    "output.enable_custom_widget_manager()"
   ]
  },
  {
   "cell_type": "code",
   "execution_count": null,
   "id": "b355b46c-71a4-49d4-bc73-ef743f25a847",
   "metadata": {},
   "outputs": [],
   "source": [
    "!if [ -n \"$COLAB_RELEASE_TAG\" ]; then git clone https://github.com/CCPBioSim/CCP5_Simulation_of_BioMolecules; fi\n",
    "import os\n",
    "os.chdir(f\"CCP5_Simulation_of_BioMolecules{os.sep}4_Analysis_MDAnalysis\")"
   ]
  },
  {
   "cell_type": "markdown",
   "id": "3d12646a-486f-43b8-aaee-76157acd66cf",
   "metadata": {},
   "source": [
    "## Jupyter cheat sheet\n",
    "\n",
    "- to run the currently highlighted cell, hold <kbd>&#x21E7; Shift</kbd> and press <kbd>&#x23ce; Enter</kbd>;\n",
    "- to get help for a specific function, place the cursor within the function's brackets, hold <kbd>&#x21E7; Shift</kbd>, and press <kbd>&#x21E5; Tab</kbd>;"
   ]
  },
  {
   "cell_type": "markdown",
   "id": "1d143168-1643-4caa-907e-15c87cdfb52d",
   "metadata": {},
   "source": [
    "<div class=\"alert alert-warning\"><b> REMEMBER: variables persist between cells</b> \n",
    "    \n",
    "Be aware that it is the order of execution of cells that is important in a Jupyter notebook, not the <em>order</em> in which they appear. Python will remember <em>all</em> the code that was run previously, including any variables you have defined, irrespective of the order in the notebook. Therefore if you define variables lower down the notebook and then (re)run cells further up, those defined further down will still be present. </div> "
   ]
  },
  {
   "cell_type": "markdown",
   "id": "fe8671d2-93ec-4fb3-b733-a6d47f818a2b",
   "metadata": {},
   "source": [
    "## Introduction"
   ]
  },
  {
   "cell_type": "markdown",
   "id": "0e970ea9-499e-463c-8912-d654db8fa4f4",
   "metadata": {},
   "source": [
    "This Jupyter notebook produces the plot presented in the Lecture slides. To this end, we will analyse the MD simulation produced in: [M. T. Degiacomi and M. Dal Peraro, \"Macromolecular Symmetric Assembly Prediction Using Swarm Intelligence\n",
    "Dynamic Modeling\", Structure 21, 1097 (2013)](https://www.cell.com/structure/fulltext/S0969-2126(13)00196-2?_returnURL=https%3A%2F%2Flinkinghub.elsevier.com%2Fretrieve%2Fpii%2FS0969212613001962%3Fshowall%3Dtrue). Let's start by importing the packages we need."
   ]
  },
  {
   "cell_type": "code",
   "execution_count": null,
   "id": "70705ece-c1f7-461a-9252-e02f24bfaef4",
   "metadata": {},
   "outputs": [],
   "source": [
    "import os\n",
    "import numpy as np\n",
    "import numpy.linalg\n",
    "import matplotlib.pyplot as plt\n",
    "import MDAnalysis as mda\n",
    "from MDAnalysis.analysis import rms, align, diffusionmap"
   ]
  },
  {
   "cell_type": "markdown",
   "id": "7b36a4d1-1988-4aad-8af7-e25b287e9a7e",
   "metadata": {},
   "source": [
    "Now, let's create an MDAnalysis <code>Universe</code>. To keep the data size small, we will loaded a downsampled version of the trajectory (1 frame every 2 ns). In the slides, we had a simulation sampled every 1 ns."
   ]
  },
  {
   "cell_type": "code",
   "execution_count": null,
   "id": "bf4d7de7-e500-42fc-bea9-d709f9c8e7f3",
   "metadata": {},
   "outputs": [],
   "source": [
    "u = mda.Universe(f\"..{os.sep}data{os.sep}p24_formatted.pdb\")"
   ]
  },
  {
   "cell_type": "markdown",
   "id": "30b29017-8118-4ea9-9476-b0471cfb10c0",
   "metadata": {},
   "source": [
    "## Root Mean Square Deviations (RMSD)"
   ]
  },
  {
   "cell_type": "markdown",
   "id": "47d163d5-4f5c-4397-9610-e26a38e3bae5",
   "metadata": {},
   "source": [
    "Let's demonstrate how the time evolution of RMSD with respect to the first frame changes with different alignments and atoms of interest."
   ]
  },
  {
   "cell_type": "code",
   "execution_count": null,
   "id": "866ebf63-c1cf-436e-8437-89813c1c557c",
   "metadata": {},
   "outputs": [],
   "source": [
    "# RMSD by aligning the protein w.r.t. whole protein\n",
    "R_all = rms.RMSD(u, u, select=\"backbone\", groupselections=[\"backbone and resid 1-136\", \"backbone and not resid 1-136\"])\n",
    "R_all.run()\n",
    "\n",
    "# RMSD by aligning the protein w.r.t. Domain 1 (residues 1 to 136)\n",
    "R_D1 = rms.RMSD(u, u, select=\"backbone and resid 1-136\", groupselections=[\"backbone\", \"backbone and not resid 1-136\"])\n",
    "R_D1.run()\n",
    "\n",
    "# RMSD by aligning the protein w.r.t. Domain 2 (not residues 1 136)\n",
    "R_D2 = rms.RMSD(u, u, select=\"backbone and not resid 1-136\", groupselections=[\"backbone and resid 1-136\", \"backbone\"])\n",
    "R_D2.run()"
   ]
  },
  {
   "cell_type": "code",
   "execution_count": null,
   "id": "433e74fa-96bc-4be9-bbd4-297aca1838a7",
   "metadata": {},
   "outputs": [],
   "source": [
    "fig = plt.figure(figsize=(14, 4))\n",
    "\n",
    "# plot RMSDs after backbone alignment\n",
    "rmsd = R_all.results.rmsd.T\n",
    "time = rmsd[1]*2 # note: conformations in multi-PDB are separated by 1ns step\n",
    "ax1 = fig.add_subplot(131)\n",
    "ax1.plot(time, rmsd[2], '-', c=\"gray\", label=\"all\")\n",
    "ax1.plot(time, rmsd[3], '-', c=\"mediumblue\", label=\"Domain 1\")\n",
    "ax1.plot(time, rmsd[4], '-', c=\"deepskyblue\", label=\"Domain 2\")\n",
    "ax1.legend(loc=\"best\", frameon=False)\n",
    "ax1.set_xlabel(\"time (ns)\")\n",
    "ax1.set_ylabel(r\"RMSD ($\\AA$)\")\n",
    "ax1.set_title(\"align all\")\n",
    "ax1.set_xlim([0, 1000])\n",
    "ax1.set_ylim([0, 16])\n",
    "\n",
    "# plot RMSDs after Domain 1 alignment\n",
    "rmsd = R_D1.results.rmsd.T\n",
    "ax2 = fig.add_subplot(132)\n",
    "ax2.plot(time, rmsd[3], '-', c=\"gray\", label=\"all\")\n",
    "ax2.plot(time, rmsd[2], '-', c=\"mediumblue\", label=\"Domain 1\")\n",
    "ax2.plot(time, rmsd[4], '-', c=\"deepskyblue\", label=\"Domain 2\")\n",
    "ax2.legend(loc=\"best\", frameon=False)\n",
    "ax2.set_xlabel(\"time (ns)\")\n",
    "ax2.set_title(\"align Domain 1\")\n",
    "ax2.set_xlim([0, 1000])\n",
    "ax2.set_ylim([0, 42])\n",
    "\n",
    "# plot RMSDs after Domain 2 alignment\n",
    "rmsd = R_D2.results.rmsd.T\n",
    "ax3 = fig.add_subplot(133)\n",
    "ax3.plot(time, rmsd[4], '-', c=\"gray\", label=\"all\")\n",
    "ax3.plot(time, rmsd[3], '-', c=\"mediumblue\", label=\"Domain 1\")\n",
    "ax3.plot(time, rmsd[2], '-', c=\"deepskyblue\", label=\"Domain 2\")\n",
    "ax3.legend(loc=\"best\", frameon=False)\n",
    "ax3.set_xlabel(\"time (ns)\")\n",
    "ax3.set_title(\"align Domain 2\")\n",
    "ax3.set_xlim([0, 1000])\n",
    "ax3.set_ylim([0, 54])\n",
    "\n",
    "plt.tight_layout()\n",
    "fig.savefig(\"rmsd_p24.pdf\")\n",
    "fig.savefig(\"rmsd_p24.png\")"
   ]
  },
  {
   "cell_type": "markdown",
   "id": "eb99eb0f-fc8a-4a2a-b74b-f575b26bbc07",
   "metadata": {},
   "source": [
    "For the first slide on RMSD, let's also plot only a single RMSD profile"
   ]
  },
  {
   "cell_type": "code",
   "execution_count": null,
   "id": "e45bee32-7395-4025-bc4b-4675186175cc",
   "metadata": {},
   "outputs": [],
   "source": [
    "rmsd = R_all.results.rmsd.T\n",
    "fig = plt.figure(figsize=(6, 4))\n",
    "ax1 = fig.add_subplot(111)\n",
    "ax1.plot(time, rmsd[2], '-', c=\"steelblue\")\n",
    "ax1.set_xlabel(\"time (ns)\")\n",
    "ax1.set_ylabel(r\"RMSD ($\\AA$)\")\n",
    "\n",
    "ax1.set_xlim([-10, 1000])\n",
    "ax1.set_ylim([0, 12])\n",
    "fig.savefig(\"rmsd_single.pdf\")\n",
    "fig.savefig(\"rmsd_single.png\")"
   ]
  },
  {
   "cell_type": "markdown",
   "id": "408d030b-a5c6-446f-9840-bf67820e6443",
   "metadata": {},
   "source": [
    "## pairwise RMSD"
   ]
  },
  {
   "cell_type": "code",
   "execution_count": null,
   "id": "16b49951-9a34-41f0-889d-946ae2b3892a",
   "metadata": {},
   "outputs": [],
   "source": [
    "aligner = align.AlignTraj(u, u, select='name CA', in_memory=True).run()\n",
    "matrix = diffusionmap.DistanceMatrix(u, select='name CA').run()"
   ]
  },
  {
   "cell_type": "code",
   "execution_count": null,
   "id": "ac66d222-06f3-4a47-b75b-6ec95abe712b",
   "metadata": {},
   "outputs": [],
   "source": [
    "plt.imshow(matrix.results.dist_matrix[:500, :500], cmap='viridis', origin=\"lower\", vmax=16)\n",
    "plt.xlabel('time (ns)')\n",
    "plt.ylabel('time (ns)')\n",
    "plt.colorbar(label=r'RMSD ($\\AA$)')\n",
    "\n",
    "plt.savefig(\"pairwise_all.png\")\n",
    "plt.savefig(\"pairwise_all.pdf\")"
   ]
  },
  {
   "cell_type": "markdown",
   "id": "9d30c163-f7a7-489a-b9fe-06608d9cd245",
   "metadata": {},
   "source": [
    "## Root Mean Square Fluctuations (RMSF)"
   ]
  },
  {
   "cell_type": "markdown",
   "id": "e4e4c72a-4255-4fd2-8ecf-502d212c697b",
   "metadata": {},
   "source": [
    "We start by defining a function that aligns the trajectory and calculates the RMSF of a selection of interest."
   ]
  },
  {
   "cell_type": "code",
   "execution_count": null,
   "id": "028c919b-1205-46e6-aa47-19da54f6e886",
   "metadata": {},
   "outputs": [],
   "source": [
    "def get_RMSF(u, select, rmsd_atoms):\n",
    "\n",
    "    protein = u.select_atoms(\"protein\")\n",
    "    \n",
    "    # Fit to the initial frame to get a better average structure (the trajectory is changed in memory)\n",
    "    prealigner = align.AlignTraj(u, u, select=select, in_memory=True).run()\n",
    "    # ref = average structure\n",
    "    ref_coordinates = u.trajectory.timeseries(asel=protein).mean(axis=1)\n",
    "    # Make a reference structure (need to reshape into a 1-frame \"trajectory\").\n",
    "    ref = mda.Merge(protein).load_new(ref_coordinates[:, None, :], order=\"afc\")\n",
    "    \n",
    "    aligner = align.AlignTraj(u, ref, select=select,  in_memory=True).run()\n",
    "    # need to write the trajectory to disk for PMDA 0.3.0 (see issue #15)\n",
    "    with mda.Writer(\"rmsfit.xtc\", n_atoms=u.atoms.n_atoms) as W:\n",
    "        for ts in u.trajectory:\n",
    "            W.write(u.atoms)\n",
    "    \n",
    "    u = mda.Universe(\"rmsfit.xtc\")\n",
    "    atoms = protein.select_atoms(rmsd_atoms)\n",
    "    \n",
    "    return rms.RMSF(calphas).run()"
   ]
  },
  {
   "cell_type": "markdown",
   "id": "e1f137da-462b-43e5-9c39-44a0826ce4be",
   "metadata": {},
   "source": [
    "Now we can call our function using different selections."
   ]
  },
  {
   "cell_type": "code",
   "execution_count": null,
   "id": "9ea488ad-962a-45bf-beae-fb04838c1ba3",
   "metadata": {},
   "outputs": [],
   "source": [
    "calphas = u.select_atoms(\"protein and name CA\")\n",
    "rmsfer_all = get_RMSF(u, \"protein and name CA\", \"protein and name CA\")\n",
    "rmsfer_D1 = get_RMSF(u, \"protein and name CA and resid 1-136\", \"protein and name CA\")\n",
    "rmsfer_D2 = get_RMSF(u, \"protein and name CA and not resid 1-136\", \"protein and name CA\")"
   ]
  },
  {
   "cell_type": "markdown",
   "id": "8f0de0a9-2300-41ae-869b-78519ce1baeb",
   "metadata": {},
   "source": [
    "Now, let's plot!"
   ]
  },
  {
   "cell_type": "code",
   "execution_count": null,
   "id": "492aec5e-cf43-4732-85fb-d25a2e540201",
   "metadata": {},
   "outputs": [],
   "source": [
    "fig = plt.figure()\n",
    "ax = fig.add_subplot(111)\n",
    "ax.plot(calphas.resnums, rmsfer_all.results.rmsf, c=\"gray\", label=\"all\")\n",
    "\n",
    "ax.set_xlabel(\"resid (#)\")\n",
    "ax.set_ylabel(\"RMSF ($\\AA$)\")\n",
    "ax.set_xlim([0, 210])\n",
    "ax.set_ylim([0, 13])\n",
    "ax.legend(frameon=False)\n",
    "\n",
    "fig.savefig(\"rmsf_p24_all.pdf\")\n",
    "fig.savefig(\"rmsf_p24_all.png\")\n",
    "\n",
    "ax.plot(calphas.resnums[0:136], rmsfer_D1.results.rmsf[0:136], c=\"mediumblue\", label=\"Domain 1\")\n",
    "ax.plot(calphas.resnums[136:], rmsfer_D2.results.rmsf[136:], c=\"deepskyblue\", label=\"Domain 2\")\n",
    "ax.legend(frameon=False)\n",
    "\n",
    "fig.savefig(\"rmsf_p24.pdf\")\n",
    "fig.savefig(\"rmsf_p24.png\")"
   ]
  },
  {
   "cell_type": "markdown",
   "id": "453510f6-2bd4-4856-a871-3c28bafd4f49",
   "metadata": {},
   "source": [
    "## Radius of gyration and end-to-end distance"
   ]
  },
  {
   "cell_type": "code",
   "execution_count": null,
   "id": "c718ec9e-4ab1-4a33-bdfd-cd896d3dbd45",
   "metadata": {},
   "outputs": [],
   "source": [
    "#u = mda.Universe(\"trajectory_formatted.pdb\")\n",
    "nterm = u.select_atoms('name N')[0]\n",
    "cterm = u.select_atoms('name C')[-1]\n",
    "bb = u.select_atoms('protein')\n",
    "\n",
    "dist = []\n",
    "rg = []\n",
    "for ts in u.trajectory:     # iterate through all frames\n",
    "    r = cterm.position - nterm.position # end-to-end vector from atom positions\n",
    "    d = numpy.linalg.norm(r)  # end-to-end distance\n",
    "    rgyr = bb.radius_of_gyration()  # method of AtomGroup\n",
    "    print(\"frame = {0}: d = {1} A, Rgyr = {2} A\".format(ts.frame, d, rgyr))\n",
    "    dist.append(d)\n",
    "    rg.append(rgyr)"
   ]
  },
  {
   "cell_type": "code",
   "execution_count": null,
   "id": "6c272aa6-67b1-43be-b219-ba2918bd512e",
   "metadata": {},
   "outputs": [],
   "source": [
    "fig, (ax1, ax2) = plt.subplots(nrows=2, sharex=True, figsize=(5, 7))\n",
    "\n",
    "ax1.plot(time, rg, c=\"firebrick\")\n",
    "ax2.plot(time, dist, c=\"firebrick\")\n",
    "\n",
    "ax2.set_xlabel(\"time (ns)\")\n",
    "ax1.set_ylabel(\"Rgyr ($\\AA$)\")\n",
    "ax2.set_ylabel(\"end-to-end distance ($\\AA$)\")\n",
    "ax1.set_xlim([0, 1000])\n",
    "\n",
    "plt.subplots_adjust(hspace=0)\n",
    "\n",
    "fig.savefig(\"rg_dist_p24.pdf\")\n",
    "fig.savefig(\"rg_dist_p24.png\")"
   ]
  },
  {
   "cell_type": "markdown",
   "id": "86865f4e-ea12-4fda-860d-99ba2f250daf",
   "metadata": {},
   "source": [
    "## Hydrogen bonds"
   ]
  },
  {
   "cell_type": "markdown",
   "id": "ecae01ea-b687-43ac-ae3c-3b86d37a4859",
   "metadata": {},
   "source": [
    "The function below can work the hydrogen bonds in your protein. Can you work out how to use it?"
   ]
  },
  {
   "cell_type": "code",
   "execution_count": null,
   "id": "1657a552-0442-4c57-a25a-f1bc019c30e1",
   "metadata": {},
   "outputs": [],
   "source": [
    "def hbonds(hydrogens, acceptors):\n",
    "    \n",
    "    \"\"\" this function calculates hydrogen bonds \"\"\"\n",
    "    \n",
    "    acc_idx, hyd_idx = idx.T\n",
    "    \n",
    "    idx, dists = mda.lib.distances.capped_distance(acceptors.positions, \n",
    "                                                   hydrogens.positions, \n",
    "                                                   max_cutoff=3.0,\n",
    "                                                   box=acceptors.dimensions)    \n",
    "\n",
    "    \n",
    "    acc_idx, hyd_idx = idx.T\n",
    "\n",
    "    # select potential hydrogen bonds to check angles\n",
    "    potential_hbond_acceptors = acceptors[acc_idx]\n",
    "    potential_hbond_hydrogens = hydrogens[hyd_idx]\n",
    "\n",
    "    # select hydrogen bond donors by looping over hydrogens and selecting the bonded oxygens\n",
    "    potential_hbond_donors = sum(h.bonded_atoms[0] for h in potential_hbond_hydrogens)\n",
    "    \n",
    "    angles = mda.lib.distances.calc_angles(potential_hbond_acceptors.positions,\n",
    "                                  potential_hbond_hydrogens.positions,\n",
    "                                  potential_hbond_donors.positions, \n",
    "                                  box=u.dimensions)\n",
    "    #convert to degrees\n",
    "    angles = np.rad2deg(angles)\n",
    "    \n",
    "    #check angles are larger than 130 degrees\n",
    "    angle_idx = np.where(angles >= 130.0)\n",
    "    \n",
    "    hbond_acceptors = potential_hbond_acceptors[angle_idx]\n",
    "    hbond_hydrogens = potential_hbond_hydrogens[angle_idx]\n",
    "    hbond_donors = potential_hbond_donors[angle_idx]\n",
    "    \n",
    "    return hbond_acceptors, hbond_hydrogens, hbond_donors"
   ]
  },
  {
   "cell_type": "code",
   "execution_count": null,
   "id": "0f7002d1-05a0-473c-93eb-384676f12848",
   "metadata": {},
   "outputs": [],
   "source": [
    "# Try using the hbonds function here!\n",
    "\n"
   ]
  },
  {
   "cell_type": "markdown",
   "id": "960746cd-7b96-4f92-82ed-608e23dea2d7",
   "metadata": {},
   "source": [
    "---"
   ]
  }
 ],
 "metadata": {
  "kernelspec": {
   "display_name": "Python 3 (ipykernel)",
   "language": "python",
   "name": "python3"
  },
  "language_info": {
   "codemirror_mode": {
    "name": "ipython",
    "version": 3
   },
   "file_extension": ".py",
   "mimetype": "text/x-python",
   "name": "python",
   "nbconvert_exporter": "python",
   "pygments_lexer": "ipython3",
   "version": "3.11.6"
  }
 },
 "nbformat": 4,
 "nbformat_minor": 5
}
