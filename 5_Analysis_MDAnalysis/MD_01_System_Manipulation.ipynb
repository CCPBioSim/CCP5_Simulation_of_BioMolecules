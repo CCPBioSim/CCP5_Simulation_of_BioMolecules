{
 "cells": [
  {
   "cell_type": "markdown",
   "metadata": {},
   "source": [
    "# Manipulating Molecular Simulation Data with MDAnalysis"
   ]
  },
  {
   "cell_type": "markdown",
   "metadata": {},
   "source": [
    "<a rel=\"license\" href=\"http://creativecommons.org/licenses/by/4.0/\"><img alt=\"Creative Commons Licence\" style=\"border-width:0\" src=\"https://i.creativecommons.org/l/by/4.0/88x31.png\" title='This work is licensed under a Creative Commons Attribution 4.0 International License.' align=\"right\"/></a>\n",
    "**Authors**:\n",
    "\n",
    "- *Creation*: Dr Micaela Matta (micaela.matta@kcl.ac.uk), Dr Richard Gowers (richardjgowers@gmail.com), Dr Irfan Alibay (ialibay@gmail.com)\n",
    "- *Updates*: Dr Antonia Mey (antonia.mey@ed.ac.uk), Dr Matteo Degiacomi (matteo.t.degiacomi@durham.ac.uk)\n",
    "\n",
    "This notebook is adapted from materials developed for the [2022 CCPBioSim Workshop](https://github.com/MDAnalysis/WorkshopMDMLEdinburgh2022), which was in turn adapted from the [2021 PRACE Workshop](https://github.com/MDAnalysis/WorkshopPrace2021) and the [2018 Workshop/Hackathon](https://github.com/MDAnalysis/WorkshopHackathon2018)."
   ]
  },
  {
   "cell_type": "markdown",
   "metadata": {},
   "source": [
    "## Google Colab setup\n",
    "<div class=\"alert alert-warning\">\n",
    "<b>Attention:</b> Please only run the following cells if you are using Colab! These cells install necessary packages and download data.</div>"
   ]
  },
  {
   "cell_type": "code",
   "execution_count": null,
   "metadata": {},
   "outputs": [],
   "source": [
    "!if [ -n \"$COLAB_RELEASE_TAG\" ]; then pip install condacolab; fi\n",
    "import condacolab\n",
    "condacolab.install()\n",
    "\n",
    "import condacolab\n",
    "!mamba install -c conda-forge mdanalysis mdanalysistests mdanalysisdata nglview scikit-learn ipywidgets=7.6.0"
   ]
  },
  {
   "cell_type": "code",
   "execution_count": null,
   "metadata": {},
   "outputs": [],
   "source": [
    "# enable third party jupyter widgets\n",
    "from google.colab import output\n",
    "output.enable_custom_widget_manager()"
   ]
  },
  {
   "cell_type": "code",
   "execution_count": null,
   "metadata": {},
   "outputs": [],
   "source": [
    "!if [ -n \"$COLAB_RELEASE_TAG\" ]; then git clone https://github.com/CCPBioSim/CCP5_Simulation_of_BioMolecules; fi\n",
    "import os\n",
    "os.chdir(f\"CCP5_Simulation_of_BioMolecules{os.sep}5_Analysis_MDAnalysis\")"
   ]
  },
  {
   "cell_type": "markdown",
   "metadata": {},
   "source": [
    "## Jupyter cheat sheet\n",
    "- to run the currently highlighted cell, hold <kbd>&#x21E7; Shift</kbd> and press <kbd>&#x23ce; Enter</kbd>;\n",
    "- to get help for a specific function, place the cursor within the function's brackets, hold <kbd>&#x21E7; Shift</kbd>, and press <kbd>&#x21E5; Tab</kbd>;"
   ]
  },
  {
   "cell_type": "markdown",
   "metadata": {},
   "source": [
    "<div class=\"alert alert-warning\"><b> REMEMBER: variables persist between cells</b> \n",
    "    \n",
    "Be aware that it is the order of execution of cells that is important in a Jupyter notebook, not the <em>order</em> in which they appear. Python will remember <em>all</em> the code that was run previously, including any variables you have defined, irrespective of the order in the notebook. Therefore if you define variables lower down the notebook and then (re)run cells further up, those defined further down will still be present. </div> "
   ]
  },
  {
   "cell_type": "markdown",
   "metadata": {},
   "source": [
    "## Learning outcomes\n",
    "* How to load your molecular simulation data into MDAnalysis\n",
    "* Basic features of the `MDAnalysis.Universe`\n",
    "* Visualise your simulation data with `nglview`\n",
    "* Working with `AtomGroup`s\n",
    "* Select atoms of interest using `select_atoms`\n",
    "* Selecting bonds\n",
    "\n",
    "\n",
    "**This notebook introduces the fundamental objects of `MDAnalysis`:**\n",
    "\n",
    " - the `Universe`,\n",
    " - `AtomGroup`, and `Atom` objects.\n",
    " - selecting and manipulating `AtomGroup`s\n",
    " - `Residue`s and `Segment`s\n",
    " - `Bond` `Angle` and `Dihedral`\n",
    "\n",
    "\n",
    "**Additional resources**\n",
    " - For more on how to use MDAnalysis, see the [User Guide](https://userguide.mdanalysis.org/2.0.0-dev0/) and [documentation](https://docs.mdanalysis.org/2.0.0-dev0/)\n",
    " - Ask questions on the [user mailing list](https://groups.google.com/group/mdnalysis-discussion) or on [Discord](https://discord.gg/fXTSfDJyxE)\n",
    " - Report bugs on [GitHub](https://github.com/MDAnalysis/mdanalysis/issues?)"
   ]
  },
  {
   "cell_type": "markdown",
   "metadata": {},
   "source": [
    "## Table of Contents\n",
    "\n",
    "1. [Fundamental MDAnalysis objects](#fundamentals)  \n",
    "2. [Selecting Atoms](#selections)    \n",
    "3. [Visualising systems](#visualisation)     \n",
    "4. [Bonds, angles and dihedrals](#bonds)\n",
    "5. [Transformations](#transformations)"
   ]
  },
  {
   "cell_type": "markdown",
   "metadata": {},
   "source": [
    "<a id='fundamentals'></a>\n",
    "# 1. Fundamental MDAnalysis objects\n",
    "\n",
    "\n",
    "## Universe loading 101\n",
    "\n",
    "> \"*If you wish to make an apple pie from scratch, you must first invent the Universe.*\" \n",
    "> ~ Carl Sagan\n",
    "\n",
    "First, we need to import `MDAnalysis`, giving us access to all the components in its namespace:"
   ]
  },
  {
   "cell_type": "code",
   "execution_count": null,
   "metadata": {},
   "outputs": [],
   "source": [
    "import MDAnalysis as mda"
   ]
  },
  {
   "cell_type": "markdown",
   "metadata": {},
   "source": [
    "One of the most fundamental objects in the `MDAnalysis` data model is the `Universe` object.\n",
    "A `Universe` can be thought of as an interface to all the data of a simulation;\n",
    "it contains all of a simulations' topology information (names, charges, masses etc) at the least,\n",
    "but usually also includes trajectory information (positions, velocities, etc.) as well.\n",
    "\n",
    "In order to do anything, we do need some actual molecular dynamics data to work with. Let's load an example (the protein adenylate kinase, or AdK) from the MDAnalysis tests data:"
   ]
  },
  {
   "cell_type": "code",
   "execution_count": null,
   "metadata": {},
   "outputs": [],
   "source": [
    "from MDAnalysis.tests.datafiles import PSF, DCD"
   ]
  },
  {
   "cell_type": "markdown",
   "metadata": {},
   "source": [
    "To make a `Universe`, we need at the very least a topology file - see the [topology readers](https://docs.mdanalysis.org/2.0.0-dev0/documentation_pages/topology/init.html) documentation for a list of supported file formats. \n",
    "\n",
    "Since the type of topology file we're using in this example (a PSF file) doesn't contain coordinates, we'll also need to load a trajectory file (in this case a DCD file) so we have some position data to work with later. You'll learn more about working with trajectories in the next session. \n"
   ]
  },
  {
   "cell_type": "code",
   "execution_count": null,
   "metadata": {},
   "outputs": [],
   "source": [
    "u = mda.Universe(PSF, DCD)\n",
    "\n",
    "print(u)"
   ]
  },
  {
   "cell_type": "markdown",
   "metadata": {},
   "source": [
    "## AtomGroups"
   ]
  },
  {
   "cell_type": "markdown",
   "metadata": {},
   "source": [
    "We now have a `Universe` object. Since the topology (PSF) file we loaded contained both atom identities and bond information, the `Universe` is able to access these details.\n",
    "\n"
   ]
  },
  {
   "cell_type": "markdown",
   "metadata": {},
   "source": [
    "We can access all atoms in the `Universe` through the `Universe.atoms` attribute.\n",
    "This returns an `AtomGroup`, which is probably the most important class we will learn about."
   ]
  },
  {
   "cell_type": "code",
   "execution_count": null,
   "metadata": {},
   "outputs": [],
   "source": [
    "ag = u.atoms\n",
    "type(ag)"
   ]
  },
  {
   "cell_type": "markdown",
   "metadata": {},
   "source": [
    "An `AtomGroup` is like an array of atoms, and offers access to the data of these atoms through various attributes:"
   ]
  },
  {
   "cell_type": "code",
   "execution_count": null,
   "metadata": {},
   "outputs": [],
   "source": [
    "ag.indices"
   ]
  },
  {
   "cell_type": "code",
   "execution_count": null,
   "metadata": {},
   "outputs": [],
   "source": [
    "ag.names"
   ]
  },
  {
   "cell_type": "code",
   "execution_count": null,
   "metadata": {},
   "outputs": [],
   "source": [
    "ag.resnames"
   ]
  },
  {
   "cell_type": "code",
   "execution_count": null,
   "metadata": {},
   "outputs": [],
   "source": [
    "ag.resids"
   ]
  },
  {
   "cell_type": "code",
   "execution_count": null,
   "metadata": {},
   "outputs": [],
   "source": [
    "ag.charges"
   ]
  },
  {
   "cell_type": "code",
   "execution_count": null,
   "metadata": {},
   "outputs": [],
   "source": [
    "ag.masses"
   ]
  },
  {
   "cell_type": "code",
   "execution_count": null,
   "metadata": {},
   "outputs": [],
   "source": [
    "ag.types"
   ]
  },
  {
   "cell_type": "markdown",
   "metadata": {},
   "source": [
    "All of these attributes of an `AtomGroup` return numpy arrays of the same length as the `AtomGroup` itself;\n",
    "that is, each element corresponds to each atom in the `AtomGroup`, in order."
   ]
  },
  {
   "cell_type": "code",
   "execution_count": null,
   "metadata": {},
   "outputs": [],
   "source": [
    "print(ag.n_atoms)\n",
    "print(len(ag.names))"
   ]
  },
  {
   "cell_type": "markdown",
   "metadata": {},
   "source": [
    "In general, `MDAnalysis` will try and extract as much information as possible from the files given to `Universe`. The [topology readers](https://docs.mdanalysis.org/2.0.0-dev0/documentation_pages/topology/init.html) documentation lists the attributes that are extracted from each filetype."
   ]
  },
  {
   "cell_type": "markdown",
   "metadata": {},
   "source": [
    "## Working with individual atoms\n",
    "\n",
    "By slicing an `AtomGroup` we can access individual `Atom` objects.\n",
    "These `Atom` objects will have singular versions of the various attributes of `AtomGroup`s.\n",
    "\n",
    "In general working with individual `Atom` objects is discouraged as it is inefficient and will lead to poor performance."
   ]
  },
  {
   "cell_type": "code",
   "execution_count": null,
   "metadata": {},
   "outputs": [],
   "source": [
    "u = mda.Universe(PSF, DCD)\n",
    "a = u.atoms[0]\n",
    "print(a)"
   ]
  },
  {
   "cell_type": "code",
   "execution_count": null,
   "metadata": {},
   "outputs": [],
   "source": [
    "print(\"name:\", a.name)\n",
    "print(\"resid:\", a.resid)\n",
    "print(\"resname:\", a.resname)"
   ]
  },
  {
   "cell_type": "markdown",
   "metadata": {},
   "source": [
    "## ResidueGroups and SegmentGroups"
   ]
  },
  {
   "cell_type": "markdown",
   "metadata": {},
   "source": [
    "The `Universe` also gives higher-order topology objects, including `ResidueGroups` and `SegmentGroups`. We can access all residues in the `Universe` with:"
   ]
  },
  {
   "cell_type": "code",
   "execution_count": null,
   "metadata": {},
   "outputs": [],
   "source": [
    "u.residues"
   ]
  },
  {
   "cell_type": "markdown",
   "metadata": {},
   "source": [
    "And all segments with:"
   ]
  },
  {
   "cell_type": "code",
   "execution_count": null,
   "metadata": {},
   "outputs": [],
   "source": [
    "u.segments"
   ]
  },
  {
   "cell_type": "markdown",
   "metadata": {},
   "source": [
    "`ResidueGroups` and `SegmentGroups` also behave similarly to `AtomGroups`, with many of their methods returning `numpy` arrays with each element corresponding to a single residue or segment, respectively."
   ]
  },
  {
   "cell_type": "code",
   "execution_count": null,
   "metadata": {},
   "outputs": [],
   "source": [
    "u.residues.resnames"
   ]
  },
  {
   "cell_type": "code",
   "execution_count": null,
   "metadata": {},
   "outputs": [],
   "source": [
    "u.segments.segids"
   ]
  },
  {
   "cell_type": "markdown",
   "metadata": {},
   "source": [
    "You can also create a `ResidueGroup` from an `AtomGroup`:"
   ]
  },
  {
   "cell_type": "code",
   "execution_count": null,
   "metadata": {},
   "outputs": [],
   "source": [
    "ag.residues"
   ]
  },
  {
   "cell_type": "markdown",
   "metadata": {},
   "source": [
    "<div class=\"alert alert-success\">\n",
    "<b>Task 1a: </b> Load the GRO topology file from `MDAnalysis.tests.datafiles` and count how many atoms, residues and segments it contains.\n",
    "</div>"
   ]
  },
  {
   "cell_type": "code",
   "execution_count": null,
   "metadata": {},
   "outputs": [],
   "source": [
    "# Task 1a\n"
   ]
  },
  {
   "cell_type": "markdown",
   "metadata": {
    "solution2": "hidden",
    "solution2_first": true
   },
   "source": [
    "<details>\n",
    "<summary> <mark> Solution: </mark> </summary>\n",
    "\n",
    "```Python\n",
    "\n",
    "from MDAnalysis.tests.datafiles import GRO\n",
    "u_gro = mda.Universe(GRO)\n",
    "print('Atoms: ', u_gro.atoms.n_atoms)\n",
    "print('Residues: ', u_gro.residues.n_residues)\n",
    "print('Segments: ', u_gro.segments.n_segments)\n",
    "\n",
    "```\n",
    "</details>"
   ]
  },
  {
   "cell_type": "markdown",
   "metadata": {},
   "source": [
    "<div class=\"alert alert-success\">\n",
    "<b>Task 1b: </b>  From the above universe, find the name of the:\n",
    "    <ul>\n",
    "    <li>first segment</li>\n",
    "    <li>last atom</li>\n",
    "    <li>10th residue</li>\n",
    "    </ul>\n",
    "</div>\n"
   ]
  },
  {
   "cell_type": "code",
   "execution_count": null,
   "metadata": {},
   "outputs": [],
   "source": [
    "# Task 1b\n"
   ]
  },
  {
   "cell_type": "markdown",
   "metadata": {
    "solution2": "hidden",
    "solution2_first": true
   },
   "source": [
    "<details>\n",
    "<summary> <mark> Solution: </mark> </summary>\n",
    "\n",
    "```Python\n",
    "\n",
    "print('First segment:', u_gro.segments[0].segid)\n",
    "print('Last atom: ', u_gro.atoms[-1].name)\n",
    "print('10th residue: ', u_gro.residues[9].resname)\n",
    "\n",
    "```\n",
    "</details>"
   ]
  },
  {
   "cell_type": "markdown",
   "metadata": {},
   "source": [
    "<a id='selections'></a>\n",
    "# 2. Selecting atoms\n",
    "\n",
    "It is also rare that we want to operate on all atoms in the system!\n",
    "\n",
    "`MDAnalysis` offers a few different ways to select atoms,\n",
    "in this section we will go over the most useful methods."
   ]
  },
  {
   "cell_type": "markdown",
   "metadata": {},
   "source": [
    "## Numpy style selections\n",
    "\n",
    "As previously mentioned, an `AtomGroup` is like an array of atoms,\n",
    "and therefore we can slice it exactly like we would slice a `numpy` array.\n",
    "\n",
    "### Fancy indexing\n",
    "\n",
    "The simplest option to select specific atom is to use fancy indexing. You can specify the atoms in a list"
   ]
  },
  {
   "cell_type": "code",
   "execution_count": null,
   "metadata": {},
   "outputs": [],
   "source": [
    "u = mda.Universe(PSF, DCD)\n",
    "u.atoms[[1, 4, 5 , 0]]"
   ]
  },
  {
   "cell_type": "markdown",
   "metadata": {},
   "source": [
    "or as a range"
   ]
  },
  {
   "cell_type": "code",
   "execution_count": null,
   "metadata": {},
   "outputs": [],
   "source": [
    "u.atoms[1:10]"
   ]
  },
  {
   "cell_type": "markdown",
   "metadata": {},
   "source": [
    "### Boolean indexing\n",
    "\n",
    "You can also create an array with `True`/`False` values of the same length as the `AtomGroup`. Every atom for which the array is set to `True` will be selected.\n",
    "\n",
    "We can create such a boolean array by doing a comparison of a `numpy` array:"
   ]
  },
  {
   "cell_type": "code",
   "execution_count": null,
   "metadata": {},
   "outputs": [],
   "source": [
    "selection_ar = u.atoms.resnames == 'GLY'\n",
    "print(\"selection array = \", selection_ar)\n",
    "u.atoms[selection_ar]"
   ]
  },
  {
   "cell_type": "markdown",
   "metadata": {},
   "source": [
    "or shorter:"
   ]
  },
  {
   "cell_type": "code",
   "execution_count": null,
   "metadata": {},
   "outputs": [],
   "source": [
    "u.atoms[u.atoms.resnames == 'GLY']"
   ]
  },
  {
   "cell_type": "markdown",
   "metadata": {},
   "source": [
    "We can also do this with `ResidueGroup`s and `SegmentGroup`s, e.g.:"
   ]
  },
  {
   "cell_type": "code",
   "execution_count": null,
   "metadata": {},
   "outputs": [],
   "source": [
    "u.residues[u.residues.resnames == 'GLY']"
   ]
  },
  {
   "cell_type": "markdown",
   "metadata": {},
   "source": [
    "## Selection Strings and `select_atoms`\n",
    "\n",
    "We've already seen that complex selections can be performed on `AtomGroups` using numpy style indexing.\n",
    "However, `MDAnalysis` also features a CHARMM-style atom selection mechanism that is often more convenient.\n",
    "We can consult the docstring for `select_atoms` to see the available selection keywords:"
   ]
  },
  {
   "cell_type": "code",
   "execution_count": null,
   "metadata": {},
   "outputs": [],
   "source": [
    "u.atoms.select_atoms?"
   ]
  },
  {
   "cell_type": "markdown",
   "metadata": {},
   "source": [
    "You can also see them in the docs [here](https://docs.mdanalysis.org/2.0.0-dev0/documentation_pages/selections.html).\n",
    "\n",
    "Although boolean selections work well enough for selecting out atoms from AtomGroups, the selection language makes more complex selections possible with probably less effort.\n",
    "\n",
    "For example, we can select all glycines by:"
   ]
  },
  {
   "cell_type": "code",
   "execution_count": null,
   "metadata": {},
   "outputs": [],
   "source": [
    "glycines = u.select_atoms(\"resname GLY\")\n",
    "glycines"
   ]
  },
  {
   "cell_type": "markdown",
   "metadata": {},
   "source": [
    "If selecting by residue number, we can specify a range:"
   ]
  },
  {
   "cell_type": "code",
   "execution_count": null,
   "metadata": {},
   "outputs": [],
   "source": [
    "first10resids = u.select_atoms(\"resid 1-10\")\n",
    "first10resids"
   ]
  },
  {
   "cell_type": "markdown",
   "metadata": {},
   "source": [
    "We can use `and`/`or`/`not` with [logical conjunctions](https://en.wikipedia.org/wiki/Logical_conjunction):"
   ]
  },
  {
   "cell_type": "code",
   "execution_count": null,
   "metadata": {},
   "outputs": [],
   "source": [
    "acidic = u.select_atoms(\"resname GLU or resname ASP\")\n",
    "acidic"
   ]
  },
  {
   "cell_type": "markdown",
   "metadata": {},
   "source": [
    "For name like selections, we can also Unix shell-style wildcards such as `*`. Here for example `name OD*` would select atoms named `OD1, OD2, OD3` etc:"
   ]
  },
  {
   "cell_type": "code",
   "execution_count": null,
   "metadata": {},
   "outputs": [],
   "source": [
    "acidic_o = acidic.select_atoms('name OD* or name OE*')\n",
    "acidic_o"
   ]
  },
  {
   "cell_type": "markdown",
   "metadata": {},
   "source": [
    "As a shortcut, multiple values can be given and these will be implicitly OR'd together.\n",
    "To select all atoms with name NZ or NH* in residues named LYS or ARG:"
   ]
  },
  {
   "cell_type": "code",
   "execution_count": null,
   "metadata": {},
   "outputs": [],
   "source": [
    "basic_n = u.select_atoms(\"(resname LYS ARG) and (name NZ NH*)\")\n",
    "basic_n"
   ]
  },
  {
   "cell_type": "markdown",
   "metadata": {},
   "source": [
    "There are also several preset keywords for useful selections such as `backbone`, which selects all CA, C, O and N atoms:"
   ]
  },
  {
   "cell_type": "code",
   "execution_count": null,
   "metadata": {},
   "outputs": [],
   "source": [
    "backbone_1 = u.select_atoms('backbone')\n",
    "backbone_2 = u.select_atoms('name CA C O N')\n",
    "backbone_1 == backbone_2"
   ]
  },
  {
   "cell_type": "markdown",
   "metadata": {},
   "source": [
    "### Geometric selections\n",
    "\n",
    "The `select_atoms` method also has various geometric keywords that make selecting atoms based on geometric criteria much easier.\n",
    "\n",
    "For example, we can look for salt bridges by using the `around` selection operator to specify only atoms within 4 angstroms of a particular selection. Note we can simplify selection strings by referring to previous `AtomGroups`."
   ]
  },
  {
   "cell_type": "code",
   "execution_count": null,
   "metadata": {},
   "outputs": [],
   "source": [
    "acidic = u.select_atoms(\"group acidic and around 4 group basic\", acidic=acidic_o, basic=basic_n)\n",
    "acidic"
   ]
  },
  {
   "cell_type": "markdown",
   "metadata": {},
   "source": [
    "You can also select atoms based on absolute position using `prop`, e.g.:"
   ]
  },
  {
   "cell_type": "code",
   "execution_count": null,
   "metadata": {},
   "outputs": [],
   "source": [
    "upper_z = u.select_atoms('prop z > 10')\n",
    "upper_z"
   ]
  },
  {
   "cell_type": "markdown",
   "metadata": {},
   "source": [
    "## Set operations\n",
    "\n",
    "`AtomGroup`s can also be combined using `&` for \"and\" and `|` for \"or\":"
   ]
  },
  {
   "cell_type": "code",
   "execution_count": null,
   "metadata": {},
   "outputs": [],
   "source": [
    "heavy = u.atoms[u.atoms.masses > 10]\n",
    "arg = u.atoms[u.atoms.resnames == 'ARG']\n",
    "print(len(heavy), len(arg))\n",
    "print(len(heavy & arg))"
   ]
  },
  {
   "cell_type": "markdown",
   "metadata": {},
   "source": [
    "These two selections are identical:"
   ]
  },
  {
   "cell_type": "code",
   "execution_count": null,
   "metadata": {},
   "outputs": [],
   "source": [
    "ag1 = u.atoms.select_atoms('resname LYS ARG')\n",
    "ag2 = u.atoms.select_atoms('resname LYS') | u.atoms.select_atoms('resname ARG')\n",
    "\n",
    "ag1 == ag2"
   ]
  },
  {
   "cell_type": "markdown",
   "metadata": {},
   "source": [
    "We can also concatenate atomgroups with `+` and subtract with `-`; the following two selections are also identical: "
   ]
  },
  {
   "cell_type": "code",
   "execution_count": null,
   "metadata": {},
   "outputs": [],
   "source": [
    "no_H1 = u.atoms.select_atoms('resname LYS ARG and not name H*')\n",
    "no_H2 = u.atoms.select_atoms('resname LYS ARG') - u.atoms.select_atoms('name H*')\n",
    "\n",
    "no_H1 == no_H2"
   ]
  },
  {
   "cell_type": "markdown",
   "metadata": {},
   "source": [
    "By design, an `AtomGroup` can have repeats of the same atom, for example through this selection:"
   ]
  },
  {
   "cell_type": "code",
   "execution_count": null,
   "metadata": {},
   "outputs": [],
   "source": [
    "ag = u.atoms[[0, 0, 1, 2, 4, 4, 5]]\n",
    "ag"
   ]
  },
  {
   "cell_type": "markdown",
   "metadata": {},
   "source": [
    "The `unique` property will return a version of the `AtomGroup` with only one of each Atom:"
   ]
  },
  {
   "cell_type": "code",
   "execution_count": null,
   "metadata": {
    "scrolled": true
   },
   "outputs": [],
   "source": [
    "ag.unique"
   ]
  },
  {
   "cell_type": "markdown",
   "metadata": {},
   "source": [
    "<div class=\"alert alert-success\">\n",
    "<b>Task 2a: </b> Select residues 100 to 200, first using indexing and then using a selection string, and confirm you get the same selection.\n",
    "</div>"
   ]
  },
  {
   "cell_type": "code",
   "execution_count": null,
   "metadata": {},
   "outputs": [],
   "source": [
    "# Task 2a\n"
   ]
  },
  {
   "cell_type": "markdown",
   "metadata": {
    "solution2": "hidden",
    "solution2_first": true
   },
   "source": [
    "<details>\n",
    "<summary> <mark> Solution: </mark> </summary>\n",
    "\n",
    "```Python\n",
    "\n",
    "ag1 = u.residues[99:200]\n",
    "ag2 = u.select_atoms(\"resid 100-200\").residues\n",
    "ag1 == ag2\n",
    "\n",
    "```\n",
    "</details>"
   ]
  },
  {
   "cell_type": "markdown",
   "metadata": {},
   "source": [
    "What might be some reasons to prefer one method over the other?"
   ]
  },
  {
   "cell_type": "markdown",
   "metadata": {
    "cell_style": "center"
   },
   "source": [
    "<div class=\"alert alert-success\">\n",
    "<b>Task 2b: </b> Count the number of arginine residues.\n",
    "</div>"
   ]
  },
  {
   "cell_type": "code",
   "execution_count": null,
   "metadata": {},
   "outputs": [],
   "source": [
    "# Task 2b\n"
   ]
  },
  {
   "cell_type": "markdown",
   "metadata": {
    "solution2": "hidden",
    "solution2_first": true
   },
   "source": [
    "<details>\n",
    "<summary> <mark> Solution: </mark> </summary>\n",
    "\n",
    "```Python\n",
    "\n",
    "ag = u.select_atoms('resname ARG')\n",
    "print(len(ag.residues))\n",
    "```\n",
    "</details>"
   ]
  },
  {
   "cell_type": "markdown",
   "metadata": {},
   "source": [
    "<div class=\"alert alert-success\">\n",
    "<b>Task 2c: </b> Select all nitrogen atoms within 5.0A of an alpha carbon atom.\n",
    "</div>"
   ]
  },
  {
   "cell_type": "code",
   "execution_count": null,
   "metadata": {},
   "outputs": [],
   "source": [
    "# Task 2c\n"
   ]
  },
  {
   "cell_type": "markdown",
   "metadata": {
    "solution2": "hidden",
    "solution2_first": true
   },
   "source": [
    "<details>\n",
    "<summary> <mark> Solution: </mark> </summary>\n",
    "\n",
    "```Python\n",
    "\n",
    "ag = u.select_atoms('name N* and around 5 name CA')\n",
    "print(ag)\n",
    "```\n",
    "</details>"
   ]
  },
  {
   "cell_type": "markdown",
   "metadata": {},
   "source": [
    "<div class=\"alert alert-success\">\n",
    "<b>Task 2d: </b> Select all hydrogens that are bonded to an alpha carbon.\n",
    "</div>\n",
    "\n",
    "*Hint: Look through the `select_atoms` docstring above or [here](https://docs.mdanalysis.org/2.0.0-dev0/documentation_pages/selections.html) for keywords that might help!*"
   ]
  },
  {
   "cell_type": "code",
   "execution_count": null,
   "metadata": {},
   "outputs": [],
   "source": [
    "# Exercise 2d"
   ]
  },
  {
   "cell_type": "markdown",
   "metadata": {
    "solution2": "hidden",
    "solution2_first": true
   },
   "source": [
    "<details>\n",
    "<summary> <mark> Solution: </mark> </summary>\n",
    "\n",
    "```Python\n",
    "\n",
    "ag = u.select_atoms('name H* and bonded name CA')\n",
    "print(ag)\n",
    "```\n",
    "</details>"
   ]
  },
  {
   "cell_type": "markdown",
   "metadata": {},
   "source": [
    "<a id='visualisation'></a>\n",
    "# 3. Visualisation with nglview\n",
    "\n",
    "[nglview](https://github.com/nglviewer/nglview#usage) is a package that allows to visualise a MDAnalysis `Universe` or `AtomGroup` directly on the jupyter notebook. First we load the structure:"
   ]
  },
  {
   "cell_type": "code",
   "execution_count": null,
   "metadata": {},
   "outputs": [],
   "source": [
    "import nglview as nv\n",
    "\n",
    "view_u = nv.show_mdanalysis(u)\n",
    "view_u.camera = 'orthographic'"
   ]
  },
  {
   "cell_type": "markdown",
   "metadata": {},
   "source": [
    "And now we can launch the viewer:"
   ]
  },
  {
   "cell_type": "code",
   "execution_count": null,
   "metadata": {},
   "outputs": [],
   "source": [
    "view_u"
   ]
  },
  {
   "cell_type": "markdown",
   "metadata": {},
   "source": [
    "Have a play around - you can rotate, zoom (and play through the trajectory) to view the structure. You can also select atoms to display their information."
   ]
  },
  {
   "cell_type": "markdown",
   "metadata": {},
   "source": [
    "nglview can be useful to check that we are indeed selecting the correct `AtomGroup`:"
   ]
  },
  {
   "cell_type": "code",
   "execution_count": null,
   "metadata": {},
   "outputs": [],
   "source": [
    "helix_1 = u.select_atoms('resid 12-25')\n",
    "view_ag = nv.show_mdanalysis(helix_1)\n",
    "\n",
    "view_ag"
   ]
  },
  {
   "cell_type": "markdown",
   "metadata": {},
   "source": [
    "To add another selection to the same view:"
   ]
  },
  {
   "cell_type": "code",
   "execution_count": null,
   "metadata": {},
   "outputs": [],
   "source": [
    "resid_20 = u.select_atoms('resid 20')\n",
    "view_ag.add_trajectory(resid_20)"
   ]
  },
  {
   "cell_type": "markdown",
   "metadata": {},
   "source": [
    "<div class=\"alert alert-success\">\n",
    "<b>Task 3: </b> Show all atoms that are below the plane x=4.0.\n",
    "</div>"
   ]
  },
  {
   "cell_type": "code",
   "execution_count": null,
   "metadata": {},
   "outputs": [],
   "source": [
    "# Task 3\n"
   ]
  },
  {
   "cell_type": "markdown",
   "metadata": {
    "solution2": "hidden",
    "solution2_first": true
   },
   "source": [
    "<details>\n",
    "<summary> <mark> Solution: </mark> </summary>\n",
    "\n",
    "```Python\n",
    "\n",
    "ag = u.select_atoms('prop x < 4')\n",
    "view_ex3 = nv.show_mdanalysis(ag)\n",
    "view_ex3\n",
    "```\n",
    "</details>"
   ]
  },
  {
   "cell_type": "markdown",
   "metadata": {},
   "source": [
    "<a id='bonds'></a>\n",
    "# 4. Bonds, angles, and dihedrals\n",
    "\n",
    "We can also get at connectivity information between atoms, such as bonds, angles, and dihedrals.\n",
    "These are read from the input topology file,\n",
    "with angle and dihedrals inferred from the bonds present,\n",
    "i.e. there is a measurable angle between two bonds with a common atom.\n",
    "\n",
    "For example in a PDB file CONECT records are read as bonds,\n",
    "however if none are present..."
   ]
  },
  {
   "cell_type": "code",
   "execution_count": null,
   "metadata": {},
   "outputs": [],
   "source": [
    "from MDAnalysis.tests.datafiles import PDB_small"
   ]
  },
  {
   "cell_type": "code",
   "execution_count": null,
   "metadata": {},
   "outputs": [],
   "source": [
    "# NBVAL_RAISES_EXCEPTION\n",
    "u = mda.Universe(PDB_small)\n",
    "\n",
    "u.bonds"
   ]
  },
  {
   "cell_type": "markdown",
   "metadata": {},
   "source": [
    "## Guessing bonds\n",
    "\n",
    "Bonds are typically read form the topology file,\n",
    "however if they are not present it is possible to guess these by passing the `guess_bonds=True` keyword argument to `Universe` creation.\n",
    "This algorithm guesses bonds that are present based upon the positions of particles and their assumed radius."
   ]
  },
  {
   "cell_type": "code",
   "execution_count": null,
   "metadata": {},
   "outputs": [],
   "source": [
    "u = mda.Universe(PDB_small,\n",
    "                 guess_bonds=True)"
   ]
  },
  {
   "cell_type": "code",
   "execution_count": null,
   "metadata": {},
   "outputs": [],
   "source": [
    "u.atoms.bonds"
   ]
  },
  {
   "cell_type": "code",
   "execution_count": null,
   "metadata": {},
   "outputs": [],
   "source": [
    "u.atoms.angles"
   ]
  },
  {
   "cell_type": "code",
   "execution_count": null,
   "metadata": {},
   "outputs": [],
   "source": [
    "u.atoms.dihedrals"
   ]
  },
  {
   "cell_type": "markdown",
   "metadata": {},
   "source": [
    "Like AtomGroups, these can be sliced to yield individual items:"
   ]
  },
  {
   "cell_type": "code",
   "execution_count": null,
   "metadata": {},
   "outputs": [],
   "source": [
    "u.atoms.bonds[3]"
   ]
  },
  {
   "cell_type": "markdown",
   "metadata": {},
   "source": [
    "All of these give the associated measurement, bond length or angle, via the `values()` or `value()` method:"
   ]
  },
  {
   "cell_type": "code",
   "execution_count": null,
   "metadata": {},
   "outputs": [],
   "source": [
    "u.atoms.bonds.values()"
   ]
  },
  {
   "cell_type": "code",
   "execution_count": null,
   "metadata": {},
   "outputs": [],
   "source": [
    "u.bonds[2].value()"
   ]
  },
  {
   "cell_type": "markdown",
   "metadata": {},
   "source": [
    "We can plot the distribution of bond lengths using matplotlib:"
   ]
  },
  {
   "cell_type": "code",
   "execution_count": null,
   "metadata": {},
   "outputs": [],
   "source": [
    "import matplotlib.pyplot as plt\n",
    "%matplotlib inline\n",
    "\n",
    "plt.hist(u.bonds.values(), bins=\"auto\")"
   ]
  },
  {
   "cell_type": "markdown",
   "metadata": {},
   "source": [
    "## Selecting specific bonds\n",
    "\n",
    "Like atoms, it is rarely interesting to look at **all** bonds.\n",
    "Instead, based on a tuple of atom types, we can select bonds between certain types of atoms."
   ]
  },
  {
   "cell_type": "code",
   "execution_count": null,
   "metadata": {},
   "outputs": [],
   "source": [
    "u.atoms.types"
   ]
  },
  {
   "cell_type": "code",
   "execution_count": null,
   "metadata": {
    "scrolled": true
   },
   "outputs": [],
   "source": [
    "u.bonds.types()"
   ]
  },
  {
   "cell_type": "code",
   "execution_count": null,
   "metadata": {},
   "outputs": [],
   "source": [
    "u.bonds.select_bonds(('C', 'N'))"
   ]
  },
  {
   "cell_type": "markdown",
   "metadata": {},
   "source": [
    "## Selecting main chain dihedrals\n",
    "\n",
    "For polypeptides, it is also possible to select the atoms involved in the $\\varphi$ (phi), $\\psi$ (psi) and $\\omega$ (omega) dihedrals.\n",
    "These are acessed via the `phi_selection`, `psi_selection` and `omega_selection` methods of a **Residue**."
   ]
  },
  {
   "cell_type": "code",
   "execution_count": null,
   "metadata": {},
   "outputs": [],
   "source": [
    "r = u.residues[1]\n",
    "print(r)"
   ]
  },
  {
   "cell_type": "code",
   "execution_count": null,
   "metadata": {},
   "outputs": [],
   "source": [
    "print(r.phi_selection())\n",
    "print(r.psi_selection())\n",
    "print(r.omega_selection())"
   ]
  },
  {
   "cell_type": "markdown",
   "metadata": {},
   "source": [
    "These methods return `AtomGroup`s.  To turn a 4-member group into a dihedral, the `.dihedral` converting property can be used:"
   ]
  },
  {
   "cell_type": "code",
   "execution_count": null,
   "metadata": {},
   "outputs": [],
   "source": [
    "r.phi_selection().dihedral"
   ]
  },
  {
   "cell_type": "markdown",
   "metadata": {},
   "source": [
    "There are similar properties for casting **any** 2 atoms into a `Bond` (`AtomGroup.bond`) and casting **any** 3 atoms into an `Angle` (`AtomGroup.angle`)."
   ]
  },
  {
   "cell_type": "code",
   "execution_count": null,
   "metadata": {},
   "outputs": [],
   "source": [
    "u.atoms[[0, 2]].bond"
   ]
  },
  {
   "cell_type": "markdown",
   "metadata": {},
   "source": [
    "<div class=\"alert alert-success\">\n",
    "<b>Task 4: </b> Calculate the angle between the C$\\alpha$ atoms in the fifth, sixth, and seventh residue.\n",
    "</div>"
   ]
  },
  {
   "cell_type": "code",
   "execution_count": null,
   "metadata": {},
   "outputs": [],
   "source": [
    "## Task 4\n"
   ]
  },
  {
   "cell_type": "markdown",
   "metadata": {},
   "source": [
    "<details>\n",
    "<summary> <mark> Solution: </mark> </summary>\n",
    "\n",
    "```Python\n",
    "\n",
    "at1 = u.residues[4].atoms.select_atoms('name CA')\n",
    "at2 = u.residues[5].atoms.select_atoms('name CA')\n",
    "at3 = u.residues[6].atoms.select_atoms('name CA')\n",
    "\n",
    "ag = at1 + at2 + at3\n",
    "\n",
    "ag.angle.value()\n",
    "```\n",
    "</details>"
   ]
  },
  {
   "cell_type": "markdown",
   "metadata": {},
   "source": [
    "# 6. Optional Tasks"
   ]
  },
  {
   "cell_type": "markdown",
   "metadata": {},
   "source": [
    "- If you haven't already, read through the [selection documentation](https://docs.mdanalysis.org/2.0.0-dev0/documentation_pages/selections.html) and play around with all the selection options not covered above\n",
    "\n",
    "- Do you want to know more about MDAnalysis, and in particular how to extract geometric information from trajectories? Have a look the Jupyter notebook [Extra_MD_02_Distances_Trajectories.ipynb](Extra_MD_02_Distances_Trajectories.ipynb)\n",
    "\n",
    "- [nglview](https://github.com/nglviewer/nglview#usage) has a lot of visualisation options - you can add multiple selections to one view, change their colour and representation style and more. Look through their documentaiton and see what you can create!"
   ]
  },
  {
   "cell_type": "markdown",
   "metadata": {},
   "source": [
    "-----"
   ]
  }
 ],
 "metadata": {
  "hide_input": false,
  "kernelspec": {
   "display_name": "Python 3 (ipykernel)",
   "language": "python",
   "name": "python3"
  },
  "language_info": {
   "codemirror_mode": {
    "name": "ipython",
    "version": 3
   },
   "file_extension": ".py",
   "mimetype": "text/x-python",
   "name": "python",
   "nbconvert_exporter": "python",
   "pygments_lexer": "ipython3",
   "version": "3.11.6"
  },
  "toc": {
   "base_numbering": 1,
   "nav_menu": {},
   "number_sections": false,
   "sideBar": true,
   "skip_h1_title": true,
   "title_cell": "Table of Contents",
   "title_sidebar": "Contents",
   "toc_cell": false,
   "toc_position": {},
   "toc_section_display": true,
   "toc_window_display": false
  }
 },
 "nbformat": 4,
 "nbformat_minor": 4
}
