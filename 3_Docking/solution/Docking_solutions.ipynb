{
 "cells": [
  {
   "cell_type": "markdown",
   "id": "408bda44-e6ab-44e2-87f9-e2f6ca2356b5",
   "metadata": {},
   "source": [
    "## Solution for docking with ligands from smiles strings\n",
    "\n",
    "**Warning:** This file will not run on its own and assumes variables present in the Docking.ipynb. "
   ]
  },
  {
   "cell_type": "markdown",
   "id": "05691a3d-ad6e-4227-8bf5-996afc52e764",
   "metadata": {},
   "source": [
    "### Single docking from smiles"
   ]
  },
  {
   "cell_type": "code",
   "execution_count": null,
   "id": "8da46f4e-e5c9-4678-85f5-5a1ee84f0d87",
   "metadata": {},
   "outputs": [],
   "source": [
    "v = Vina(sf_name='vina')\n",
    "\n",
    "# Setting the protein\n",
    "v.set_receptor(os.path.join(docking_path,'6o6f.pdbqt'))\n",
    "# Setting the ligand\n",
    "v.set_ligand_from_file(os.path.join(docking_path,'lig_27.pdbqt')\n",
    "\n",
    "# Now we use the grid centre we computed before because we are still docking into the same binding site\n",
    "v.compute_vina_maps(center=grid_centre, box_size=[20, 20, 20])\n",
    "\n",
    "# Dock the ligand\n",
    "v.dock(exhaustiveness=32, n_poses=20)\n",
    "v.write_poses(os.path.join(docking_path,'docked_ligand.pdbqt'), n_poses=5,energy_range=3,overwrite=True)"
   ]
  },
  {
   "cell_type": "markdown",
   "id": "873c7a75-c534-4dd9-98ae-225dcfd99c85",
   "metadata": {},
   "source": [
    "### Running all the ligands"
   ]
  },
  {
   "cell_type": "code",
   "execution_count": null,
   "id": "f691715a-8b5b-4ac0-938c-c0c040a54c32",
   "metadata": {},
   "outputs": [],
   "source": [
    "import glob\n",
    "ligs = glob.glob('resources/pdbqt_files/lig_*.pdbqt')\n",
    "v = Vina(sf_name='vina')\n",
    "for lig in ligs:\n",
    "    # Setting the protein\n",
    "    v.set_receptor(os.path.join(singlepath,'6o6f.pdbqt'))\n",
    "    # Setting the ligand\n",
    "    v.set_ligand_from_file(lig)\n",
    "    lig_id = lig.split('.')[0].split('/')[-1]\n",
    "    print('Docking for lig id:'+lig_id)\n",
    "    print(\"===================================\")\n",
    "    \n",
    "    # Now we use the grid centre we computed before because we are still docking into the same binding site\n",
    "    v.compute_vina_maps(center=grid_centre, box_size=[20, 20, 20])\n",
    "    \n",
    "    # Dock the ligand\n",
    "    v.dock(exhaustiveness=32, n_poses=15)\n",
    "    v.write_poses(os.path.join(ligandpath,lig_id+'_docked.pdbqt'), n_poses=1,energy_range=6,overwrite=True)"
   ]
  },
  {
   "cell_type": "code",
   "execution_count": null,
   "id": "f8921d71-2186-422a-aca3-d61d1a7e849b",
   "metadata": {},
   "outputs": [],
   "source": []
  },
  {
   "cell_type": "code",
   "execution_count": null,
   "id": "e13ab825-a67a-4ca7-9bab-c59df01c0f47",
   "metadata": {},
   "outputs": [],
   "source": []
  }
 ],
 "metadata": {
  "kernelspec": {
   "display_name": "Python 3 (ipykernel)",
   "language": "python",
   "name": "python3"
  },
  "language_info": {
   "codemirror_mode": {
    "name": "ipython",
    "version": 3
   },
   "file_extension": ".py",
   "mimetype": "text/x-python",
   "name": "python",
   "nbconvert_exporter": "python",
   "pygments_lexer": "ipython3",
   "version": "3.11.0"
  }
 },
 "nbformat": 4,
 "nbformat_minor": 5
}
