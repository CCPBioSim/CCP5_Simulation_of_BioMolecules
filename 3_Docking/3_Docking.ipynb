{
 "cells": [
  {
   "cell_type": "markdown",
   "metadata": {
    "id": "WutUwTFo2e4j"
   },
   "source": [
    "# Molecular Docking on AutoDock"
   ]
  },
  {
   "cell_type": "markdown",
   "metadata": {
    "id": "GHIB7lK5_wWH"
   },
   "source": [
    "**Authors**:\n",
    "- *Creation*: Engelberger F, Galaz-Davison P, Bravo G, Rivera M, Ramírez-Sarmiento CA   \n",
    "- *Updates*: Dr Antonia Mey (antonia.mey@ed.ac.uk) and Rohan Gorantla\n",
    "\n",
    "This notebook was adapted from the original *Lab.06 / IBM3202 – Molecular Docking on AutoDock*. It forms part of an excellent bioinformatics series which can be found [here](https://github.com/pb3lab/ibm3202). This was released under a MIT license.\n",
    "<a rel=\"license\" href=\"https://opensource.org/licenses/MIT \"><img alt=\"MIT Licence\" src=\"https://img.shields.io/badge/License-MIT-yellow.svg\" align=\"right\"/></a> \n",
    "\n",
    "*Citation*: Engelberger F, Galaz-Davison P, Bravo G, Rivera M, Ramírez-Sarmiento CA (2021) Developing and Implementing Cloud-Based Tutorials that Combine Bioinformatics Software, Interactive Coding and Visualization Exercises for Distance Learning on Structural Bioinformatics. J Chem Educ 98(5): 1801-1807. DOI: [10.1021/acs.jchemed.1c00022](https://pubs.acs.org/doi/10.1021/acs.jchemed.1c00022)\n",
    "<br></br>\n",
    "Updated material is available under license.\n",
    "<a rel=\"license\" href=\"https://creativecommons.org/licenses/by-nc-sa/4.0/\"><img alt=\"Creative Commons Licence\" style=\"width=50\" src=\"https://licensebuttons.net/l/by-nc-sa/4.0/88x31.png\" title='This work is licensed under a Creative Commons Attribution 4.0 International License.' align=\"right\"/></a>"
   ]
  },
  {
   "cell_type": "markdown",
   "metadata": {
    "id": "gRuamkN__wWJ"
   },
   "source": [
    "**Learning Objectives:**\n",
    "  - Learn how to create a protein-ligand complex from a crystal structure and a SMILES string\n",
    "  - prepare a protein for docking with Autodock Vina\n",
    "  - Prepare a series of ligands for Docking\n",
    "  - Understand docking results by computing RMSDs and comparing scores against experimental results"
   ]
  },
  {
   "cell_type": "markdown",
   "metadata": {
    "id": "ZFXi2nGA_wWJ"
   },
   "source": [
    "**Jupyter cheat sheet:**\n",
    "- to run the currently highlighted cell, hold <kbd>&#x21E7; Shift</kbd> and press <kbd>&#x23ce; Enter</kbd>;\n",
    "- to get help for a specific function, place the cursor within the function's brackets, hold <kbd>&#x21E7; Shift</kbd>, and press <kbd>&#x21E5; Tab</kbd>;\n",
    "\n",
    "<div class=\"alert alert-info\"><b> Remember: variables persist between cells</b> \n",
    "    \n",
    "Be aware that it is the order of execution of cells that is important in a Jupyter notebook, not the <em>order</em> in which they appear. Python will remember <em>all</em> the code that was run previously, including any variables you have defined, irrespective of the order in the notebook. Therefore if you define variables lower down the notebook and then (re)run cells further up, those defined further down will still be present. </div> "
   ]
  },
  {
   "cell_type": "markdown",
   "metadata": {
    "id": "L1Tmkek2hBi0"
   },
   "source": [
    "## Table of Contents\n",
    "[0.   Setup](#setup)   \n",
    "[1.   Theoretical background](#theory)   \n",
    "[2.   Experimental overview and preparation steps](#experiment)   \n",
    "[3.   Scoring and docking of the crystal structure ligand](#xray)   \n",
    "[4.   Redocking the ligand into the protein](#docking)   \n",
    "[5.   Docking from SMILES strings](#smiles)   \n",
    "[6.   Conclusion](#conclusion)"
   ]
  },
  {
   "cell_type": "markdown",
   "metadata": {
    "id": "7sD-Kmkb_wWJ"
   },
   "source": [
    "## 0. Google Colab setup\n",
    "<a id='setup'></a>\n",
    "<div class=\"alert alert-warning\">\n",
    "<b>Attention:</b> Please only run the cells in this section if you are using Colab!</div>"
   ]
  },
  {
   "cell_type": "markdown",
   "metadata": {
    "id": "KSAoowL_4XIV"
   },
   "source": [
    "This tutorial has many dependencies for it to work. They are:\n",
    "- **biopython** for manipulation of the PDB files\n",
    "- **py3Dmol** to visualise the protein structure and set up the search grid.\n",
    "- **miniconda**, a free minimal installer of **conda** for software package and environment management.\n",
    "- **OpenBabel** for parameterization of our ligand(s).\n",
    "- **MGLtools** are used to parameterize our target protein using Gasteiger charges.\n",
    "- **pdb2pqr** for parameterization of our protein using the AMBER ff99 forcefield.\n",
    "- **Autodock Vina** for the docking process\n",
    "\n",
    "The following installation instructions are the best way of setting up *Google Colab* for this laboratory session."
   ]
  },
  {
   "cell_type": "markdown",
   "metadata": {
    "id": "usGMfVue_wWM"
   },
   "source": [
    "### 0.1 Setup conda colab"
   ]
  },
  {
   "cell_type": "code",
   "execution_count": null,
   "metadata": {
    "colab": {
     "base_uri": "https://localhost:8080/"
    },
    "id": "TTJObgCZ_wWK",
    "outputId": "eb660318-bcf6-4d94-e824-2e441c88bf1e"
   },
   "outputs": [],
   "source": [
    "!if [ -n \"$COLAB_RELEASE_TAG\" ]; then git clone https://github.com/CCPBioSim/CCP5_Simulation_of_BioMolecules; fi\n",
    "import os\n",
    "os.chdir(f\"CCP5_Simulation_of_BioMolecules{os.sep}3_Docking\")"
   ]
  },
  {
   "cell_type": "code",
   "execution_count": null,
   "metadata": {
    "colab": {
     "base_uri": "https://localhost:8080/"
    },
    "id": "dcW3DBEQ5e4G",
    "outputId": "1c0eb37a-ff55-41df-9193-26a656b653be"
   },
   "outputs": [],
   "source": [
    "!pip install -q condacolab\n",
    "import condacolab\n",
    "condacolab.install()"
   ]
  },
  {
   "cell_type": "markdown",
   "metadata": {
    "id": "5wU_hFmf_wWN"
   },
   "source": [
    "### 0.2 Check conda colab works"
   ]
  },
  {
   "cell_type": "code",
   "execution_count": null,
   "metadata": {
    "colab": {
     "base_uri": "https://localhost:8080/"
    },
    "id": "5pKu2uUA5eqh",
    "outputId": "8a235a6e-7958-43ad-db6f-9823cf2cb19a"
   },
   "outputs": [],
   "source": [
    "import condacolab\n",
    "condacolab.check()"
   ]
  },
  {
   "cell_type": "markdown",
   "metadata": {
    "id": "1rf7f4Bz_wWN"
   },
   "source": [
    "### 0.3 Install py3D mol for visualisation and pdb2pqr for parametrisation"
   ]
  },
  {
   "cell_type": "code",
   "execution_count": null,
   "metadata": {
    "colab": {
     "base_uri": "https://localhost:8080/"
    },
    "id": "nZorFT6LEVOv",
    "outputId": "79963f43-1ca0-4cae-dd17-cc211e2f31c5"
   },
   "outputs": [],
   "source": [
    "!pip install py3Dmol\n",
    "!pip install pdb2pqr"
   ]
  },
  {
   "cell_type": "markdown",
   "metadata": {
    "id": "ADXOZD9m_wWO"
   },
   "source": [
    "### 0.4 Creating and installing the rest of the environment"
   ]
  },
  {
   "cell_type": "code",
   "execution_count": null,
   "metadata": {
    "id": "eT2l0Bn4Hgf0"
   },
   "outputs": [],
   "source": [
    "# Step 1: Create the env.yml file\n",
    "env_yaml = \"\"\"\n",
    "channels:\n",
    "  - conda-forge\n",
    "\n",
    "dependencies:\n",
    "  - python >= 3.8\n",
    "  - pip\n",
    "  - tqdm\n",
    "  - loguru\n",
    "  - fsspec\n",
    "  - s3fs\n",
    "  - gcsfs\n",
    "  - joblib\n",
    "\n",
    "  # Scientific\n",
    "  - pandas = 2.1\n",
    "  - numpy\n",
    "  - scipy\n",
    "\n",
    "  # Chemistry\n",
    "  - rdkit\n",
    "  - datamol\n",
    "  - openmm >=7.6.0\n",
    "  - pdbfixer >=1.8\n",
    "  - openmmforcefields\n",
    "  - mdtraj\n",
    "  - mdanalysis\n",
    "\n",
    "  # Docking\n",
    "  - openbabel\n",
    "  - smina\n",
    "  - qvina\n",
    "  - fpocket\n",
    "  - vina\n",
    "\n",
    "  # Viz\n",
    "  - matplotlib\n",
    "  - ipywidgets = 7.7.2\n",
    "  - nglview\n",
    "\"\"\"\n",
    "\n",
    "# Write the environment configuration to a file\n",
    "with open(\"environment.yml\", \"w\") as file:\n",
    "    file.write(env_yaml)\n"
   ]
  },
  {
   "cell_type": "markdown",
   "metadata": {
    "id": "Nxy-_Izh_wWO"
   },
   "source": [
    "And now we can install the environment we have created using mamba. Please be patient! **The next two cells may take some time to run**."
   ]
  },
  {
   "cell_type": "code",
   "execution_count": null,
   "metadata": {
    "id": "5ztOLFuC5PEx"
   },
   "outputs": [],
   "source": [
    "%%capture\n",
    "!mamba env update -n base -f environment.yml"
   ]
  },
  {
   "cell_type": "code",
   "execution_count": null,
   "metadata": {
    "id": "vxVlNFNbBkBU"
   },
   "outputs": [],
   "source": [
    "%%capture\n",
    "!mamba install -c conda-forge -c bioconda mgltools openbabel zlib ncurses --yes"
   ]
  },
  {
   "cell_type": "code",
   "execution_count": null,
   "metadata": {
    "id": "jS2vRGLx40Du"
   },
   "outputs": [],
   "source": [
    "# Importing py3Dmol for safety\n",
    "import py3Dmol"
   ]
  },
  {
   "cell_type": "code",
   "execution_count": null,
   "metadata": {
    "colab": {
     "base_uri": "https://localhost:8080/"
    },
    "id": "BPObwIbRnGJI",
    "outputId": "5c1024ac-9390-47df-a02e-650b67dd4962"
   },
   "outputs": [],
   "source": [
    "# Checking that pdb2pqr was properly installed\n",
    "!pdb2pqr30 -h | awk 'NR==1{if($1==\"usage:\") print \"PDB2PQR succesfully installed\"; else if($1!=\"usage:\") print \"Something went wrong. Please install again\"}'"
   ]
  },
  {
   "cell_type": "markdown",
   "metadata": {
    "id": "5j24YCyD7Zlf"
   },
   "source": [
    "Now you should have a working environment and we can actually start thinking about running docking!"
   ]
  },
  {
   "cell_type": "markdown",
   "metadata": {
    "id": "FQMdCpigVK-X"
   },
   "source": [
    "## 1. Theoretical background\n",
    "<a id='theory'></a>"
   ]
  },
  {
   "cell_type": "markdown",
   "metadata": {},
   "source": [
    "Many protein structures are determined experimentally using X-ray crystallography or nuclear magnetic resonance (NMR) spectroscopy and computationally through AlphaFold molecular docking, which is an essential tool in **drug discovery**.\n",
    "\n",
    "**Molecular docking** explores the potential binding poses of small molecules in the **binding site** of a target protein for which reliable atomic coordinates are available.\n",
    "\n",
    "Thus, the **_druggability_** of different compounds and their binding affinity on a given protein target can be calculated. This can help identify lead compounds from large molecular libraries."
   ]
  },
  {
   "cell_type": "markdown",
   "metadata": {
    "id": "mD5dj8UMSqEC"
   },
   "source": [
    "<figure>\n",
    "<center>\n",
    "<img src='https://raw.githubusercontent.com/pb3lab/ibm3202/master/images/docking_01.png'/>\n",
    "<figcaption>FIGURE 1. In molecular docking, binding is evaluated in two steps: A) Energetics of the transition of the unbound states of ligand and target towards the conformations of the bound complex; and B) energetics of protein-ligand binding in these conformations. <br> Huey R et al (2007) <i>J Comput Chem 28(6), 1145-1152.</i></figcaption></center>\n",
    "</figure>"
   ]
  },
  {
   "cell_type": "markdown",
   "metadata": {
    "id": "A8w7VY84UDOc"
   },
   "source": [
    "Molecular docking programs perform a **search algorithm** in which varying conformations of a given ligand, typically generated using Monte Carlo or Genetic Algorithms, are recursively evaluated until convergence to an energy minimum is reached. Finally, through an **affinity scoring function**, a ΔG [binding free energy in kcal/mol] is estimated and employed to rank the candidate poses as the sum of several energetic contributions (electrostatics, van der Waals, desolvation, etc)."
   ]
  },
  {
   "cell_type": "markdown",
   "metadata": {
    "id": "eiopP7EdVjqt"
   },
   "source": [
    "## 2. Experimental Overview and Preparation steps\n",
    "<a id='experiment'></a>"
   ]
  },
  {
   "cell_type": "markdown",
   "metadata": {
    "id": "4CMeTYlZVo6P"
   },
   "source": [
    "We will use data from the [protein ligand benchmark dataset](https://github.com/openforcefield/protein-ligand-benchmark) for our docking workshop. In particular, we will use the protein *MCL1* which is a well-established cancer target. To find out more about the protein-ligand benchmark check out the publication on it:   \n",
    "Hahn, D., Bayly, C., Boby, M. L., Bruce Macdonald, H., Chodera, J., Gapsys, V., Mey, A., Mobley, D., Perez Benito, L., Schindler, C., Tresadern, G. ., & Warren, G. (2022). Best Practices for Constructing, Preparing, and Evaluating Protein-Ligand Binding Affinity Benchmarks [Living Journal of Computational Molecular Science, 4(1), 1497.](https://doi.org/10.33011/livecoms.4.1.1497)\n",
    "\n",
    "For this workshop we use **MGLtools** (and alternatively **pdb2pqr**) to prepare the target protein files, **OpenBabel** to prepare the ligand files, **AutoDock Vina** for the docking procedure and **py3Dmol** to establish the appropriate search grid configuration and analyze the results."
   ]
  },
  {
   "cell_type": "markdown",
   "metadata": {
    "id": "xkpCp93eQsUS"
   },
   "source": [
    "<figure>\n",
    "<center>\n",
    "<img src='https://raw.githubusercontent.com/pb3lab/ibm3202/master/images/docking_02.png' />\n",
    "<figcaption>FIGURE 2. General steps of molecular docking. First, the target protein and ligand or ligands are parameterized. Then, the system is prepared by setting up the search grid. Once the docking calculation is performed, ligand poses are scored based on a given energy function. Lastly, the computational search is processed and compared against experimental data for validation <br><i>Taken from Pars Silico (en.parssilico.com).</i></figcaption></center>\n",
    "</figure>"
   ]
  },
  {
   "cell_type": "markdown",
   "metadata": {
    "id": "bMaDj9PdZNlL"
   },
   "source": [
    "### 2.1 Downloading and Preparing the Receptor for AutoDock"
   ]
  },
  {
   "cell_type": "markdown",
   "metadata": {
    "id": "NGNLlfnU748_"
   },
   "source": [
    "The first step in a molecular docking procedure is to have a structure of a given target protein. While in some cases you may want to use an AlphaFold structure, most cases start with an experimentally (X-ray, NMR, cryoEM) solved three-dimensional structure.\n",
    "\n",
    "In such scenario, a given target protein structure is downloaded from the **Protein Data Bank (PDB)** (https://www.rcsb.org/pdb) using a given accession ID. For example, for MCL1 the ID:4HW3 is a good structure with a ligand bound to the protein.\n",
    "\n",
    "We can download the structure from the PDB using **biopython**:"
   ]
  },
  {
   "cell_type": "code",
   "execution_count": null,
   "metadata": {
    "colab": {
     "base_uri": "https://localhost:8080/"
    },
    "id": "9j_NvhBRhVA0",
    "outputId": "2c475234-c721-406c-f179-5c01158806af"
   },
   "outputs": [],
   "source": [
    "# Downloading the PDB files using biopython\n",
    "import os\n",
    "from Bio.PDB import *\n",
    "pdbid = ['6o6f']\n",
    "pdbl = PDBList()\n",
    "for s in pdbid:\n",
    "    pdbl.retrieve_pdb_file(s, pdir='.', file_format =\"pdb\", overwrite=True)\n",
    "    os.rename(\"pdb\"+s+\".ent\", s+\".pdb\")"
   ]
  },
  {
   "cell_type": "markdown",
   "metadata": {
    "id": "rGxSfayJ9OCP"
   },
   "source": [
    "In the case of X-ray diffraction, this experimental strategy does not discriminate between electron density coming from static protein atoms or water molecules, meaning that most protein structures solved by X-ray diffraction also include so-called **crystallographic waters** (check the non-bonded red dots on the protein structure below). These molecules are not important for our particular docking exercise and will remove them. However, water-mediated binding can be important and water molecules may be retained for docking.\n",
    "<figure>\n",
    "<center>\n",
    "<img src='https://github.com/CCPBioSim/CCP5_Simulation_of_BioMolecules/blob/main/3_Docking/resources/4HW3.png?raw=true'/>\n",
    "<figcaption>FIGURE 3. Cartoon representation of MCL1 (PDB accession ID 4hw3), with its N-to-C-terminal residues colored according to order and disorder</i></figcaption></center>\n",
    "</figure>\n",
    "\n",
    "  Typically, this can be easily done by extracting all of the lines from the PDB file that start with **\"ATOM\"**, as this is how all of the atoms that belong to amino and nucleic acid residues are termed. In contrast, the atoms from ligands, water molecules and other non-protein/non-nucleic residues are commonly referred to as **\"HETATM\"**. Also, the different chains of an oligomer are separated by a **\"TER\"** string, which is important to keep in our case.\n",
    "\n",
    "  The following **Python snippet** will first create a folder in which we will store all data related to our molecular docking experiment. Then, it will extract all lines matching the string \"ATOM\" (for the protein atoms) or \"TER\" (for the chain separations) into a separate PDB file for further processing. Please take a good look at it."
   ]
  },
  {
   "cell_type": "markdown",
   "metadata": {
    "id": "OzzPCfPMhBi5"
   },
   "source": [
    "#### Cleaning the pdb file and getting it ready for docking\n",
    "We want to carry out the following steps on this PDB file\n",
    "1. Select only chain B of the protein\n",
    "2. Get the ligand out\n",
    "3. Prepare the protein and ligand to score the X-ray structure pose\n",
    "\n",
    "We will be using a tool called MDanalysis for this. For now just read the code and see if you can understand it. In [Session 5](../5_Analysis_MDAnalysis) you will learn more about this Python package."
   ]
  },
  {
   "cell_type": "code",
   "execution_count": null,
   "metadata": {
    "colab": {
     "base_uri": "https://localhost:8080/"
    },
    "id": "7iqBkGVchBi5",
    "outputId": "febe2b88-a1df-46a7-ea93-f30f61f3528e"
   },
   "outputs": [],
   "source": [
    "from pathlib import Path\n",
    "import MDAnalysis as mda\n",
    "\n",
    "# Then, we define the path of the folder we want to create.\n",
    "# Notice that the HOME folder for a hosted runtime in colab is /content/\n",
    "docking_path = Path(\"/content/single-dock/\")\n",
    "#docking_path = Path(\"single_dock\")\n",
    "\n",
    "# Now, we create the folder using the os.mkdir() command\n",
    "# The if conditional is just to check whether the folder already exists\n",
    "# In which case, python returns an error\n",
    "if os.path.exists(docking_path):\n",
    "    print(\"path already exists\")\n",
    "else:\n",
    "    os.mkdir(docking_path)\n",
    "    print(\"path was succesfully created\")\n",
    "\n",
    "# Now we assign a variable \"protein\" with the name and extension of our pdb\n",
    "protein = \"6o6f.pdb\"\n",
    "\n",
    "# we create a universe with the protein\n",
    "u = mda.Universe(protein)\n",
    "prot_sel = u.select_atoms(\"record_type ATOM and segid B\")\n",
    "prot_sel.write(os.path.join(docking_path, \"6o6f_prot_chainB.pdb\"))\n"
   ]
  },
  {
   "cell_type": "code",
   "execution_count": null,
   "metadata": {
    "colab": {
     "base_uri": "https://localhost:8080/"
    },
    "id": "GL7meMXlhBi6",
    "outputId": "0e25057d-cdfe-4d51-ac90-337b95ed25e1"
   },
   "outputs": [],
   "source": [
    "# We will first create a path for all ligands that we will use in this tutorial\n",
    "# Notice that the HOME folder for a hosted runtime in colab is /content/\n",
    "ligandpath = Path(\"ligands/\")\n",
    "\n",
    "# Now, we create the folder using the os.mkdir() command\n",
    "# The if conditional is just to check whether the folder already exists\n",
    "# In which case, python returns an error\n",
    "if os.path.exists(ligandpath):\n",
    "    print(\"ligand path already exists\")\n",
    "else:\n",
    "    os.mkdir(ligandpath)\n",
    "    print(\"ligand path was successfully created\")\n",
    "\n",
    "# Now we select the ligand from the PDB record we know the ligand is called LOD\n",
    "lig_sel = u.select_atoms(\"segid B and resname LOD\")\n",
    "lig_sel.write(os.path.join(ligandpath, \"ligand.pdb\"))"
   ]
  },
  {
   "cell_type": "markdown",
   "metadata": {
    "id": "Qzw3p0A04Yol"
   },
   "source": [
    "We now have our ligand and protein files separated.\n",
    "However, for AutoDock Vina to perform a molecular docking experiment, the target protein file must contain atom types compatible with Autodock for evaluating different types of interaction, as well as their partial charges to evaluate electrostatic interactions. Such information is included in a file known as **PDBQT**, a modification of the PDB format that also includes **charges (q)** and **AutoDock-specific atom types (t)** in two extra columns at the end of the now PDBQT file. It is worth noting, however, that Autodock Vina **ignores the user-supplied partial charges**, as it has its own way of dealing with electrostatic interactions.\n",
    "\n",
    "  Lastly, the protein target must contain **all polar hydrogens**, such that hydrogen bonds can be formed between the target protein and the ligand. Most protein structures have no hydrogens included, meaning that we must add them.\n",
    "\n",
    "  This is the part of the tutorial where you have **two different options** to proceed with your experiment!"
   ]
  },
  {
   "cell_type": "markdown",
   "metadata": {
    "id": "Mg5oSpCb_9AO"
   },
   "source": [
    "#### Adding hydrogens according to pKa to the protein\n",
    "\n",
    "Add the polar hydrogens of your protein and parameterize it based on the pKa of each aminoacid at pH 7.4 with the **AMBER ff99** force field using **pdb2pqr**, followed by deletion of non-polar hydrogens and conversion into **PDBQT** file using **MGLtools**.\n",
    "\n",
    "  In this case, pdb2pqr generates an intermediate **PQR** file, a modification of the PDB format which allows users to add charge and radius parameters to existing PDB data. This information is then unaltered during the use of **MGLtools**."
   ]
  },
  {
   "cell_type": "code",
   "execution_count": null,
   "metadata": {
    "colab": {
     "base_uri": "https://localhost:8080/"
    },
    "id": "rhf0hcwghBi-",
    "outputId": "d647828e-816f-4124-8c59-a50fa63dd893"
   },
   "outputs": [],
   "source": [
    "!pdb2pqr30 --ff AMBER --titration-state-method propka --with-ph 7.4 $docking_path/6o6f_prot_chainB.pdb $docking_path/6o6f_prot_chainB.pqr"
   ]
  },
  {
   "cell_type": "markdown",
   "metadata": {
    "id": "E-KhzHKZhBi-"
   },
   "source": [
    "#### Using MDAnalysis to write out the pdbqt file for docking"
   ]
  },
  {
   "cell_type": "code",
   "execution_count": null,
   "metadata": {
    "colab": {
     "base_uri": "https://localhost:8080/"
    },
    "id": "qbS_dKSphBi-",
    "outputId": "8124fa55-003f-479a-c9c8-82e03639b7c1"
   },
   "outputs": [],
   "source": [
    "u = mda.Universe(os.path.join(docking_path, \"6o6f_prot_chainB.pqr\"))\n",
    "asel = u.select_atoms(\"all\")\n",
    "asel.write(os.path.join(docking_path, \"6o6f.pdbqt\"))"
   ]
  },
  {
   "cell_type": "code",
   "execution_count": null,
   "metadata": {
    "id": "b5vFkp7xhBi-"
   },
   "outputs": [],
   "source": [
    "# Now we need to get rid of the first two lines\n",
    "filename = os.path.join(docking_path,\"6o6f.pdbqt\")\n",
    "try:\n",
    "    # Open the input file in read mode\n",
    "    with open(filename, 'r') as infile:\n",
    "        # Read all lines from the file\n",
    "        lines = infile.readlines()\n",
    "\n",
    "        # Skip the first two lines\n",
    "        lines_to_write = lines[2:]\n",
    "        #print(lines)\n",
    "    # Open the output file in write mode\n",
    "    with open(filename, 'w') as outfile:\n",
    "        # Write the remaining lines to the new file\n",
    "        outfile.writelines(lines_to_write)\n",
    "except Exception as e:\n",
    "  print(e,'Fail...muhahahah')"
   ]
  },
  {
   "cell_type": "markdown",
   "metadata": {
    "id": "Gvq9H_C6DJvU",
    "outputId": "936a4b0a-dab7-4c2e-bf39-ce5be5c30122"
   },
   "source": [
    "This will keep the protein side chains rigid in the docking. If you want to use a flexible receptor you will have to use the script\n",
    "\n",
    "```\n",
    "!prepare_receptor4.py -r $docking_path/6o6f_prot.pqr -o $docking_path/6o6f_prot.pdbqt -C -U nphs_lps -v\n",
    "```"
   ]
  },
  {
   "cell_type": "markdown",
   "metadata": {
    "id": "LOXXsqqZhBjA"
   },
   "source": [
    "<div class=\"alert alert-success\">\n",
    "<b>Task 1</b>. Here are some questions to think about:\n",
    "\n",
    "- Why are hydrogens important when you want to run docking?   \n",
    "- Why are we only adding polar hydrogens?    \n",
    "- If the partial charges are ignored by Autodock Vina, how can these different strategies affect my docking results? (this is something you can actually test!)\n",
    "- Should we ignore the water?\n",
    "</div>"
   ]
  },
  {
   "cell_type": "markdown",
   "metadata": {
    "id": "B4j--lVNGsDg"
   },
   "source": [
    "### 2.2 Preparing the Ligand for AutoDock Vina"
   ]
  },
  {
   "cell_type": "markdown",
   "metadata": {
    "id": "N_tSEWI0hBjB"
   },
   "source": [
    "We already have the ligand written out to a pdb file. To make this file work with Vina we need to wield some magic.\n",
    "First we load the pdb file, convert it to mol2 and add some hydrogens using the python API of openbabl"
   ]
  },
  {
   "cell_type": "code",
   "execution_count": null,
   "metadata": {
    "id": "UDXnT50NhBjB"
   },
   "outputs": [],
   "source": [
    "from openbabel import pybel\n",
    "mol = next(pybel.readfile('pdb', os.path.join(ligandpath,'ligand.pdb')))\n",
    "mol.addh()\n",
    "mol.calccharges()\n",
    "mol.write(\"mol2\", \"ligand.mol2\",overwrite=True)"
   ]
  },
  {
   "cell_type": "code",
   "execution_count": null,
   "metadata": {
    "colab": {
     "base_uri": "https://localhost:8080/"
    },
    "id": "W2HKde7bhBjB",
    "outputId": "8d8a2fe4-3e50-4bb3-feac-d1763966facb"
   },
   "outputs": [],
   "source": [
    "!prepare_ligand4.py -l ligand.mol2 -o $docking_path/ligand.pdbqt -U nphs_lps -v"
   ]
  },
  {
   "cell_type": "markdown",
   "metadata": {
    "id": "PxmMVZx9hBjB"
   },
   "source": [
    "We are now ready to try and scoring of the ligand in the binding site."
   ]
  },
  {
   "cell_type": "markdown",
   "metadata": {
    "id": "Fj8bx4_lhBjB"
   },
   "source": [
    "## 3. Scoring and Docking of the Crystal Structure Ligand\n",
    "<a id='xray'></a>"
   ]
  },
  {
   "cell_type": "markdown",
   "metadata": {
    "id": "1hiSnmGIhBjB"
   },
   "source": [
    "### 3.1 Defining the docking grid"
   ]
  },
  {
   "cell_type": "markdown",
   "metadata": {
    "id": "aZtIl7uKhBjB"
   },
   "source": [
    "To define the docking grid we find the centre of geometry of the ligand using MDanalysis analysis again"
   ]
  },
  {
   "cell_type": "code",
   "execution_count": null,
   "metadata": {
    "id": "DZrZOKNChBjB"
   },
   "outputs": [],
   "source": [
    "# laod the mol2 file\n",
    "u = mda.Universe('ligand.mol2')"
   ]
  },
  {
   "cell_type": "code",
   "execution_count": null,
   "metadata": {
    "colab": {
     "base_uri": "https://localhost:8080/"
    },
    "id": "72XzMuJohBjC",
    "outputId": "b1e1b714-6d74-4e13-c7b3-00954edd0fb6"
   },
   "outputs": [],
   "source": [
    "# We select all the atoms and the compute the centre of geometry\n",
    "sel = u.select_atoms('all')\n",
    "grid_centre = sel.center_of_geometry()\n",
    "print(grid_centre)"
   ]
  },
  {
   "cell_type": "markdown",
   "metadata": {
    "id": "sigkqw2FhBjC"
   },
   "source": [
    "### 3.2 Visualising the docking grid\n",
    "Below are a set of predefined function to help with the visualisation of the ligand and the protein and a docking box. You can pick the centre of geometry of your ligand and change the box size to see if the ligand will fit into the box or not.  "
   ]
  },
  {
   "cell_type": "code",
   "execution_count": null,
   "metadata": {
    "id": "yaalZTr7hBjC"
   },
   "outputs": [],
   "source": [
    "def definegrid(object,bxi,byi,bzi,bxf,byf,bzf):\n",
    "  object.addBox({'center':{'x':bxi,'y':byi,'z':bzi},'dimensions': {'w':bxf,'h':byf,'d':bzf},'color':'red','opacity': 0.6})\n",
    "\n",
    "# Next, we define how the protein will be shown in py3Dmol\n",
    "# There is an option to add a style representation for active site residues\n",
    "def viewprot(object,prot_PDBfile, resids):\n",
    "    mol1 = open(prot_PDBfile, 'r').read()\n",
    "    #mol2 = open(lig_file, 'r').read()\n",
    "    object.addModel(mol1,'pdb')\n",
    "    object.setStyle({'cartoon': {'color':'lightblue'}})\n",
    "    object.addStyle({'resi':resids},{'stick':{'colorscheme':'greenCarbon'}})\n",
    "def viewlig(object,lig_file):\n",
    "    mol1 = open(lig_file, 'r').read()\n",
    "    object.addModel(mol1,'mol2')\n",
    "    object.addStyle({'resname':'LOD401'},{'stick':{'colorscheme':'cyanCarbon'}})\n",
    "\n",
    "# Lastly, we combine the box grid and protein into a single viewer\n",
    "def viewprotgrid(prot_PDBfile,ligand_file,resids,bxi,byi,bzi,bxf=10,byf=10,bzf=10):\n",
    "    mol_view = py3Dmol.view(1000,1000,viewergrid=(1,2))\n",
    "    definegrid(mol_view,bxi,byi,bzi,bxf,byf,bzf)\n",
    "    viewprot(mol_view,prot_PDBfile,resids)\n",
    "    viewlig(mol_view,ligand_file)\n",
    "    mol_view.setBackgroundColor('0xffffff')\n",
    "    mol_view.rotate(90, {'x':0,'y':1,'z':0},viewer=(0,1));\n",
    "    mol_view.zoomTo()\n",
    "    mol_view.show()"
   ]
  },
  {
   "cell_type": "code",
   "execution_count": null,
   "metadata": {
    "colab": {
     "base_uri": "https://localhost:8080/",
     "height": 497
    },
    "id": "NZOmTzOYhBjC",
    "outputId": "6c251057-2d37-437c-8653-8b1f9a4247bb"
   },
   "outputs": [],
   "source": [
    "viewprotgrid(prot_PDBfile = '6o6f.pdb', ligand_file='ligand.mol2',resids = 20,\n",
    "         bxi=-29.32, # here you put your centre of geometry information you have computed before\n",
    "         byi=-7.88,\n",
    "         bzi=-19.98,\n",
    "         bxf=15,   #This sets the size of the box\n",
    "         byf=15,\n",
    "         bzf=15)"
   ]
  },
  {
   "cell_type": "markdown",
   "metadata": {
    "id": "hsHj1mKghBjC"
   },
   "source": [
    "<div class=\"alert alert-success\">\n",
    "<b>Task 2.</b> Play around with the docking grid. Try different values and see how it affects the protein\n",
    "</div>"
   ]
  },
  {
   "cell_type": "markdown",
   "metadata": {
    "id": "tZpi31kbhBjC"
   },
   "source": [
    "### 3.2 Scoring the X-ray structure of MCL1\n",
    "Now we can do the actual scoring of the ligand crystal structure!"
   ]
  },
  {
   "cell_type": "code",
   "execution_count": null,
   "metadata": {
    "colab": {
     "base_uri": "https://localhost:8080/"
    },
    "id": "iJp99_1whBjC",
    "outputId": "cdcddafc-1ad1-43e3-b919-54f0b78b7603"
   },
   "outputs": [],
   "source": [
    "from vina import Vina\n",
    "\n",
    "v = Vina(sf_name='vina')\n",
    "\n",
    "# Setting the protein\n",
    "v.set_receptor(os.path.join(docking_path,'6o6f.pdbqt'))\n",
    "# Setting the ligand\n",
    "v.set_ligand_from_file(os.path.join(docking_path,'ligand.pdbqt'))\n",
    "\n",
    "# Now we use the grid centre we computed before\n",
    "v.compute_vina_maps(center=grid_centre, box_size=[20, 20, 20])\n",
    "\n",
    "# Score the current pose\n",
    "energy = v.score()\n",
    "print('Score before minimization: %.3f (kcal/mol)' % energy[0])\n",
    "\n",
    "# Minimized locally the current pose\n",
    "energy_minimized = v.optimize()\n",
    "print('Score after minimization : %.3f (kcal/mol)' % energy_minimized[0])\n",
    "v.write_pose(os.path.join(docking_path,'ligand_minized.pdbqt'), overwrite=True)"
   ]
  },
  {
   "cell_type": "markdown",
   "metadata": {
    "id": "T4RD6NT-hBjC"
   },
   "source": [
    "### 3.3 Visualising the protein and ligand before and after minimization"
   ]
  },
  {
   "cell_type": "markdown",
   "metadata": {
    "id": "WFRMcWsuhBjD"
   },
   "source": [
    "Converting back to mol2 files using MDAnalysis."
   ]
  },
  {
   "cell_type": "code",
   "execution_count": null,
   "metadata": {
    "colab": {
     "base_uri": "https://localhost:8080/"
    },
    "id": "XZBuNbl7hBjD",
    "outputId": "dafba98e-b401-4e86-d2e5-fcb1af002a96"
   },
   "outputs": [],
   "source": [
    "u = mda.Universe(os.path.join(docking_path,'ligand_minized.pdbqt'))\n",
    "sel = u.select_atoms('all')\n",
    "sel.write('minimized.pdb')"
   ]
  },
  {
   "cell_type": "code",
   "execution_count": null,
   "metadata": {
    "colab": {
     "base_uri": "https://localhost:8080/",
     "height": 497
    },
    "id": "KxFQ8M1mhBjD",
    "outputId": "f6c2e6f5-019d-413b-a0eb-a5d72033a441"
   },
   "outputs": [],
   "source": [
    "mol_view = py3Dmol.view(1000,1000)\n",
    "mol1 = open('minimized.pdb', 'r').read()\n",
    "mol2 = open(os.path.join('ligand.mol2'), 'r').read()\n",
    "mol_view.addModel(mol1,'pdb')\n",
    "mol_view.addModel(mol2,'mol2')\n",
    "mol_view.setStyle({'stick':{'colorscheme':'cyanCarbon'}})\n",
    "mol_view.setBackgroundColor('0xffffff')\n",
    "mol_view.rotate(90, {'x':0,'y':1,'z':0},viewer=(0,1));\n",
    "mol_view.zoomTo()\n",
    "mol_view.show()"
   ]
  },
  {
   "cell_type": "markdown",
   "metadata": {
    "id": "6I6cQl_vltlu"
   },
   "source": [
    "## 4. Redocking the ligand into the protein  \n",
    "<a id='docking'></a>"
   ]
  },
  {
   "cell_type": "markdown",
   "metadata": {},
   "source": [
    "Now we get to **run the actual docking calculation**!\n",
    "Up until now we only took the crystal pose and scored it using the scoring function and allowed it to minimize its energy a little bit.\n",
    "Now we want to run Vina to generate multiple poses, see how they score, what their RMSD is and how they differ in location to the protein binding site."
   ]
  },
  {
   "cell_type": "markdown",
   "metadata": {
    "id": "HWqqhSDzhBjD"
   },
   "source": [
    "\n",
    "\n",
    "### 4.1 Docking parameter options\n",
    "You have several possible variables that can be edited. A very relevant variable is the **exhaustiveness**, i.e., the number of independent runs starting from random conformations, and therefore the amount of computational effort during molecular docking.\n",
    "\n",
    "The other important one is setting the location of the docking grid correctly which you do with:\n",
    "```\n",
    "v.compute_vina_maps(center=grid_centre, box_size=[20, 20, 20])\n",
    "```\n",
    "The center here is just the geometric centre of your ligand of your X-ray structure.\n",
    "\n",
    "```\n",
    "#OPTIONS\n",
    "cpu = [value] # more cpus reduces the computation time\n",
    "exhaustiveness = [value] # search time for finding the global minimum, default is 8\n",
    "num_modes = [value] # maximum number of binding modes to generate, default is 9\n",
    "energy_range = [value] # maximum energy difference between the best binding mode and the worst one displayed (kcal/mol), default is 3\n",
    "seed = [value] # explicit random seed, not required\n",
    "```"
   ]
  },
  {
   "cell_type": "markdown",
   "metadata": {
    "id": "6YejCiFuhBjD"
   },
   "source": [
    "### 4.2 Running the docking"
   ]
  },
  {
   "cell_type": "code",
   "execution_count": null,
   "metadata": {
    "id": "qHXFJG-yhBjD"
   },
   "outputs": [],
   "source": [
    "v = Vina(sf_name='vina')\n",
    "\n",
    "# Setting the protein\n",
    "v.set_receptor(os.path.join(docking_path,'6o6f.pdbqt'))\n",
    "# Setting the ligand\n",
    "v.set_ligand_from_file(os.path.join(docking_path,'ligand.pdbqt'))\n",
    "\n",
    "# Now we use the grid centre we computed before\n",
    "v.compute_vina_maps(center=grid_centre, box_size=[20, 20, 20])\n",
    "\n",
    "# Dock the ligand\n",
    "v.dock(exhaustiveness=32, n_poses=10)\n",
    "v.write_poses(os.path.join(docking_path,'docked_ligand.pdbqt'), n_poses=3, energy_range=6, overwrite=True)"
   ]
  },
  {
   "cell_type": "code",
   "execution_count": null,
   "metadata": {
    "id": "U1AAh7CohBjD"
   },
   "outputs": [],
   "source": [
    "from openbabel import pybel\n",
    "mol = next(pybel.readfile(\"pdbqt\", os.path.join(docking_path,\"docked_ligand.pdbqt\")))\n",
    "pybelmol = pybel.Molecule(mol)\n",
    "pybelmol.write(\"pdb\", os.path.join(docking_path,\"docked.pdb\"), overwrite=True)"
   ]
  },
  {
   "cell_type": "markdown",
   "metadata": {
    "id": "EXjs-QnPhBjE"
   },
   "source": [
    "We need to convert our output poses into pdb so we can visualise them with py3DMol. Depending on your setting you will have one or multiple poses. You can use MDAnalysis or obabel to do the conversion!"
   ]
  },
  {
   "cell_type": "code",
   "execution_count": null,
   "metadata": {
    "colab": {
     "base_uri": "https://localhost:8080/"
    },
    "id": "SHJGb7iYhBjE",
    "outputId": "8ded2063-ac7f-428d-a04d-8dcec8ca2d25"
   },
   "outputs": [],
   "source": [
    "# If you want to convert our Autodock Vina results from pdbqt into many pdbs you can use this\n",
    "# For this however the commandline obabel option does not seem to work on colab\n",
    "!obabel -ipdbqt $ligandpath/docked_ligand.pdbqt -opdb -O $ligandpath/docked.pdb -m"
   ]
  },
  {
   "cell_type": "markdown",
   "metadata": {
    "id": "yOkeAlNohBjE"
   },
   "source": [
    "### 4.3 Visualising the different docked poses"
   ]
  },
  {
   "cell_type": "code",
   "execution_count": null,
   "metadata": {
    "colab": {
     "base_uri": "https://localhost:8080/",
     "height": 497
    },
    "id": "Xs_o_VANhBjE",
    "outputId": "f24d483e-0e0b-4cf7-cf0f-16ea14f563c9"
   },
   "outputs": [],
   "source": [
    "view = py3Dmol.view()\n",
    "view.setBackgroundColor('white')\n",
    "# Loading the target protein as PDB file\n",
    "view.addModel(open(docking_path/'6o6f_prot_chainB.pdb', 'r').read(),'pdb')\n",
    "view.setStyle({'cartoon': {'color':'spectrum'}})\n",
    "view.zoomTo()\n",
    "# Loading the docking pose\n",
    "view.addModel(open(docking_path/'docked.pdb', 'r').read(),'pdb')\n",
    "view.setStyle({'model':1}, {'stick':{'colorscheme':'greenCarbon'}})\n",
    "# Loading the experimentally solved binding mode\n",
    "view.addModel(open(ligandpath/'ligand.pdb', 'r').read(),'pdb')\n",
    "view.setStyle({'resn':'LOD'},{'stick':{}})\n",
    "view.show()"
   ]
  },
  {
   "cell_type": "markdown",
   "metadata": {
    "id": "asV77yIdhBjE"
   },
   "source": [
    "## 5. Docking from SMILES strings\n",
    "<a id='smiles'></a>"
   ]
  },
  {
   "cell_type": "markdown",
   "metadata": {},
   "source": [
    "This is now a team effort. The idea is to pick a ligand and run the docking protocol not from a known x-ray structure, but from a SMILES string. Below is an overview of the task."
   ]
  },
  {
   "cell_type": "markdown",
   "metadata": {
    "id": "KSYnX-kkhBjE"
   },
   "source": [
    "<div class=\"alert alert-success\">\n",
    "<b>Task 3.</b> It is now your turn to dock MCL1 inhibitors and find the most potent inhibitor! This task comprises of the following steps:\n",
    "\n",
    "1. Pick a SMILES string\n",
    "2. Prepare the string for docking, that will involve converting it to a mol2 file using --gen3d, minimize the pose using gaff and then creating the pdbqt file for docking. For all of this you can use openbabel!\n",
    "3. Docking the file into the already prepared MCL1 protein using the same grid as the existing crystal structure ligand\n",
    "4. Report back your docking score for your ligand!\n",
    "</div>"
   ]
  },
  {
   "cell_type": "markdown",
   "metadata": {
    "id": "NEM5fwsTFcXd"
   },
   "source": [
    "### 5.1 What is the SMILES format?\n",
    "\n",
    "The **Simplified Molecular-Input Line-Entry System** (SMILES) is a text notation that allows a user to represent a chemical structure in a way that can be used by the computer. The elemental notation for different types of bonds between different atoms is as follows:\n",
    "\n",
    "  \\-\tfor single bonds (e.g., C-C or CC is CH3CH3)\n",
    "\n",
    "  \\=\tfor double bonds (e.g., C=C for CH2CH2)\n",
    "\n",
    "  \\#\tfor triple bonds (e.g., C#N for C≡N)\n",
    "\n",
    "  \\\tfor aromatic bond (e.g., C\\*1\\*C\\*C\\*C\\*C\\*C1 or c1ccccc1 for benzene)\n",
    "\n",
    "  \\. for disconnected structures (e.g., Na.Cl for NaCl)\n",
    "\n",
    "  / and \\ for double bond stereoisomers (e.g., F/C=C/F for trans-1,2-difluoroethylene and F/C=C\\F for cis-1,2-difluoroethylene)\n",
    "\n",
    "  @ and @@ for enantiomers (e.g., N\\[C@@H](C)C(=O)O for L-alanine and N\\[C@H](C)C(=O)O for D-alanine)\n"
   ]
  },
  {
   "cell_type": "markdown",
   "metadata": {
    "id": "tLanf4sTChrO"
   },
   "source": [
    "### 5.2. Pick a ligand to work with\n",
    "You can find all SMILES files in the directory `CCP5_Simulation_of_BioMolecules/3_Docking/resources/`.\n",
    "\n",
    "A summary of all the ligands, plus experimental data can be found [here](https://docs.google.com/document/d/161CXaFY18dWeg2i804n67TJHnN_q_KJCDShP8x8rCiM/edit?usp=sharing).\n",
    "\n",
    "Now pick one of the ligands you will work with and put your name in the google doc to keep track of who is working on which ligand!\n",
    "Below is a rough sketch of the workflow with `ligand 27`.\n",
    "\n"
   ]
  },
  {
   "cell_type": "code",
   "execution_count": null,
   "metadata": {
    "colab": {
     "base_uri": "https://localhost:8080/"
    },
    "id": "Ql-5yJ8ohBjF",
    "outputId": "363bd744-c67b-4e89-d27f-79ebe1610930"
   },
   "outputs": [],
   "source": [
    "!head CCP5_Simulation_of_BioMolecules/3_Docking/resources/lig_27.smi"
   ]
  },
  {
   "cell_type": "markdown",
   "metadata": {
    "id": "2cLtyH0HhBjF"
   },
   "source": [
    "Here is some code to help you visualise the ligand! This will show a graphical interface with a text cell at the top. Pasting your SMILES string in the cell will visualise the molecule using the code below."
   ]
  },
  {
   "cell_type": "code",
   "execution_count": null,
   "metadata": {
    "cellView": "form",
    "colab": {
     "base_uri": "https://localhost:8080/",
     "height": 529,
     "referenced_widgets": [
      "a613515ef10a47c3bfa36d10a2585cde",
      "f1c58b601dc3475587317a5215bf9191",
      "50dbe1b7152145778f4cf0112ac13442",
      "dbff58f105964b10966203ed4a61685b",
      "c4060ec5f1c1452f9d705262e6dbd881",
      "d43af9e7e9fa463da1d34e4e43937f55",
      "afbe5139b9ff4280bdf730c95be23e8b"
     ]
    },
    "id": "PjvRbRRMHrw_",
    "outputId": "e41b1d77-3b4c-4e11-a4ae-c458c701aef2"
   },
   "outputs": [],
   "source": [
    "# Use the following Viewer to load your SMILES as a 3D molecule\n",
    "import py3Dmol\n",
    "import rdkit\n",
    "from rdkit import Chem\n",
    "from rdkit.Chem import AllChem\n",
    "\n",
    "def MolTo3DView(mol, size=(300, 300), style=\"stick\", surface=False, opacity=0.5):\n",
    "    assert style in ('line', 'stick', 'sphere', 'carton')\n",
    "    mblock = Chem.MolToMolBlock(mol)\n",
    "    viewer = py3Dmol.view()\n",
    "    viewer.addModel(mblock, 'mol')\n",
    "    viewer.setStyle({style:{}})\n",
    "    if surface:\n",
    "        viewer.addSurface(py3Dmol.SAS, {'opacity': opacity})\n",
    "    viewer.zoomTo()\n",
    "    return viewer\n",
    "\n",
    "from ipywidgets import interact,fixed,IntSlider\n",
    "import ipywidgets\n",
    "\n",
    "def smi2conf(smiles):\n",
    "    '''Convert SMILES to rdkit.Mol with 3D coordinates'''\n",
    "    mol = Chem.MolFromSmiles(smiles)\n",
    "    if mol is not None:\n",
    "        mol = Chem.AddHs(mol)\n",
    "        AllChem.EmbedMolecule(mol)\n",
    "        AllChem.MMFFOptimizeMolecule(mol, maxIters=200)\n",
    "        return mol\n",
    "    else:\n",
    "        return None\n",
    "\n",
    "@interact\n",
    "def smi2viewer(smi='CC=O'):\n",
    "    try:\n",
    "        conf = smi2conf(smi)\n",
    "        return MolTo3DView(conf).show()\n",
    "    except:\n",
    "        return None"
   ]
  },
  {
   "cell_type": "markdown",
   "metadata": {
    "id": "jYkw6q2gkGDH"
   },
   "source": [
    "### 5.3. Constructing parameters from a SMILES string\n",
    "\n",
    "Now, we will take this SMILES format and use it to construct and parameterize a three-dimensional structure of Lig27 in **PDBQT** format for its use in molecular docking. We can follow the same strategy as before making use of babel.\n",
    "\n",
    "Use the program **babel** to convert the SMILES into a **MOL2** file without any extra work (such as searching for best conformers) except for setting the protonation state to pH 7.4, and then use **MGLtools** to parameterize the ligand using **Gasteiger** partial charges (this is the canonical option for the majority of AutoDock users). Please note that we are generating a ligand in which **all torsions are active** during the docking procedure."
   ]
  },
  {
   "cell_type": "code",
   "execution_count": null,
   "metadata": {
    "id": "Xczg-Yb1HBvZ"
   },
   "outputs": [],
   "source": [
    "from openbabel import pybel\n",
    "smiles = 'O=C([O-])c1[nH]c2ccccc2c1CCCOc1ccccc1' #fixme, find the one for the right ligand\n",
    "mol = pybel.readstring(\"smi\", smiles)\n",
    "mol.addh()\n",
    "mol.make3D()\n",
    "mol.write(\"mol2\", \"lig_27.mol2\", overwrite=True) #fix me correct filename"
   ]
  },
  {
   "cell_type": "code",
   "execution_count": null,
   "metadata": {
    "colab": {
     "base_uri": "https://localhost:8080/"
    },
    "id": "sGUHorvYnJ9k",
    "outputId": "d111e789-83c5-443b-ecd4-8835c59c69ed"
   },
   "outputs": [],
   "source": [
    "!prepare_ligand4.py -l lig_27.mol2 -o $docking_path/lig_27.pdbqt -U nphs_lps -v\n",
    "# NOTE: for some reason, MGLtools does not recognize the ligand when inside a different folder\n",
    "# Here we are deleting the temporary PDB file required for generating the PDBQT file\n",
    "# os.remove(\"lig27.mol2\")"
   ]
  },
  {
   "cell_type": "markdown",
   "metadata": {
    "id": "83g5ZTtGTANG"
   },
   "source": [
    "### 5.4. Now run the docking again\n",
    "Here is where you will have to write your own code to get this to work (copying from above)."
   ]
  },
  {
   "cell_type": "code",
   "execution_count": null,
   "metadata": {
    "id": "8UiMUHOFhBjG"
   },
   "outputs": [],
   "source": [
    "v = Vina(sf_name='vina')\n",
    "\n",
    "# Setting the protein\n",
    "v.set_receptor(os.path.join(docking_path,'6o6f.pdbqt'))\n",
    "# Setting the ligand\n",
    "\n",
    "\n",
    "# Now we use the grid centre we computed before because we are still docking into the same binding site\n",
    "\n",
    "\n",
    "# Dock the ligand\n"
   ]
  },
  {
   "cell_type": "markdown",
   "metadata": {
    "id": "djwIbf9phBjG"
   },
   "source": [
    "`v.energies` will give you back information on your different poses. When using the autodockFF it will give back 5 columns each containing the following information:\n",
    "`columns=[total energy, inter atomic contributions, intra atomic contributions, torsions contributions,difference between this and the best pose]`"
   ]
  },
  {
   "cell_type": "markdown",
   "metadata": {
    "id": "oPbx_2RKhBjG"
   },
   "source": [
    "### 5.5. Visualise your docked pose using the code from above\n",
    "If you want to know what the correct binding pose is for this series of ligands you can check out Lig27's correct binding pose and visualise it against your docked structure. You can find the X-ray structure pose for ligand 27 in `resouces/xtal-pose/lig27_pose.pdb`"
   ]
  },
  {
   "cell_type": "markdown",
   "metadata": {
    "id": "bD7-WxTZhBjH"
   },
   "source": [
    "**Remember this is how you convert your pdbqt file to multipdb**\n",
    "```\n",
    "#We need to convert our Autodock Vina results from pdbqt into pdb\n",
    "#For this, we use babel\n",
    "!obabel -ipdbqt docked.pdbqt -opdb -O output_dock.pdb -m\n",
    "```"
   ]
  },
  {
   "cell_type": "code",
   "execution_count": null,
   "metadata": {
    "id": "dtn44Cr4hBjH"
   },
   "outputs": [],
   "source": [
    "## your visualisation code here\n",
    "\n"
   ]
  },
  {
   "cell_type": "markdown",
   "metadata": {
    "id": "a4jPb_ephBjH"
   },
   "source": [
    "<div class=\"alert alert-success\">\n",
    "<b>Task 4.</b> What could you have done to improve the docking?\n",
    "</div>"
   ]
  },
  {
   "cell_type": "markdown",
   "metadata": {
    "id": "2aTEYjuuhBjH"
   },
   "source": [
    "### 5.6. Getting improved starting point for docking from your SMILES string"
   ]
  },
  {
   "cell_type": "markdown",
   "metadata": {
    "id": "f7f3M71rhBjI"
   },
   "source": [
    "#### 5.6.1. Parameters with an energy minimisation"
   ]
  },
  {
   "cell_type": "markdown",
   "metadata": {
    "id": "j9aZXCeVnJlv"
   },
   "source": [
    "You can also convert the SMILES into a 3D **MOL2** file while simultaneously performing and energy minimization using the Generalized Amber Force Field (**GAFF**). Then, use **MGLtools** to parameterize the ligand using **Gasteiger** partial charges. Please note that we are generating a ligand in which **all torsions are active** during the docking procedure.\n",
    "\n",
    "```\n",
    "from biobb_chemistry.babelm.babel_minimize import babel_minimize\n",
    "prop = {\n",
    "    'criteria': 1e-6,\n",
    "    'method': 'cg',\n",
    "    'force_field': 'GAFF'\n",
    "}\n",
    "babel_minimize(input_path='lig27.mol2',\n",
    "                output_path='minlig27.mol2',\n",
    "                properties=prop)\n",
    "\n",
    "\n",
    "# Preparing the ligand for docking\n",
    "!prepare_ligand4.py -l minlig27.mol2 -o $docking_path/lig27.pdbqt -U nphs_lps -v\n",
    "os.remove(\"minlig27.mol2\")\n",
    "```"
   ]
  },
  {
   "cell_type": "markdown",
   "metadata": {
    "id": "PWxOC9h7qMVE"
   },
   "source": [
    "#### 5.6.2. Parameters with an energy minimisation and conformer generation\n",
    "\n",
    "Use the program **babel** to  convert the SMILES into a 3D **MOL2** file while simultaneously performing a weighted rotor search for the lowest energy conformer using the Generalized Amber Force Field (**GAFF**). Then, use **MGLtools** to parameterize the ligand using **Gasteiger** partial charges. Please note that we are generating a ligand in which **all torsions are active** during the docking procedure.\n",
    "\n",
    "```\n",
    "# Converting lig27 from SMILES into a 3D MOL2 format and perform a weighted rotor search for lowest energy conformer\n",
    "# Then, prepare ligand for docking using the Autodock script\n",
    "!obabel $ligandpath/lig27.smi -O lig27.mol2 --gen3d --best --canonical --conformers --weighted --nconf 50 --ff GAFF\n",
    "!prepare_ligand4.py -l lig27.mol2 -o $docking_path/lig27.pdbqt -U nphs_lps -v\n",
    "os.remove(\"lig27.mol2\")\n",
    "```"
   ]
  },
  {
   "cell_type": "markdown",
   "metadata": {
    "id": "2Kz0kmnhhBjI"
   },
   "source": [
    "### 5.6.3. Defining flexible atoms in the receptor binding site\n",
    "The last obvious thing to improve docking results is allowing for the binding site side chain residues to be flexible when you do.\n",
    "To achieve this you can use the `!prepare_receptor4.py`. However, bare in mind this is in Python 2.7 and **maybe using a different docking tool** is an overall better solution!"
   ]
  },
  {
   "cell_type": "markdown",
   "metadata": {
    "id": "ACJSETwdymVx"
   },
   "source": [
    "**And this is the end of the docking tutorial!** If you want to download your results, you can compress them into a zip file for manual download."
   ]
  },
  {
   "cell_type": "code",
   "execution_count": null,
   "metadata": {
    "colab": {
     "base_uri": "https://localhost:8080/",
     "height": 191
    },
    "id": "DPQP2YWD48xx",
    "outputId": "8ff3f195-606a-44c9-dcff-311afa616164"
   },
   "outputs": [],
   "source": [
    "!zip -r singledocking.zip $docking_path\n",
    "# By default, automatic download is enabled through the following lines\n",
    "# but you need to disable your adblocker in order for it to work\n",
    "from google.colab import files\n",
    "files.download(\"/content/singledocking.zip\")"
   ]
  },
  {
   "cell_type": "markdown",
   "metadata": {
    "id": "N_WZhYbynxQn"
   },
   "source": [
    "## 6. Conclusion\n",
    "<a id='conclusion'></a>"
   ]
  },
  {
   "cell_type": "markdown",
   "metadata": {},
   "source": [
    "<div class=\"alert alert-info\">\n",
    "    <b>Key points:</b>   \n",
    "\n",
    "- Docking can provide a binding pose and an associated score with it\n",
    "- Vina is a tool that can be used for docking that is open source\n",
    "- Vina can be used through a mixture of command line tools and Python API.\n",
    "- There are many docking tools available; the docking process is broadly similar for all tools, however, there may be easier variants that have a full Python integration.\n",
    "- Be aware that scores from docking are not always very reliable. \n",
    "</div>"
   ]
  },
  {
   "cell_type": "markdown",
   "metadata": {},
   "source": [
    "---"
   ]
  }
 ],
 "metadata": {
  "colab": {
   "provenance": []
  },
  "kernelspec": {
   "display_name": "Python 3 (ipykernel)",
   "language": "python",
   "name": "python3"
  },
  "language_info": {
   "codemirror_mode": {
    "name": "ipython",
    "version": 3
   },
   "file_extension": ".py",
   "mimetype": "text/x-python",
   "name": "python",
   "nbconvert_exporter": "python",
   "pygments_lexer": "ipython3",
   "version": "3.10.14"
  },
  "widgets": {
   "application/vnd.jupyter.widget-state+json": {
    "50dbe1b7152145778f4cf0112ac13442": {
     "model_module": "@jupyter-widgets/output",
     "model_module_version": "1.0.0",
     "model_name": "OutputModel",
     "state": {
      "_dom_classes": [],
      "_model_module": "@jupyter-widgets/output",
      "_model_module_version": "1.0.0",
      "_model_name": "OutputModel",
      "_view_count": null,
      "_view_module": "@jupyter-widgets/output",
      "_view_module_version": "1.0.0",
      "_view_name": "OutputView",
      "layout": "IPY_MODEL_afbe5139b9ff4280bdf730c95be23e8b",
      "msg_id": "",
      "outputs": [
       {
        "data": {
         "application/3dmoljs_load.v0": "<div id=\"3dmolviewer_1721654576450663\"  style=\"position: relative; width: 640px; height: 480px;\">\n        <p id=\"3dmolwarning_1721654576450663\" style=\"background-color:#ffcccc;color:black\">3Dmol.js failed to load for some reason.  Please check your browser console for error messages.<br></p>\n        </div>\n<script>\n\nvar loadScriptAsync = function(uri){\n  return new Promise((resolve, reject) => {\n    //this is to ignore the existence of requirejs amd\n    var savedexports, savedmodule;\n    if (typeof exports !== 'undefined') savedexports = exports;\n    else exports = {}\n    if (typeof module !== 'undefined') savedmodule = module;\n    else module = {}\n\n    var tag = document.createElement('script');\n    tag.src = uri;\n    tag.async = true;\n    tag.onload = () => {\n        exports = savedexports;\n        module = savedmodule;\n        resolve();\n    };\n  var firstScriptTag = document.getElementsByTagName('script')[0];\n  firstScriptTag.parentNode.insertBefore(tag, firstScriptTag);\n});\n};\n\nif(typeof $3Dmolpromise === 'undefined') {\n$3Dmolpromise = null;\n  $3Dmolpromise = loadScriptAsync('https://cdnjs.cloudflare.com/ajax/libs/3Dmol/2.2.1-post1/3Dmol-min.js');\n}\n\nvar viewer_1721654576450663 = null;\nvar warn = document.getElementById(\"3dmolwarning_1721654576450663\");\nif(warn) {\n    warn.parentNode.removeChild(warn);\n}\n$3Dmolpromise.then(function() {\nviewer_1721654576450663 = $3Dmol.createViewer(document.getElementById(\"3dmolviewer_1721654576450663\"),{backgroundColor:\"white\"});\nviewer_1721654576450663.zoomTo();\n\tviewer_1721654576450663.addModel(\"\\n     RDKit          3D\\n\\n  7  6  0  0  0  0  0  0  0  0999 V2000\\n   -0.6493   -0.0405   -0.0162 C   0  0  0  0  0  0  0  0  0  0  0  0\\n    0.8445    0.0590    0.0226 C   0  0  0  0  0  0  0  0  0  0  0  0\\n    1.5910   -0.8905   -0.1908 O   0  0  0  0  0  0  0  0  0  0  0  0\\n   -1.0333    0.6413   -0.7785 H   0  0  0  0  0  0  0  0  0  0  0  0\\n   -0.9509   -1.0627   -0.2575 H   0  0  0  0  0  0  0  0  0  0  0  0\\n   -1.0515    0.2362    0.9611 H   0  0  0  0  0  0  0  0  0  0  0  0\\n    1.2496    1.0572    0.2593 H   0  0  0  0  0  0  0  0  0  0  0  0\\n  1  2  1  0\\n  2  3  2  0\\n  1  4  1  0\\n  1  5  1  0\\n  1  6  1  0\\n  2  7  1  0\\nM  END\\n\",\"mol\");\n\tviewer_1721654576450663.setStyle({\"stick\": {}});\n\tviewer_1721654576450663.zoomTo();\nviewer_1721654576450663.render();\n});\n</script>",
         "text/html": "<div id=\"3dmolviewer_1721654576450663\"  style=\"position: relative; width: 640px; height: 480px;\">\n        <p id=\"3dmolwarning_1721654576450663\" style=\"background-color:#ffcccc;color:black\">3Dmol.js failed to load for some reason.  Please check your browser console for error messages.<br></p>\n        </div>\n<script>\n\nvar loadScriptAsync = function(uri){\n  return new Promise((resolve, reject) => {\n    //this is to ignore the existence of requirejs amd\n    var savedexports, savedmodule;\n    if (typeof exports !== 'undefined') savedexports = exports;\n    else exports = {}\n    if (typeof module !== 'undefined') savedmodule = module;\n    else module = {}\n\n    var tag = document.createElement('script');\n    tag.src = uri;\n    tag.async = true;\n    tag.onload = () => {\n        exports = savedexports;\n        module = savedmodule;\n        resolve();\n    };\n  var firstScriptTag = document.getElementsByTagName('script')[0];\n  firstScriptTag.parentNode.insertBefore(tag, firstScriptTag);\n});\n};\n\nif(typeof $3Dmolpromise === 'undefined') {\n$3Dmolpromise = null;\n  $3Dmolpromise = loadScriptAsync('https://cdnjs.cloudflare.com/ajax/libs/3Dmol/2.2.1-post1/3Dmol-min.js');\n}\n\nvar viewer_1721654576450663 = null;\nvar warn = document.getElementById(\"3dmolwarning_1721654576450663\");\nif(warn) {\n    warn.parentNode.removeChild(warn);\n}\n$3Dmolpromise.then(function() {\nviewer_1721654576450663 = $3Dmol.createViewer(document.getElementById(\"3dmolviewer_1721654576450663\"),{backgroundColor:\"white\"});\nviewer_1721654576450663.zoomTo();\n\tviewer_1721654576450663.addModel(\"\\n     RDKit          3D\\n\\n  7  6  0  0  0  0  0  0  0  0999 V2000\\n   -0.6493   -0.0405   -0.0162 C   0  0  0  0  0  0  0  0  0  0  0  0\\n    0.8445    0.0590    0.0226 C   0  0  0  0  0  0  0  0  0  0  0  0\\n    1.5910   -0.8905   -0.1908 O   0  0  0  0  0  0  0  0  0  0  0  0\\n   -1.0333    0.6413   -0.7785 H   0  0  0  0  0  0  0  0  0  0  0  0\\n   -0.9509   -1.0627   -0.2575 H   0  0  0  0  0  0  0  0  0  0  0  0\\n   -1.0515    0.2362    0.9611 H   0  0  0  0  0  0  0  0  0  0  0  0\\n    1.2496    1.0572    0.2593 H   0  0  0  0  0  0  0  0  0  0  0  0\\n  1  2  1  0\\n  2  3  2  0\\n  1  4  1  0\\n  1  5  1  0\\n  1  6  1  0\\n  2  7  1  0\\nM  END\\n\",\"mol\");\n\tviewer_1721654576450663.setStyle({\"stick\": {}});\n\tviewer_1721654576450663.zoomTo();\nviewer_1721654576450663.render();\n});\n</script>"
        },
        "metadata": {},
        "output_type": "display_data"
       }
      ]
     }
    },
    "a613515ef10a47c3bfa36d10a2585cde": {
     "model_module": "@jupyter-widgets/controls",
     "model_module_version": "1.5.0",
     "model_name": "VBoxModel",
     "state": {
      "_dom_classes": [
       "widget-interact"
      ],
      "_model_module": "@jupyter-widgets/controls",
      "_model_module_version": "1.5.0",
      "_model_name": "VBoxModel",
      "_view_count": null,
      "_view_module": "@jupyter-widgets/controls",
      "_view_module_version": "1.5.0",
      "_view_name": "VBoxView",
      "box_style": "",
      "children": [
       "IPY_MODEL_f1c58b601dc3475587317a5215bf9191",
       "IPY_MODEL_50dbe1b7152145778f4cf0112ac13442"
      ],
      "layout": "IPY_MODEL_dbff58f105964b10966203ed4a61685b"
     }
    },
    "afbe5139b9ff4280bdf730c95be23e8b": {
     "model_module": "@jupyter-widgets/base",
     "model_module_version": "1.2.0",
     "model_name": "LayoutModel",
     "state": {
      "_model_module": "@jupyter-widgets/base",
      "_model_module_version": "1.2.0",
      "_model_name": "LayoutModel",
      "_view_count": null,
      "_view_module": "@jupyter-widgets/base",
      "_view_module_version": "1.2.0",
      "_view_name": "LayoutView",
      "align_content": null,
      "align_items": null,
      "align_self": null,
      "border": null,
      "bottom": null,
      "display": null,
      "flex": null,
      "flex_flow": null,
      "grid_area": null,
      "grid_auto_columns": null,
      "grid_auto_flow": null,
      "grid_auto_rows": null,
      "grid_column": null,
      "grid_gap": null,
      "grid_row": null,
      "grid_template_areas": null,
      "grid_template_columns": null,
      "grid_template_rows": null,
      "height": null,
      "justify_content": null,
      "justify_items": null,
      "left": null,
      "margin": null,
      "max_height": null,
      "max_width": null,
      "min_height": null,
      "min_width": null,
      "object_fit": null,
      "object_position": null,
      "order": null,
      "overflow": null,
      "overflow_x": null,
      "overflow_y": null,
      "padding": null,
      "right": null,
      "top": null,
      "visibility": null,
      "width": null
     }
    },
    "c4060ec5f1c1452f9d705262e6dbd881": {
     "model_module": "@jupyter-widgets/base",
     "model_module_version": "1.2.0",
     "model_name": "LayoutModel",
     "state": {
      "_model_module": "@jupyter-widgets/base",
      "_model_module_version": "1.2.0",
      "_model_name": "LayoutModel",
      "_view_count": null,
      "_view_module": "@jupyter-widgets/base",
      "_view_module_version": "1.2.0",
      "_view_name": "LayoutView",
      "align_content": null,
      "align_items": null,
      "align_self": null,
      "border": null,
      "bottom": null,
      "display": null,
      "flex": null,
      "flex_flow": null,
      "grid_area": null,
      "grid_auto_columns": null,
      "grid_auto_flow": null,
      "grid_auto_rows": null,
      "grid_column": null,
      "grid_gap": null,
      "grid_row": null,
      "grid_template_areas": null,
      "grid_template_columns": null,
      "grid_template_rows": null,
      "height": null,
      "justify_content": null,
      "justify_items": null,
      "left": null,
      "margin": null,
      "max_height": null,
      "max_width": null,
      "min_height": null,
      "min_width": null,
      "object_fit": null,
      "object_position": null,
      "order": null,
      "overflow": null,
      "overflow_x": null,
      "overflow_y": null,
      "padding": null,
      "right": null,
      "top": null,
      "visibility": null,
      "width": null
     }
    },
    "d43af9e7e9fa463da1d34e4e43937f55": {
     "model_module": "@jupyter-widgets/controls",
     "model_module_version": "1.5.0",
     "model_name": "DescriptionStyleModel",
     "state": {
      "_model_module": "@jupyter-widgets/controls",
      "_model_module_version": "1.5.0",
      "_model_name": "DescriptionStyleModel",
      "_view_count": null,
      "_view_module": "@jupyter-widgets/base",
      "_view_module_version": "1.2.0",
      "_view_name": "StyleView",
      "description_width": ""
     }
    },
    "dbff58f105964b10966203ed4a61685b": {
     "model_module": "@jupyter-widgets/base",
     "model_module_version": "1.2.0",
     "model_name": "LayoutModel",
     "state": {
      "_model_module": "@jupyter-widgets/base",
      "_model_module_version": "1.2.0",
      "_model_name": "LayoutModel",
      "_view_count": null,
      "_view_module": "@jupyter-widgets/base",
      "_view_module_version": "1.2.0",
      "_view_name": "LayoutView",
      "align_content": null,
      "align_items": null,
      "align_self": null,
      "border": null,
      "bottom": null,
      "display": null,
      "flex": null,
      "flex_flow": null,
      "grid_area": null,
      "grid_auto_columns": null,
      "grid_auto_flow": null,
      "grid_auto_rows": null,
      "grid_column": null,
      "grid_gap": null,
      "grid_row": null,
      "grid_template_areas": null,
      "grid_template_columns": null,
      "grid_template_rows": null,
      "height": null,
      "justify_content": null,
      "justify_items": null,
      "left": null,
      "margin": null,
      "max_height": null,
      "max_width": null,
      "min_height": null,
      "min_width": null,
      "object_fit": null,
      "object_position": null,
      "order": null,
      "overflow": null,
      "overflow_x": null,
      "overflow_y": null,
      "padding": null,
      "right": null,
      "top": null,
      "visibility": null,
      "width": null
     }
    },
    "f1c58b601dc3475587317a5215bf9191": {
     "model_module": "@jupyter-widgets/controls",
     "model_module_version": "1.5.0",
     "model_name": "TextModel",
     "state": {
      "_dom_classes": [],
      "_model_module": "@jupyter-widgets/controls",
      "_model_module_version": "1.5.0",
      "_model_name": "TextModel",
      "_view_count": null,
      "_view_module": "@jupyter-widgets/controls",
      "_view_module_version": "1.5.0",
      "_view_name": "TextView",
      "continuous_update": true,
      "description": "smi",
      "description_tooltip": null,
      "disabled": false,
      "layout": "IPY_MODEL_c4060ec5f1c1452f9d705262e6dbd881",
      "placeholder": "​",
      "style": "IPY_MODEL_d43af9e7e9fa463da1d34e4e43937f55",
      "value": "CC=O"
     }
    }
   }
  }
 },
 "nbformat": 4,
 "nbformat_minor": 4
}
