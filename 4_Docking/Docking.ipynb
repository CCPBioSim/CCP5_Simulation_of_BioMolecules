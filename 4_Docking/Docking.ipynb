{
 "cells": [
  {
   "cell_type": "markdown",
   "metadata": {
    "id": "WutUwTFo2e4j"
   },
   "source": [
    "# Molecular Docking on AutoDock"
   ]
  },
  {
   "cell_type": "markdown",
   "metadata": {
    "id": "GHIB7lK5_wWH"
   },
   "source": [
    "### This notebook was adapted from the original Lab.06 / IBM3202 – Molecular Docking on AutoDock.\n",
    "It forms part of a very good bioinformatics series which can be found [here](https://github.com/pb3lab/ibm3202).\n",
    "This was released under and MIT license.\n",
    "\n",
    "### Citation:\n",
    "Engelberger F, Galaz-Davison P, Bravo G, Rivera M, Ramírez-Sarmiento CA (2021) Developing and Implementing Cloud-Based Tutorials that Combine Bioinformatics Software, Interactive Coding and Visualization Exercises for Distance Learning on Structural Bioinformatics. J Chem Educ 98(5): 1801-1807. doi: 10.1021/acs.jchemed.1c00022"
   ]
  },
  {
   "cell_type": "markdown",
   "metadata": {
    "id": "3Pxh6zot_wWI"
   },
   "source": [
    "<a rel=\"license\" href=\"https://creativecommons.org/licenses/by-nc-sa/4.0/\"><img alt=\"Creative Commons Licence\" style=\"width=50\" src=\"https://licensebuttons.net/l/by-nc-sa/4.0/88x31.png\" title='This work is licensed under a Creative Commons Attribution 4.0 International License.' align=\"right\"/></a>\n",
    "\n",
    "\n",
    "\n",
    "<a rel=\"license\" href=\"https://opensource.org/licenses/MIT \"><img alt=\"MIT Licence\" src=\"https://img.shields.io/badge/License-MIT-yellow.svg\" align=\"left\"/></a>\n",
    "\n",
    "<br></br>\n",
    "**Authors**: Engelberger F, Galaz-Davison P, Bravo G, Rivera M, Ramírez-Sarmiento CA   \n",
    "**Contributor**: Dr Antonia Mey (antonia.mey@ed.ac.uk) and Rohan Gorantla"
   ]
  },
  {
   "cell_type": "markdown",
   "metadata": {
    "id": "gRuamkN__wWJ"
   },
   "source": [
    "**Questions:** Can we create a protein-ligand complex from a crystal structure and a smiles string?\n",
    "\n",
    "**Objectives:**\n",
    "  - Prepare a protein for docking with Autodock Vina\n",
    "  - Prepare a series of ligands for Docking\n",
    "  - Understand docking results by computing RMSDs and comparing scores against experimental results"
   ]
  },
  {
   "cell_type": "markdown",
   "metadata": {
    "id": "ZFXi2nGA_wWJ"
   },
   "source": [
    "**Jupyter cheat sheet**:\n",
    "- to run the currently highlighted cell, hold <kbd>&#x21E7; Shift</kbd> and press <kbd>&#x23ce; Enter</kbd>;\n",
    "- to get help for a specific function, place the cursor within the function's brackets, hold <kbd>&#x21E7; Shift</kbd>, and press <kbd>&#x21E5; Tab</kbd>;"
   ]
  },
  {
   "cell_type": "markdown",
   "metadata": {
    "id": "7sD-Kmkb_wWJ"
   },
   "source": [
    "## Google Colab setup\n",
    "\n",
    "<div class=\"alert alert-warning\">\n",
    "<b>Attention:</b> Please only run the following cell if you are using Colab! This cell will download the data required for Section 4 of this tutorial.</div>"
   ]
  },
  {
   "cell_type": "code",
   "execution_count": null,
   "metadata": {
    "colab": {
     "base_uri": "https://localhost:8080/"
    },
    "id": "TTJObgCZ_wWK",
    "outputId": "aa917beb-c697-4617-f9ae-0a88af769e47"
   },
   "outputs": [],
   "source": [
    "!if [ -n \"$COLAB_RELEASE_TAG\" ]; then git clone https://github.com/CCPBioSim/CCP5_Simulation_of_BioMolecules; fi\n",
    "import os\n",
    "os.chdir(f\"CCP5_Simulation_of_BioMolecules{os.sep}4_Docking\")"
   ]
  },
  {
   "cell_type": "markdown",
   "metadata": {},
   "source": [
    "## Table of Contents\n",
    "[0.   Setup](#setup)   \n",
    "[1.   Theoretical background](#theory)   \n",
    "[2.   Protein prep](#protein)   \n",
    "[3.   Ligand prep](#ligand)   \n",
    "[4.   Docking](#docking)   "
   ]
  },
  {
   "cell_type": "markdown",
   "metadata": {
    "id": "buTRd47h4QfK"
   },
   "source": [
    "# 0. Setting up and downloading and installing the required software\n",
    "<a id='setup'></a>"
   ]
  },
  {
   "cell_type": "markdown",
   "metadata": {
    "id": "KSAoowL_4XIV"
   },
   "source": [
    "The following is for **Google Colab** only!\n",
    "\n",
    "This tutorial has many dependencies for it to work. They are:\n",
    "- **biopython** for manipulation of the PDB files\n",
    "- **py3Dmol** to visualise the protein structure and set up the search grid.\n",
    "- **miniconda**, a free minimal installer of **conda** for software package and environment management.\n",
    "- **OpenBabel** for parameterization of our ligand(s).\n",
    "- **MGLtools** are used to parameterize our target protein using Gasteiger charges.\n",
    "- **pdb2pqr** for parameterization of our protein using the AMBER ff99 forcefield.\n",
    "- **Autodock Vina** for the docking process\n",
    "\n",
    "After several tests, the following installation instructions are the best way of setting up **Google Colab** for this laboratory session."
   ]
  },
  {
   "cell_type": "markdown",
   "metadata": {
    "id": "usGMfVue_wWM"
   },
   "source": [
    "### 0.1 Setup conda colab"
   ]
  },
  {
   "cell_type": "code",
   "execution_count": null,
   "metadata": {
    "colab": {
     "base_uri": "https://localhost:8080/"
    },
    "id": "dcW3DBEQ5e4G",
    "outputId": "fa38878e-7ea7-41c4-93e5-7242207da15d"
   },
   "outputs": [],
   "source": [
    "!pip install -q condacolab\n",
    "import condacolab\n",
    "condacolab.install()"
   ]
  },
  {
   "cell_type": "markdown",
   "metadata": {
    "id": "5wU_hFmf_wWN"
   },
   "source": [
    "### 0.2 Check conda colab works"
   ]
  },
  {
   "cell_type": "code",
   "execution_count": null,
   "metadata": {
    "colab": {
     "base_uri": "https://localhost:8080/"
    },
    "id": "5pKu2uUA5eqh",
    "outputId": "ec2c625a-e0c8-45ac-81b3-e89d6c29f52e"
   },
   "outputs": [],
   "source": [
    "import condacolab\n",
    "condacolab.check()"
   ]
  },
  {
   "cell_type": "markdown",
   "metadata": {
    "id": "1rf7f4Bz_wWN"
   },
   "source": [
    "### 0.3 Install py3D mol for visualisation and pdb2pqr for parametrisation"
   ]
  },
  {
   "cell_type": "code",
   "execution_count": null,
   "metadata": {
    "colab": {
     "base_uri": "https://localhost:8080/"
    },
    "id": "nZorFT6LEVOv",
    "outputId": "a380be4d-2a3f-4c09-94c4-3fb1b3b06167"
   },
   "outputs": [],
   "source": [
    "!pip install py3Dmol\n",
    "!pip install pdb2pqr"
   ]
  },
  {
   "cell_type": "markdown",
   "metadata": {
    "id": "ADXOZD9m_wWO"
   },
   "source": [
    "### 0.4 Creating and installing the rest of the environment"
   ]
  },
  {
   "cell_type": "code",
   "execution_count": null,
   "metadata": {
    "id": "eT2l0Bn4Hgf0"
   },
   "outputs": [],
   "source": [
    "# Step 1: Create the env.yml file\n",
    "env_yaml = \"\"\"\n",
    "channels:\n",
    "  - conda-forge\n",
    "\n",
    "dependencies:\n",
    "  - python >= 3.8\n",
    "  - pip\n",
    "  - tqdm\n",
    "  - loguru\n",
    "  - fsspec\n",
    "  - s3fs\n",
    "  - gcsfs\n",
    "  - joblib\n",
    "\n",
    "  # Scientific\n",
    "  - pandas = 2.1\n",
    "  - numpy\n",
    "  - scipy\n",
    "\n",
    "  # Chemistry\n",
    "  - rdkit\n",
    "  - datamol\n",
    "  - openmm >=7.6.0\n",
    "  - pdbfixer >=1.8\n",
    "  - openmmforcefields\n",
    "  - mdtraj\n",
    "  - mdanalysis\n",
    "\n",
    "  # Docking\n",
    "  - openbabel\n",
    "  - smina\n",
    "  - qvina\n",
    "  - fpocket\n",
    "\n",
    "  # Viz\n",
    "  - matplotlib\n",
    "  - ipywidgets = 7.7.2\n",
    "  - nglview\n",
    "\"\"\"\n",
    "\n",
    "# Write the environment configuration to a file\n",
    "with open(\"environment.yml\", \"w\") as file:\n",
    "    file.write(env_yaml)\n"
   ]
  },
  {
   "cell_type": "markdown",
   "metadata": {
    "id": "Nxy-_Izh_wWO"
   },
   "source": [
    "And now we can install the environment we have created using mamba. Please be patient! **The next two cells may take some time to run**."
   ]
  },
  {
   "cell_type": "code",
   "execution_count": null,
   "metadata": {
    "id": "5ztOLFuC5PEx"
   },
   "outputs": [],
   "source": [
    "%%capture\n",
    "!mamba env update -n base -f environment.yml"
   ]
  },
  {
   "cell_type": "code",
   "execution_count": null,
   "metadata": {
    "colab": {
     "base_uri": "https://localhost:8080/"
    },
    "id": "vxVlNFNbBkBU",
    "outputId": "61be4d60-d2e7-4231-d388-85843b354eb1"
   },
   "outputs": [],
   "source": [
    "%%capture\n",
    "!mamba install -c conda-forge -c bioconda mgltools openbabel zlib ncurses --yes"
   ]
  },
  {
   "cell_type": "code",
   "execution_count": null,
   "metadata": {
    "id": "jS2vRGLx40Du"
   },
   "outputs": [],
   "source": [
    "# Importing py3Dmol for safety\n",
    "import py3Dmol"
   ]
  },
  {
   "cell_type": "code",
   "execution_count": null,
   "metadata": {
    "colab": {
     "base_uri": "https://localhost:8080/"
    },
    "id": "BPObwIbRnGJI",
    "outputId": "87c948d3-a978-4441-9f20-36aeaf5bd00b"
   },
   "outputs": [],
   "source": [
    "# Checking that pdb2pqr was properly installed\n",
    "!pdb2pqr30 -h | awk 'NR==1{if($1==\"usage:\") print \"PDB2PQR succesfully installed\"; else if($1!=\"usage:\") print \"Something went wrong. Please install again\"}'"
   ]
  },
  {
   "cell_type": "markdown",
   "metadata": {
    "id": "T8Mbw9KE6Xss"
   },
   "source": [
    "### 0.5 Autodock Vina\n",
    "Finally, we will download the Autodock Vina program from the [AutoDock Vina GitHub](https://github.com/ccsb-scripps/AutoDock-Vina) and make an alias to use it during this session"
   ]
  },
  {
   "cell_type": "code",
   "execution_count": null,
   "metadata": {
    "id": "k4UpudGkCUYn"
   },
   "outputs": [],
   "source": [
    "# Download and extract Autodock Vina from SCRIPPS\n",
    "# Then, we set up an alias for vina to be treated as a native binary\n",
    "%%bash\n",
    "mkdir vina\n",
    "cd vina\n",
    "wget -q https://github.com/ccsb-scripps/AutoDock-Vina/releases/download/v1.2.5/vina_1.2.5_linux_x86_64\n",
    "chmod +x /content/vina/vina_1.2.5_linux_x86_64\n",
    "wget -q https://github.com/ccsb-scripps/AutoDock-Vina/releases/download/v1.2.5/vina_split_1.2.5_linux_x86_64\n",
    "chmod +x /content/vina/vina_split_1.2.5_linux_x86_64"
   ]
  },
  {
   "cell_type": "code",
   "execution_count": null,
   "metadata": {
    "id": "s-4Jw2Om7GEn"
   },
   "outputs": [],
   "source": [
    "%alias vina /content/vina/vina_1.2.5_linux_x86_64\n",
    "%alias vina_split /content/vina/vina_1.2.5_linux_x86_64"
   ]
  },
  {
   "cell_type": "markdown",
   "metadata": {
    "id": "5j24YCyD7Zlf"
   },
   "source": [
    "Now you should have a working environment and we can actually start thinking about running docking!"
   ]
  },
  {
   "cell_type": "markdown",
   "metadata": {
    "id": "FQMdCpigVK-X"
   },
   "source": [
    "## 1. Theoretical aspects\n",
    "<a id='theory'></a>\n",
    "Many protein structures are determined experimentally using X-ray crystallography or nuclear magnetic resonance (NMR) spectroscopy and computationally through AlphaFold molecular docking, which is an essential tool in **drug discovery**.\n",
    "\n",
    "**Molecular docking** explores the potential binding poses of small molecules in the **binding site** of a target protein for which reliable atomic coordinates are available.\n",
    "\n",
    "Thus, the **_druggability_** of different compounds and their binding affinity on a given protein target can be calculated. This can help identify lead compounds from large molecular libraries."
   ]
  },
  {
   "cell_type": "markdown",
   "metadata": {
    "id": "mD5dj8UMSqEC"
   },
   "source": [
    "<figure>\n",
    "<center>\n",
    "<img src='https://raw.githubusercontent.com/pb3lab/ibm3202/master/images/docking_01.png'/>\n",
    "<figcaption>FIGURE 1. In molecular docking, binding is evaluated in two steps: A) Energetics of the transition of the unbound states of ligand and target towards the conformations of the bound complex; and B) energetics of protein-ligand binding in these conformations. <br> Huey R et al (2007) <i>J Comput Chem 28(6), 1145-1152.</i></figcaption></center>\n",
    "</figure>"
   ]
  },
  {
   "cell_type": "markdown",
   "metadata": {
    "id": "A8w7VY84UDOc"
   },
   "source": [
    "Molecular docking programs perform a **search algorithm** in which varying conformations of a given ligand, typically generated using Monte Carlo or Genetic algorithms, are recursively evaluated until convergence to an energy minimum is reached. Finally, through an **affinity scoring function**, a ΔG [binding free energy in kcal/mol] is estimated and employed to rank the candidate poses as the sum of several energetic contributions (electrostatics, van der Waals, desolvation, etc)."
   ]
  },
  {
   "cell_type": "markdown",
   "metadata": {
    "id": "eiopP7EdVjqt"
   },
   "source": [
    "## 2. Experimental Overview\n",
    "<a id='experiment'></a>"
   ]
  },
  {
   "cell_type": "markdown",
   "metadata": {
    "id": "4CMeTYlZVo6P"
   },
   "source": [
    "We will use data from the [protein ligand benchmark dataset](https://github.com/openforcefield/protein-ligand-benchmark) for our docking workshop. In particular, we will use the protein *MCL1* which is a well-established cancer target. To find out more about the protein-ligand benchmark check out the publication on it:   \n",
    "Hahn, D., Bayly, C., Boby, M. L., Bruce Macdonald, H., Chodera, J., Gapsys, V., Mey, A., Mobley, D., Perez Benito, L., Schindler, C., Tresadern, G. ., & Warren, G. (2022). Best Practices for Constructing, Preparing, and Evaluating Protein-Ligand Binding Affinity Benchmarks [Living Journal of Computational Molecular Science, 4(1), 1497.](https://doi.org/10.33011/livecoms.4.1.1497)\n",
    "\n",
    "For this workshop we use **MGLtools** (and alternatively **pdb2pqr**) to prepare the target protein files, **OpenBabel** to prepare the ligand files, **AutoDock Vina** for the docking procedure and **py3Dmol** to establish the appropriate search grid configuration and analyze the results."
   ]
  },
  {
   "cell_type": "markdown",
   "metadata": {
    "id": "xkpCp93eQsUS"
   },
   "source": [
    "<figure>\n",
    "<center>\n",
    "<img src='https://raw.githubusercontent.com/pb3lab/ibm3202/master/images/docking_02.png' />\n",
    "<figcaption>FIGURE 2. General steps of molecular docking. First, the target protein and ligand or ligands are parameterized. Then, the system is prepared by setting up the search grid. Once the docking calculation is performed, ligand poses are scored based on a given energy function. Lastly, the computational search is processed and compared against experimental data for validation <br><i>Taken from Pars Silico (en.parssilico.com).</i></figcaption></center>\n",
    "</figure>"
   ]
  },
  {
   "cell_type": "markdown",
   "metadata": {
    "id": "bMaDj9PdZNlL"
   },
   "source": [
    "### 2.1 Downloading and Preparing the Receptor for AutoDock"
   ]
  },
  {
   "cell_type": "markdown",
   "metadata": {
    "id": "NGNLlfnU748_"
   },
   "source": [
    "The first step in a molecular docking procedure is to have a structure of a given target protein. While in some cases you may want to use an alphaFold structure, most cases start with an experimentally (X-ray, NMR, cryoEM) solved three-dimensional structure.\n",
    "\n",
    "In such scenario, a given target protein structure is downloaded from the **Protein Data Bank (PDB)** (https://www.rcsb.org/pdb) using a given accession ID. For example, for MCL1 the ID:4HW3 is a good structure with a ligand bound to the protein.\n",
    "\n",
    "We can download the structure from the PDB using **biopython**:"
   ]
  },
  {
   "cell_type": "code",
   "execution_count": 1,
   "metadata": {
    "colab": {
     "base_uri": "https://localhost:8080/"
    },
    "id": "9j_NvhBRhVA0",
    "outputId": "f8ffd0cf-6d35-457f-a839-5232e0c27c09"
   },
   "outputs": [
    {
     "name": "stdout",
     "output_type": "stream",
     "text": [
      "Downloading PDB structure '6o6f'...\n"
     ]
    }
   ],
   "source": [
    "# Downloading the PDB files using biopython\n",
    "import os\n",
    "from Bio.PDB import *\n",
    "pdbid = ['6o6f']\n",
    "pdbl = PDBList()\n",
    "for s in pdbid:\n",
    "    pdbl.retrieve_pdb_file(s, pdir='.', file_format =\"pdb\", overwrite=True)\n",
    "    os.rename(\"pdb\"+s+\".ent\", s+\".pdb\")"
   ]
  },
  {
   "cell_type": "markdown",
   "metadata": {
    "id": "rGxSfayJ9OCP"
   },
   "source": [
    "2. In the case of X-ray diffraction, this experimental strategy does not discriminate between electron density coming from static protein atoms or water molecules, meaning that most protein structures solved by X-ray diffraction also include so-called **crystallographic waters** (check the non-bonded red dots on the protein structure below). These molecules are not important for our particular docking exercise and will remove them. However, water-mediated binding can be important and water molecules may be retained for docking.\n",
    "<figure>\n",
    "<center>\n",
    "<img src='https://github.com/CCPBioSim/CCP5_Simulation_of_BioMolecules/blob/main/4_Docking/resources/4HW3.png?raw=1' />\n",
    "<figcaption>FIGURE 3. Cartoon representation of MCL1 (PDB accession ID 4hw3), with its N-to-C-terminal residues colored according to order and disorder</i></figcaption></center>\n",
    "</figure>\n",
    "\n",
    "  Typically, this can be easily done by extracting all of the lines from the PDB file that start with **\"ATOM\"**, as this is how all of the atoms that belong to amino and nucleic acid residues are termed. In contrast, the atoms from ligands, water molecules and other non-protein/non-nucleic residues are commonly referred to as **\"HETATM\"**. Also, the different chains of an oligomer are separated by a **\"TER\"** string, which is important to keep in our case.\n",
    "\n",
    "  The following **Python snippet** will first create a folder in which we will store all data related to our molecular docking experiment. Then, it will extract all lines matching the string \"ATOM\" (for the protein atoms) or \"TER\" (for the chain separations) into a separate PDB file for further processing. Please take a good look at it."
   ]
  },
  {
   "cell_type": "markdown",
   "metadata": {},
   "source": [
    "### Cleaning the pdb file and getting it ready for docking\n",
    "We want to carry out the following steps on this pbd file\n",
    "1. Select only chain B of the protein\n",
    "2. Get the ligand out\n",
    "3. Prepare the protein and ligand to score the X-ray structure pose\n",
    "\n",
    "We will be using a tool called MDanalysis for this. For now just read the code and see if you can understand it. Later on you will get a better introduction to MDAnalysis."
   ]
  },
  {
   "cell_type": "code",
   "execution_count": 5,
   "metadata": {},
   "outputs": [
    {
     "name": "stdout",
     "output_type": "stream",
     "text": [
      "path already exists\n"
     ]
    },
    {
     "name": "stderr",
     "output_type": "stream",
     "text": [
      "/Users/toni_brain/mambaforge/envs/vina/lib/python3.11/site-packages/MDAnalysis/coordinates/PDB.py:1153: UserWarning: Found no information for attr: 'formalcharges' Using default value of '0'\n",
      "  warnings.warn(\"Found no information for attr: '{}'\"\n"
     ]
    }
   ],
   "source": [
    "from pathlib import Path\n",
    "import MDAnalysis as mda\n",
    "\n",
    "# Then, we define the path of the folder we want to create.\n",
    "# Notice that the HOME folder for a hosted runtime in colab is /content/\n",
    "singlepath = Path(\"/content/single-dock/\")\n",
    "singlepath = Path(\"single_dock\")\n",
    "\n",
    "# Now, we create the folder using the os.mkdir() command\n",
    "# The if conditional is just to check whether the folder already exists\n",
    "# In which case, python returns an error\n",
    "if os.path.exists(singlepath):\n",
    "    print(\"path already exists\")\n",
    "else:\n",
    "    os.mkdir(singlepath)\n",
    "    print(\"path was succesfully created\")\n",
    "\n",
    "# Now we assign a variable \"protein\" with the name and extension of our pdb\n",
    "protein = \"6o6f.pdb\"\n",
    "\n",
    "# we create a universe with the protein\n",
    "u = mda.Universe(protein)\n",
    "prot_sel = u.select_atoms(\"record_type ATOM and segid B\")\n",
    "prot_sel.write(os.path.join(singlepath, \"6o6f_prot_chainB.pdb\"))\n"
   ]
  },
  {
   "cell_type": "code",
   "execution_count": 13,
   "metadata": {},
   "outputs": [
    {
     "name": "stdout",
     "output_type": "stream",
     "text": [
      "ligand path already exists\n",
      "<AtomGroup [<Atom 2444: C1 of type C of resname LOD, resid 401 and segid B and altLoc >, <Atom 2445: C2 of type C of resname LOD, resid 401 and segid B and altLoc >, <Atom 2446: C3 of type C of resname LOD, resid 401 and segid B and altLoc >, ..., <Atom 2469: C6 of type C of resname LOD, resid 401 and segid B and altLoc >, <Atom 2470: CL1 of type CL of resname LOD, resid 401 and segid B and altLoc >, <Atom 2471: C23 of type C of resname LOD, resid 401 and segid B and altLoc >]>\n"
     ]
    },
    {
     "name": "stderr",
     "output_type": "stream",
     "text": [
      "/Users/toni_brain/mambaforge/envs/vina/lib/python3.11/site-packages/MDAnalysis/coordinates/PDB.py:1153: UserWarning: Found no information for attr: 'formalcharges' Using default value of '0'\n",
      "  warnings.warn(\"Found no information for attr: '{}'\"\n"
     ]
    }
   ],
   "source": [
    "# We will first create a path for all ligands that we will use in this tutorial\n",
    "# Notice that the HOME folder for a hosted runtime in colab is /content/\n",
    "ligandpath = Path(\"ligands/\")\n",
    "\n",
    "# Now, we create the folder using the os.mkdir() command\n",
    "# The if conditional is just to check whether the folder already exists\n",
    "# In which case, python returns an error\n",
    "if os.path.exists(ligandpath):\n",
    "    print(\"ligand path already exists\")\n",
    "else:\n",
    "    os.mkdir(ligandpath)\n",
    "    print(\"ligand path was successfully created\")\n",
    "\n",
    "# Now we select the ligand from the PDB record we know the ligand is called LOD\n",
    "lig_sel = u.select_atoms(\"segid B and resname LOD\")\n",
    "lig_sel.write(os.path.join(ligandpath, \"ligand.pdb\"))"
   ]
  },
  {
   "cell_type": "markdown",
   "metadata": {
    "id": "Qzw3p0A04Yol"
   },
   "source": [
    "We now have our ligand and protein files separated. \n",
    "However, for AutoDock Vina to perform a molecular docking experiment, the target protein file must contain atom types compatible with Autodock for evaluating different types of interaction, as well as their partial charges to evaluate electrostatic interactions. Such information is included in a file known as **PDBQT**, a modification of the PDB format that also includes **charges (q)** and **AutoDock-specific atom types (t)** in two extra columns at the end of the now PDBQT file. It is worth noting, however, that Autodock Vina **ignores the user-supplied partial charges**, as it has its own way of dealing with electrostatic interactions.\n",
    "\n",
    "  Lastly, the protein target must contain **all polar hydrogens**, such that hydrogen bonds can be formed between the target protein and the ligand. Most protein structures have no hydrogens included, meaning that we must add them.\n",
    "\n",
    "  This is the part of the tutorial where you have **two different options** to proceed with your experiment!"
   ]
  },
  {
   "cell_type": "markdown",
   "metadata": {
    "id": "Mg5oSpCb_9AO"
   },
   "source": [
    "### Adding hydrogens according to pKa to the protein\n",
    "\n",
    "Add the polar hydrogens of your protein and parameterize it based on the pKa of each aminoacid at pH 7.4 with the **AMBER99ff** force field using **pdb2pqr**, followed by deletion of non-polar hydrogens and conversion into **PDBQT** file using **MGLtools**.\n",
    "\n",
    "  In this case, pdb2pqr generates an intermediate **PQR** file, a modification of the PDB format which allows users to add charge and radius parameters to existing PDB data. This information is then unaltered during the use of **MGLtools**."
   ]
  },
  {
   "cell_type": "code",
   "execution_count": 14,
   "metadata": {},
   "outputs": [
    {
     "name": "stdout",
     "output_type": "stream",
     "text": [
      "INFO:PDB2PQR v3.6.2: biomolecular structure conversion software.\n",
      "INFO:Please cite:  Jurrus E, et al.  Improvements to the APBS biomolecular solvation software suite.  Protein Sci 27 112-128 (2018).\n",
      "INFO:Please cite:  Dolinsky TJ, et al.  PDB2PQR: expanding and upgrading automated preparation of biomolecular structures for molecular simulations. Nucleic Acids Res 35 W522-W525 (2007).\n",
      "INFO:Checking and transforming input arguments.\n",
      "INFO:Loading topology files.\n",
      "INFO:Loading molecule: single_dock/6o6f_prot_chainB.pdb\n",
      "ERROR:Error parsing line: invalid literal for int() with base 10: ''\n",
      "ERROR:<REMARK     2>\n",
      "ERROR:Truncating remaining errors for record type:REMARK\n",
      "WARNING:Warning: single_dock/6o6f_prot_chainB.pdb is a non-standard PDB file.\n",
      "\n",
      "ERROR:['REMARK']\n",
      "INFO:Setting up molecule.\n",
      "INFO:Created biomolecule object with 150 residues and 1202 atoms.\n",
      "INFO:Setting termini states for biomolecule chains.\n",
      "WARNING:Gap in backbone detected between GLY B 200 and SER B 202!\n",
      "INFO:Loading forcefield.\n",
      "INFO:Loading hydrogen topology definitions.\n",
      "WARNING:Missing atom OG in residue SER B 171\n",
      "WARNING:Missing atom OXT in residue VAL B 321\n",
      "WARNING:Missing atom OG in residue SER B 171\n",
      "WARNING:Missing atom OXT in residue VAL B 321\n",
      "INFO:Attempting to repair 2 missing atoms in biomolecule.\n",
      "WARNING:Missing atom OG in residue SER B 171\n",
      "WARNING:Missing atom OXT in residue VAL B 321\n",
      "INFO:Added atom OG to residue SER B 171 at coordinates -24.971, -32.802, -4.100\n",
      "INFO:Added atom OXT to residue VAL B 321 at coordinates -13.431, -3.824, 2.731\n",
      "INFO:Updating disulfide bridges.\n",
      "INFO:Debumping biomolecule.\n",
      "INFO:Assigning titration states with PROPKA.\n",
      "INFO:\n",
      "propka3.5.1                                                                                  2024-07-21\n",
      "\n",
      "-------------------------------------------------------------------------------\n",
      "--                                                                           --\n",
      "--  PROPKA: A PROTEIN PKA PREDICTOR                                          --\n",
      "--                                                                           --\n",
      "--  VERSION 1.0,  04/25/2004,  IOWA CITY                                     --\n",
      "--  BY HUI LI                                                                --\n",
      "--                                                                           --\n",
      "--  VERSION 2.0,  11/05/2007, IOWA CITY/COPENHAGEN                           --\n",
      "--  BY DELPHINE C. BAS AND DAVID M. ROGERS                                   --\n",
      "--                                                                           --\n",
      "--  VERSION 3.0,  01/06/2011, COPENHAGEN                                     --\n",
      "--  BY MATS H.M. OLSSON AND CHRESTEN R. SONDERGARD                           --\n",
      "--                                                                           --\n",
      "--  VERSION 3.1,  07/01/2011, COPENHAGEN                                     --\n",
      "--  BY CHRESTEN R. SONDERGARD AND MATS H.M. OLSSON                           --\n",
      "--                                                                           --\n",
      "--  VERSION 3.2,  06/17/2020, PLANET EARTH                                   --\n",
      "--  SEE ABOVE FOR AUTHORS                                                    --\n",
      "--                                                                           --\n",
      "-------------------------------------------------------------------------------\n",
      "\n",
      "\n",
      "-------------------------------------------------------------------------------\n",
      "References:\n",
      "\n",
      "Very Fast Empirical Prediction and Rationalization of Protein pKa Values.\n",
      "Hui Li, Andrew D. Robertson and Jan H. Jensen. PROTEINS: Structure, Function,\n",
      "and Bioinformatics. 61:704-721 (2005)\n",
      "\n",
      "Very Fast Prediction and Rationalization of pKa Values for Protein-Ligand\n",
      "Complexes.  Delphine C. Bas, David M. Rogers and Jan H. Jensen.  PROTEINS:\n",
      "Structure, Function, and Bioinformatics 73:765-783 (2008)\n",
      "\n",
      "PROPKA3: Consistent Treatment of Internal and Surface Residues in Empirical\n",
      "pKa predictions.  Mats H.M. Olsson, Chresten R. Sondergard, Michal Rostkowski,\n",
      "and Jan H. Jensen.  Journal of Chemical Theory and Computation, 7(2):525-537\n",
      "(2011)\n",
      "\n",
      "Improved Treatment of Ligands and Coupling Effects in Empirical Calculation\n",
      "and Rationalization of pKa Values.  Chresten R. Sondergaard, Mats H.M. Olsson,\n",
      "Michal Rostkowski, and Jan H. Jensen.  Journal of Chemical Theory and\n",
      "Computation, (2011)\n",
      "-------------------------------------------------------------------------------\n",
      "\n",
      "\n",
      "\n",
      "WARNING:Missing atoms or failed protonation for SER 202 B (BBN) -- please check the structure\n",
      "WARNING:Group (BBN) for   242-   N   202-SER (B) [ -22.146  -24.130    3.748] N\n",
      "WARNING:Expected 2 interaction atoms for acids, found:\n",
      "WARNING:                 0-  H1   202-SER (B) [ -22.182  -25.135    3.655] H\n",
      "WARNING:                 0-  H2   202-SER (B) [ -22.732  -23.842    4.518] H\n",
      "WARNING:               242-   N   202-SER (B) [ -22.146  -24.130    3.748] N\n",
      "WARNING:Expected 2 interaction atoms for bases, found:\n",
      "WARNING:                 0-  H1   202-SER (B) [ -22.182  -25.135    3.655] H\n",
      "WARNING:                 0-  H2   202-SER (B) [ -22.732  -23.842    4.518] H\n",
      "WARNING:               242-   N   202-SER (B) [ -22.146  -24.130    3.748] N\n",
      "INFO:Coupling map:\n",
      "\n",
      "INFO:Calculating pKas for Conformation container 1A with 1456 atoms and 382 groups\n",
      "INFO:pKa determinants:\n",
      "\n",
      "---------  -----   ------   ---------------------    --------------    --------------    --------------\n",
      "                            DESOLVATION  EFFECTS       SIDECHAIN          BACKBONE        COULOMBIC\n",
      " RESIDUE    pKa    BURIED     REGULAR      RE        HYDROGEN BOND     HYDROGEN BOND      INTERACTION\n",
      "---------  -----   ------   ---------   ---------    --------------    --------------    --------------\n",
      "\n",
      "ASP 172 B   1.73     0 %    0.61  256   0.00    0   -1.44 ARG 303 B   -0.56 TYR 175 B   -0.08 N+  171 B\n",
      "ASP 172 B                                            0.00 XXX   0 X    0.00 XXX   0 X   -0.20 ARG 300 B\n",
      "ASP 172 B                                            0.00 XXX   0 X    0.00 XXX   0 X   -0.38 ARG 303 B\n",
      "\n",
      "ASP 195 B   2.48     0 %    0.51  258   0.00    0   -0.17 LYS 197 B   -0.84 LYS 197 B   -0.36 ARG 184 B\n",
      "ASP 195 B                                            0.00 XXX   0 X    0.00 XXX   0 X   -0.03 ARG 187 B\n",
      "ASP 195 B                                            0.00 XXX   0 X    0.00 XXX   0 X   -0.05 LYS 194 B\n",
      "ASP 195 B                                            0.00 XXX   0 X    0.00 XXX   0 X   -0.01 ARG 214 B\n",
      "ASP 195 B                                            0.00 XXX   0 X    0.00 XXX   0 X   -0.38 LYS 197 B\n",
      "\n",
      "ASP 218 B   4.07    27 %    0.95  358   0.37    0   -0.13 GLN 189 B   -0.01 ASP 218 B   -0.04 ARG 214 B\n",
      "ASP 218 B                                           -0.66 TYR 185 B    0.00 XXX   0 X   -0.22 LYS 276 B\n",
      "\n",
      "ASP 236 B   3.87     0 %    0.32  196   0.00    0    0.00 XXX   0 X    0.00 XXX   0 X   -0.05 ARG 233 B\n",
      "ASP 236 B                                            0.00 XXX   0 X    0.00 XXX   0 X   -0.34 LYS 238 B\n",
      "ASP 236 B                                            0.00 XXX   0 X    0.00 XXX   0 X    0.16 ASP 242 B\n",
      "ASP 236 B                                            0.00 XXX   0 X    0.00 XXX   0 X   -0.03 HIS 277 B\n",
      "\n",
      "ASP 241 B   3.93     0 %    0.17  143   0.00    0    0.00 XXX   0 X    0.00 XXX   0 X   -0.03 LYS 238 B\n",
      "ASP 241 B                                            0.00 XXX   0 X    0.00 XXX   0 X   -0.11 LYS 244 B\n",
      "ASP 241 B                                            0.00 XXX   0 X    0.00 XXX   0 X    0.09 ASP 242 B\n",
      "\n",
      "ASP 242 B   1.67     0 %    0.58  253   0.00    0   -0.85 LYS 238 B   -0.77 LYS 238 B   -0.01 HIS 277 B\n",
      "ASP 242 B                                            0.00 XXX   0 X   -0.70 ASN 239 B   -0.38 LYS 238 B\n",
      "\n",
      "ASP 256 B   3.74     0 %    0.14  142   0.00    0    0.00 XXX   0 X    0.00 XXX   0 X   -0.02 ARG 263 B\n",
      "ASP 256 B                                            0.00 XXX   0 X    0.00 XXX   0 X   -0.06 LYS 302 B\n",
      "ASP 256 B                                            0.00 XXX   0 X    0.00 XXX   0 X   -0.12 HIS 252 B\n",
      "\n",
      "ASP 296 B   3.57    18 %    0.79  332   0.18    0   -0.18 ARG 300 B    0.00 XXX   0 X   -0.24 ARG 300 B\n",
      "ASP 296 B                                           -0.77 TYR 175 B    0.00 XXX   0 X    0.00 XXX   0 X\n",
      "\n",
      "ASP 304 B   3.91     0 %    0.16  184   0.00    0    0.00 XXX   0 X   -0.00 ASP 304 B   -0.04 ARG 303 B\n",
      "\n",
      "ASP 313 B   3.26     9 %    0.45  306   0.03    0   -0.85 THR 205 B    0.00 XXX   0 X   -0.17 ARG 310 B\n",
      "\n",
      "GLU 173 B   2.47     0 %    0.42  256   0.00    0   -0.81 SER 202 B    0.00 XXX   0 X   -0.03 N+  171 B\n",
      "GLU 173 B                                           -1.27 ARG 176 B    0.00 XXX   0 X    0.03 ASP 172 B\n",
      "GLU 173 B                                            0.00 XXX   0 X    0.00 XXX   0 X   -0.38 ARG 176 B\n",
      "\n",
      "GLU 180 B   3.78    20 %    0.83  338   0.07    0   -0.12 ARG 176 B   -0.81 GLY 200 B   -0.22 ARG 176 B\n",
      "GLU 180 B                                           -0.16 ARG 184 B    0.00 XXX   0 X   -0.33 ARG 184 B\n",
      "GLU 180 B                                            0.00 XXX   0 X    0.00 XXX   0 X   -0.05 LYS 197 B\n",
      "GLU 180 B                                            0.00 XXX   0 X    0.00 XXX   0 X    0.02 GLU 173 B\n",
      "GLU 180 B                                            0.00 XXX   0 X    0.00 XXX   0 X    0.05 ASP 195 B\n",
      "\n",
      "GLU 188 B   4.66    35 %    1.48  379   0.35    0   -1.14 ARG 214 B    0.00 XXX   0 X   -0.04 ARG 184 B\n",
      "GLU 188 B                                            0.00 XXX   0 X    0.00 XXX   0 X   -0.14 LYS 194 B\n",
      "GLU 188 B                                            0.00 XXX   0 X    0.00 XXX   0 X    0.03 ASP 195 B\n",
      "GLU 188 B                                            0.00 XXX   0 X    0.00 XXX   0 X    0.01 GLU 211 B\n",
      "GLU 188 B                                            0.00 XXX   0 X    0.00 XXX   0 X    0.10 ASP 218 B\n",
      "GLU 188 B                                            0.00 XXX   0 X    0.00 XXX   0 X   -0.49 ARG 214 B\n",
      "\n",
      "GLU 211 B   4.39     9 %    0.44  306   0.06    0    0.00 XXX   0 X    0.00 XXX   0 X   -0.14 LYS 194 B\n",
      "GLU 211 B                                            0.00 XXX   0 X    0.00 XXX   0 X   -0.15 ARG 207 B\n",
      "GLU 211 B                                            0.00 XXX   0 X    0.00 XXX   0 X   -0.16 LYS 208 B\n",
      "GLU 211 B                                            0.00 XXX   0 X    0.00 XXX   0 X   -0.16 ARG 214 B\n",
      "GLU 211 B                                            0.00 XXX   0 X    0.00 XXX   0 X   -0.01 ARG 215 B\n",
      "\n",
      "GLU 225 B   4.25     0 %    0.24  166   0.00    0   -0.15 ARG 222 B    0.00 XXX   0 X   -0.33 ARG 222 B\n",
      "\n",
      "GLU 240 B   4.57     0 %    0.15  181   0.00    0    0.00 XXX   0 X    0.00 XXX   0 X   -0.22 LYS 244 B\n",
      "GLU 240 B                                            0.00 XXX   0 X    0.00 XXX   0 X    0.14 ASP 241 B\n",
      "\n",
      "GLU 284 B   4.24     0 %    0.34  236   0.00    0   -0.05 ARG 187 B    0.00 XXX   0 X   -0.23 ARG 187 B\n",
      "GLU 284 B                                            0.00 XXX   0 X    0.00 XXX   0 X   -0.32 LYS 279 B\n",
      "\n",
      "GLU 288 B   4.58     0 %    0.17  281   0.00    0    0.00 XXX   0 X    0.00 XXX   0 X   -0.09 ARG 187 B\n",
      "GLU 288 B                                            0.00 XXX   0 X    0.00 XXX   0 X   -0.00 LYS 197 B\n",
      "\n",
      "GLU 292 B   4.97     0 %    0.22  274   0.00    0    0.00 XXX   0 X    0.00 XXX   0 X   -0.02 ARG 300 B\n",
      "GLU 292 B                                            0.00 XXX   0 X    0.00 XXX   0 X    0.08 GLU 288 B\n",
      "GLU 292 B                                            0.00 XXX   0 X    0.00 XXX   0 X    0.20 ASP 296 B\n",
      "\n",
      "GLU 317 B   3.42     0 %    0.35  216   0.00    0   -1.13 ARG 310 B    0.00 XXX   0 X    0.11 ASP 313 B\n",
      "GLU 317 B                                            0.00 XXX   0 X    0.00 XXX   0 X   -0.02 HIS 320 B\n",
      "GLU 317 B                                            0.00 XXX   0 X    0.00 XXX   0 X   -0.38 ARG 310 B\n",
      "\n",
      "C-  321 B   2.97     0 %    0.22  115   0.00    0    0.00 XXX   0 X    0.00 XXX   0 X   -0.08 ARG 215 B\n",
      "C-  321 B                                            0.00 XXX   0 X    0.00 XXX   0 X   -0.38 HIS 320 B\n",
      "\n",
      "HIS 224 B   6.21     0 %   -0.29  246   0.00    0    0.00 XXX   0 X    0.00 XXX   0 X    0.00 XXX   0 X\n",
      "\n",
      "HIS 252 B   6.37     0 %   -0.17  164   0.00    0    0.00 XXX   0 X    0.06 HIS 252 B   -0.03 LYS 234 B\n",
      "HIS 252 B                                            0.00 XXX   0 X    0.00 XXX   0 X   -0.10 ARG 248 B\n",
      "HIS 252 B                                            0.00 XXX   0 X    0.00 XXX   0 X    0.12 ASP 256 B\n",
      "\n",
      "HIS 277 B   6.38    26 %   -0.95  355   0.00    0    0.00 XXX   0 X    0.80 ILE 237 B   -0.00 LYS 238 B\n",
      "HIS 277 B                                            0.00 XXX   0 X    0.00 XXX   0 X    0.03 ASP 236 B\n",
      "HIS 277 B                                            0.00 XXX   0 X    0.00 XXX   0 X    0.01 ASP 242 B\n",
      "\n",
      "HIS 320 B   6.58     0 %   -0.20  170   0.00    0    0.00 XXX   0 X    0.00 XXX   0 X   -0.06 LYS 208 B\n",
      "HIS 320 B                                            0.00 XXX   0 X    0.00 XXX   0 X   -0.06 ARG 215 B\n",
      "HIS 320 B                                            0.00 XXX   0 X    0.00 XXX   0 X    0.02 GLU 317 B\n",
      "HIS 320 B                                            0.00 XXX   0 X    0.00 XXX   0 X    0.38 C-  321 B\n",
      "\n",
      "CYS 286 B   9.88    10 %    0.74  308   0.00    0   -0.03 SER 285 B    0.00 XXX   0 X   -0.01 LYS 244 B\n",
      "CYS 286 B                                            0.00 XXX   0 X    0.00 XXX   0 X    0.17 GLU 240 B\n",
      "CYS 286 B                                            0.00 XXX   0 X    0.00 XXX   0 X    0.01 ASP 242 B\n",
      "\n",
      "TYR 175 B  12.32    21 %    1.15  340   0.00    0   -0.13 ARG 300 B    0.00 XXX   0 X    0.05 ASP 172 B\n",
      "TYR 175 B                                            0.77 ASP 296 B    0.00 XXX   0 X    0.27 GLU 292 B\n",
      "TYR 175 B                                            0.00 XXX   0 X    0.00 XXX   0 X   -0.24 ARG 300 B\n",
      "TYR 175 B                                            0.00 XXX   0 X    0.00 XXX   0 X   -0.00 ARG 303 B\n",
      "TYR 175 B                                            0.00 XXX   0 X    0.00 XXX   0 X    0.46 ASP 296 B\n",
      "\n",
      "TYR 185 B  13.75    67 %    2.63  469   0.00    0   -0.26 GLN 221 B    0.00 XXX   0 X    0.13 GLU 188 B\n",
      "TYR 185 B                                            0.66 ASP 218 B    0.00 XXX   0 X   -0.02 ARG 214 B\n",
      "TYR 185 B                                            0.00 XXX   0 X    0.00 XXX   0 X    0.62 ASP 218 B\n",
      "\n",
      "LYS 194 B  10.08     0 %   -0.29  248   0.00    0    0.00 XXX   0 X    0.00 XXX   0 X   -0.05 ARG 184 B\n",
      "LYS 194 B                                            0.00 XXX   0 X    0.00 XXX   0 X    0.14 GLU 188 B\n",
      "LYS 194 B                                            0.00 XXX   0 X    0.00 XXX   0 X    0.05 ASP 195 B\n",
      "LYS 194 B                                            0.00 XXX   0 X    0.00 XXX   0 X   -0.03 ARG 207 B\n",
      "LYS 194 B                                            0.00 XXX   0 X    0.00 XXX   0 X    0.14 GLU 211 B\n",
      "LYS 194 B                                            0.00 XXX   0 X    0.00 XXX   0 X   -0.38 ARG 214 B\n",
      "\n",
      "LYS 197 B  10.75     0 %   -0.17  197   0.00    0    0.17 ASP 195 B    0.00 XXX   0 X    0.05 GLU 180 B\n",
      "LYS 197 B                                            0.00 XXX   0 X    0.00 XXX   0 X   -0.17 ARG 184 B\n",
      "LYS 197 B                                            0.00 XXX   0 X    0.00 XXX   0 X   -0.02 ARG 187 B\n",
      "LYS 197 B                                            0.00 XXX   0 X    0.00 XXX   0 X    0.00 GLU 288 B\n",
      "LYS 197 B                                            0.00 XXX   0 X    0.00 XXX   0 X    0.38 ASP 195 B\n",
      "\n",
      "LYS 208 B  10.40     0 %   -0.16  220   0.00    0    0.00 XXX   0 X    0.00 XXX   0 X   -0.10 ARG 207 B\n",
      "LYS 208 B                                            0.00 XXX   0 X    0.00 XXX   0 X    0.16 GLU 211 B\n",
      "\n",
      "LYS 234 B  10.36     0 %   -0.14  201   0.00    0    0.00 XXX   0 X    0.00 XXX   0 X    0.00 XXX   0 X\n",
      "\n",
      "LYS 238 B  11.67     0 %   -0.43  191   0.00    0    0.85 ASP 242 B    0.00 XXX   0 X    0.34 ASP 236 B\n",
      "LYS 238 B                                            0.00 XXX   0 X    0.00 XXX   0 X    0.03 ASP 241 B\n",
      "LYS 238 B                                            0.00 XXX   0 X    0.00 XXX   0 X    0.38 ASP 242 B\n",
      "\n",
      "LYS 244 B  10.72     0 %   -0.12  166   0.00    0    0.00 XXX   0 X    0.00 XXX   0 X    0.22 GLU 240 B\n",
      "LYS 244 B                                            0.00 XXX   0 X    0.00 XXX   0 X    0.11 ASP 241 B\n",
      "LYS 244 B                                            0.00 XXX   0 X    0.00 XXX   0 X    0.01 CYS 286 B\n",
      "\n",
      "LYS 276 B   9.52    41 %   -1.14  395   0.00    0    0.00 XXX   0 X    0.00 XXX   0 X    0.22 ASP 218 B\n",
      "LYS 276 B                                            0.00 XXX   0 X    0.00 XXX   0 X   -0.06 ARG 222 B\n",
      "\n",
      "LYS 279 B  10.58     0 %   -0.20  181   0.00    0    0.00 XXX   0 X    0.00 XXX   0 X   -0.03 ARG 187 B\n",
      "LYS 279 B                                            0.00 XXX   0 X    0.00 XXX   0 X    0.32 GLU 284 B\n",
      "\n",
      "LYS 302 B   9.92     5 %   -0.57  295   0.00    0    0.00 XXX   0 X    0.00 XXX   0 X    0.06 ASP 256 B\n",
      "LYS 302 B                                            0.00 XXX   0 X    0.00 XXX   0 X   -0.07 ARG 263 B\n",
      "\n",
      "LYS 308 B  10.43     0 %   -0.07  118   0.00    0    0.00 XXX   0 X    0.00 XXX   0 X    0.00 XXX   0 X\n",
      "\n",
      "ARG 176 B  14.05     1 %   -0.44  283   0.00    0    0.12 GLU 180 B    0.00 XXX   0 X    0.22 GLU 180 B\n",
      "ARG 176 B                                            1.27 GLU 173 B    0.00 XXX   0 X    0.38 GLU 173 B\n",
      "\n",
      "ARG 184 B  12.57    11 %   -0.77  313   0.00    0    0.16 GLU 180 B    0.00 XXX   0 X    0.33 GLU 180 B\n",
      "ARG 184 B                                            0.00 XXX   0 X    0.00 XXX   0 X    0.04 GLU 188 B\n",
      "ARG 184 B                                            0.00 XXX   0 X    0.00 XXX   0 X    0.36 ASP 195 B\n",
      "ARG 184 B                                            0.00 XXX   0 X    0.00 XXX   0 X   -0.04 ARG 214 B\n",
      "\n",
      "ARG 187 B  12.63     5 %   -0.27  294   0.00    0    0.05 GLU 284 B    0.00 XXX   0 X    0.03 ASP 195 B\n",
      "ARG 187 B                                            0.00 XXX   0 X    0.00 XXX   0 X    0.23 GLU 284 B\n",
      "ARG 187 B                                            0.00 XXX   0 X    0.00 XXX   0 X    0.09 GLU 288 B\n",
      "\n",
      "ARG 207 B  12.39     0 %   -0.25  225   0.00    0    0.00 XXX   0 X    0.00 XXX   0 X    0.15 GLU 211 B\n",
      "ARG 207 B                                            0.00 XXX   0 X    0.00 XXX   0 X   -0.01 ARG 184 B\n",
      "\n",
      "ARG 214 B  13.34    21 %   -1.03  339   0.00    0    1.14 GLU 188 B    0.00 XXX   0 X    0.02 TYR 185 B\n",
      "ARG 214 B                                            0.00 XXX   0 X    0.00 XXX   0 X    0.01 ASP 195 B\n",
      "ARG 214 B                                            0.00 XXX   0 X    0.00 XXX   0 X    0.16 GLU 211 B\n",
      "ARG 214 B                                            0.00 XXX   0 X    0.00 XXX   0 X    0.04 ASP 218 B\n",
      "ARG 214 B                                            0.00 XXX   0 X    0.00 XXX   0 X    0.49 GLU 188 B\n",
      "\n",
      "ARG 215 B  12.16     0 %   -0.43  274   0.00    0    0.00 XXX   0 X    0.00 XXX   0 X    0.01 GLU 211 B\n",
      "ARG 215 B                                            0.00 XXX   0 X    0.00 XXX   0 X    0.08 C-  321 B\n",
      "\n",
      "ARG 222 B  12.80     0 %   -0.19  182   0.00    0    0.15 GLU 225 B    0.00 XXX   0 X    0.33 GLU 225 B\n",
      "\n",
      "ARG 233 B  12.49     0 %   -0.06  114   0.00    0    0.00 XXX   0 X    0.00 XXX   0 X    0.05 ASP 236 B\n",
      "\n",
      "ARG 248 B  12.42     0 %   -0.08  127   0.00    0    0.00 XXX   0 X    0.00 XXX   0 X    0.00 XXX   0 X\n",
      "\n",
      "ARG 263 B  12.13     2 %   -0.38  288   0.00    0    0.00 XXX   0 X    0.00 XXX   0 X    0.02 ASP 256 B\n",
      "\n",
      "ARG 300 B  12.99     0 %   -0.38  246   0.00    0    0.13 TYR 175 B    0.00 XXX   0 X    0.20 ASP 172 B\n",
      "ARG 300 B                                            0.18 ASP 296 B    0.00 XXX   0 X    0.24 TYR 175 B\n",
      "ARG 300 B                                            0.00 XXX   0 X    0.00 XXX   0 X    0.02 GLU 292 B\n",
      "ARG 300 B                                            0.00 XXX   0 X    0.00 XXX   0 X    0.24 ASP 296 B\n",
      "ARG 300 B                                            0.00 XXX   0 X    0.00 XXX   0 X   -0.15 ARG 303 B\n",
      "\n",
      "ARG 303 B  13.97     0 %   -0.40  267   0.00    0    1.44 ASP 172 B    0.00 XXX   0 X    0.00 TYR 175 B\n",
      "ARG 303 B                                            0.00 XXX   0 X    0.00 XXX   0 X    0.04 ASP 304 B\n",
      "ARG 303 B                                            0.00 XXX   0 X    0.00 XXX   0 X    0.38 ASP 172 B\n",
      "\n",
      "ARG 310 B  13.96     0 %   -0.22  211   0.00    0    1.13 GLU 317 B    0.00 XXX   0 X    0.17 ASP 313 B\n",
      "ARG 310 B                                            0.00 XXX   0 X    0.00 XXX   0 X    0.38 GLU 317 B\n",
      "\n",
      "N+  171 B   8.01     0 %   -0.09   93   0.00    0    0.00 XXX   0 X    0.00 XXX   0 X    0.08 ASP 172 B\n",
      "N+  171 B                                            0.00 XXX   0 X    0.00 XXX   0 X    0.03 GLU 173 B\n",
      "\n",
      "\n",
      "INFO:pKa summary:\n",
      "--------------------------------------------------------------------------------------------------------\n",
      "SUMMARY OF THIS PREDICTION\n",
      "       Group      pKa  model-pKa   ligand atom-type\n",
      "   ASP 172 B     1.73       3.80                      \n",
      "   ASP 195 B     2.48       3.80                      \n",
      "   ASP 218 B     4.07       3.80                      \n",
      "   ASP 236 B     3.87       3.80                      \n",
      "   ASP 241 B     3.93       3.80                      \n",
      "   ASP 242 B     1.67       3.80                      \n",
      "   ASP 256 B     3.74       3.80                      \n",
      "   ASP 296 B     3.57       3.80                      \n",
      "   ASP 304 B     3.91       3.80                      \n",
      "   ASP 313 B     3.26       3.80                      \n",
      "   GLU 173 B     2.47       4.50                      \n",
      "   GLU 180 B     3.78       4.50                      \n",
      "   GLU 188 B     4.66       4.50                      \n",
      "   GLU 211 B     4.39       4.50                      \n",
      "   GLU 225 B     4.25       4.50                      \n",
      "   GLU 240 B     4.57       4.50                      \n",
      "   GLU 284 B     4.24       4.50                      \n",
      "   GLU 288 B     4.58       4.50                      \n",
      "   GLU 292 B     4.97       4.50                      \n",
      "   GLU 317 B     3.42       4.50                      \n",
      "   C-  321 B     2.97       3.20                      \n",
      "   HIS 224 B     6.21       6.50                      \n",
      "   HIS 252 B     6.37       6.50                      \n",
      "   HIS 277 B     6.38       6.50                      \n",
      "   HIS 320 B     6.58       6.50                      \n",
      "   CYS 286 B     9.88       9.00                      \n",
      "   TYR 175 B    12.32      10.00                      \n",
      "   TYR 185 B    13.75      10.00                      \n",
      "   LYS 194 B    10.08      10.50                      \n",
      "   LYS 197 B    10.75      10.50                      \n",
      "   LYS 208 B    10.40      10.50                      \n",
      "   LYS 234 B    10.36      10.50                      \n",
      "   LYS 238 B    11.67      10.50                      \n",
      "   LYS 244 B    10.72      10.50                      \n",
      "   LYS 276 B     9.52      10.50                      \n",
      "   LYS 279 B    10.58      10.50                      \n",
      "   LYS 302 B     9.92      10.50                      \n",
      "   LYS 308 B    10.43      10.50                      \n",
      "   ARG 176 B    14.05      12.50                      \n",
      "   ARG 184 B    12.57      12.50                      \n",
      "   ARG 187 B    12.63      12.50                      \n",
      "   ARG 207 B    12.39      12.50                      \n",
      "   ARG 214 B    13.34      12.50                      \n",
      "   ARG 215 B    12.16      12.50                      \n",
      "   ARG 222 B    12.80      12.50                      \n",
      "   ARG 233 B    12.49      12.50                      \n",
      "   ARG 248 B    12.42      12.50                      \n",
      "   ARG 263 B    12.13      12.50                      \n",
      "   ARG 300 B    12.99      12.50                      \n",
      "   ARG 303 B    13.97      12.50                      \n",
      "   ARG 310 B    13.96      12.50                      \n",
      "   N+  171 B     8.01       8.00                      \n",
      "\n",
      "INFO:PROPKA information:\n",
      "--------------------------------------------------------------------------------------------------------\n",
      "Free energy of   folding (kcal/mol) as a function of pH (using neutral reference)\n",
      "  0.00      4.88\n",
      "  1.00      4.65\n",
      "  2.00      3.23\n",
      "  3.00     -0.68\n",
      "  4.00     -5.56\n",
      "  5.00     -7.90\n",
      "  6.00     -8.39\n",
      "  7.00     -8.73\n",
      "  8.00     -8.80\n",
      "  9.00     -8.58\n",
      " 10.00     -8.07\n",
      " 11.00     -6.23\n",
      " 12.00     -2.93\n",
      " 13.00      1.46\n",
      " 14.00      5.61\n",
      "\n",
      "The pH of optimum stability is  7.7 for which the free energy is   -8.8 kcal/mol at 298K\n",
      "The free energy is within 80 % of maximum at pH  4.5 to 10.6\n",
      "The free energy is negative in the range  2.9 - 12.7\n",
      "\n",
      "\n",
      "Protein charge of folded and unfolded state as a function of pH\n",
      "    pH  unfolded  folded\n",
      "  0.00     28.00   27.95\n",
      "  0.10     28.00   27.94\n",
      "  0.20     28.00   27.92\n",
      "  0.30     27.99   27.90\n",
      "  0.40     27.99   27.88\n",
      "  0.50     27.99   27.85\n",
      "  0.60     27.99   27.81\n",
      "  0.70     27.99   27.77\n",
      "  0.80     27.98   27.72\n",
      "  0.90     27.98   27.65\n",
      "  1.00     27.97   27.57\n",
      "  1.10     27.97   27.48\n",
      "  1.20     27.96   27.37\n",
      "  1.30     27.95   27.24\n",
      "  1.40     27.94   27.10\n",
      "  1.50     27.92   26.93\n",
      "  1.60     27.90   26.75\n",
      "  1.70     27.87   26.55\n",
      "  1.80     27.84   26.34\n",
      "  1.90     27.80   26.10\n",
      "  2.00     27.75   25.85\n",
      "  2.10     27.69   25.59\n",
      "  2.20     27.61   25.30\n",
      "  2.30     27.52   25.00\n",
      "  2.40     27.40   24.68\n",
      "  2.50     27.26   24.34\n",
      "  2.60     27.08   23.98\n",
      "  2.70     26.87   23.59\n",
      "  2.80     26.61   23.17\n",
      "  2.90     26.30   22.73\n",
      "  3.00     25.94   22.26\n",
      "  3.10     25.51   21.75\n",
      "  3.20     25.01   21.20\n",
      "  3.30     24.44   20.62\n",
      "  3.40     23.80   20.00\n",
      "  3.50     23.08   19.34\n",
      "  3.60     22.29   18.65\n",
      "  3.70     21.44   17.93\n",
      "  3.80     20.53   17.19\n",
      "  3.90     19.58   16.43\n",
      "  4.00     18.59   15.66\n",
      "  4.10     17.59   14.89\n",
      "  4.20     16.58   14.13\n",
      "  4.30     15.58   13.39\n",
      "  4.40     14.61   12.68\n",
      "  4.50     13.67   11.99\n",
      "  4.60     12.78   11.35\n",
      "  4.70     11.95   10.74\n",
      "  4.80     11.19   10.18\n",
      "  4.90     10.50    9.67\n",
      "  5.00      9.89    9.20\n",
      "  5.10      9.34    8.78\n",
      "  5.20      8.86    8.40\n",
      "  5.30      8.44    8.05\n",
      "  5.40      8.07    7.74\n",
      "  5.50      7.74    7.44\n",
      "  5.60      7.44    7.17\n",
      "  5.70      7.17    6.90\n",
      "  5.80      6.91    6.64\n",
      "  5.90      6.65    6.38\n",
      "  6.00      6.40    6.13\n",
      "  6.10      6.14    5.86\n",
      "  6.20      5.88    5.60\n",
      "  6.30      5.62    5.33\n",
      "  6.40      5.35    5.07\n",
      "  6.50      5.08    4.81\n",
      "  6.60      4.82    4.57\n",
      "  6.70      4.57    4.33\n",
      "  6.80      4.33    4.12\n",
      "  6.90      4.10    3.92\n",
      "  7.00      3.89    3.74\n",
      "  7.10      3.70    3.57\n",
      "  7.20      3.53    3.42\n",
      "  7.30      3.37    3.29\n",
      "  7.40      3.22    3.16\n",
      "  7.50      3.09    3.05\n",
      "  7.60      2.96    2.94\n",
      "  7.70      2.84    2.83\n",
      "  7.80      2.72    2.73\n",
      "  7.90      2.60    2.63\n",
      "  8.00      2.48    2.53\n",
      "  8.10      2.37    2.43\n",
      "  8.20      2.25    2.33\n",
      "  8.30      2.13    2.23\n",
      "  8.40      2.01    2.13\n",
      "  8.50      1.88    2.03\n",
      "  8.60      1.75    1.92\n",
      "  8.70      1.60    1.81\n",
      "  8.80      1.45    1.68\n",
      "  8.90      1.29    1.55\n",
      "  9.00      1.11    1.39\n",
      "  9.10      0.91    1.21\n",
      "  9.20      0.70    1.01\n",
      "  9.30      0.45    0.78\n",
      "  9.40      0.18    0.52\n",
      "  9.50     -0.13    0.23\n",
      "  9.60     -0.48   -0.10\n",
      "  9.70     -0.87   -0.46\n",
      "  9.80     -1.31   -0.86\n",
      "  9.90     -1.80   -1.29\n",
      " 10.00     -2.34   -1.74\n",
      " 10.10     -2.93   -2.22\n",
      " 10.20     -3.56   -2.72\n",
      " 10.30     -4.23   -3.24\n",
      " 10.40     -4.92   -3.75\n",
      " 10.50     -5.61   -4.27\n",
      " 10.60     -6.31   -4.78\n",
      " 10.70     -6.98   -5.28\n",
      " 10.80     -7.62   -5.77\n",
      " 10.90     -8.23   -6.23\n",
      " 11.00     -8.80   -6.68\n",
      " 11.10     -9.33   -7.11\n",
      " 11.20     -9.83   -7.53\n",
      " 11.30    -10.30   -7.94\n",
      " 11.40    -10.76   -8.34\n",
      " 11.50    -11.21   -8.76\n",
      " 11.60    -11.67   -9.19\n",
      " 11.70    -12.14   -9.63\n",
      " 11.80    -12.65  -10.10\n",
      " 11.90    -13.20  -10.60\n",
      " 12.00    -13.80  -11.13\n",
      " 12.10    -14.44  -11.69\n",
      " 12.20    -15.13  -12.27\n",
      " 12.30    -15.86  -12.88\n",
      " 12.40    -16.62  -13.50\n",
      " 12.50    -17.39  -14.14\n",
      " 12.60    -18.16  -14.77\n",
      " 12.70    -18.90  -15.39\n",
      " 12.80    -19.61  -16.00\n",
      " 12.90    -20.26  -16.60\n",
      " 13.00    -20.84  -17.17\n",
      " 13.10    -21.36  -17.71\n",
      " 13.20    -21.82  -18.23\n",
      " 13.30    -22.20  -18.73\n",
      " 13.40    -22.53  -19.20\n",
      " 13.50    -22.81  -19.65\n",
      " 13.60    -23.03  -20.08\n",
      " 13.70    -23.22  -20.50\n",
      " 13.80    -23.37  -20.89\n",
      " 13.90    -23.50  -21.26\n",
      " 14.00    -23.60  -21.62\n",
      "The pI is  9.57 (folded) and  9.46 (unfolded)\n",
      "\n",
      "--------------------------------------------------------------------------------------------------------\n",
      "INFO:Applying pKa values at a pH of 7.40:\n",
      "INFO:Adding hydrogens to biomolecule.\n",
      "INFO:Debumping biomolecule (again).\n",
      "INFO:Optimizing hydrogen bonds\n",
      "INFO:Applying force field to biomolecule states.\n",
      "INFO:Regenerating headers.\n",
      "INFO:Regenerating PDB lines.\n",
      "WARNING:Ignoring 465 header lines in output.\n"
     ]
    }
   ],
   "source": [
    "!pdb2pqr30 --ff AMBER --titration-state-method propka --with-ph 7.4 $singlepath/6o6f_prot_chainB.pdb $singlepath/6o6f_prot_chainB.pqr"
   ]
  },
  {
   "cell_type": "markdown",
   "metadata": {},
   "source": [
    "### Using MDAnalysis to write out the pdbqt file for docking"
   ]
  },
  {
   "cell_type": "code",
   "execution_count": 39,
   "metadata": {},
   "outputs": [
    {
     "name": "stderr",
     "output_type": "stream",
     "text": [
      "/Users/toni_brain/mambaforge/envs/vina/lib/python3.11/site-packages/MDAnalysis/coordinates/PDBQT.py:296: UserWarning: Supplied AtomGroup was missing the following attributes: altLocs, occupancies, tempfactors. These will be written with default values. \n",
      "  warnings.warn(\n"
     ]
    }
   ],
   "source": [
    "u = mda.Universe(os.path.join(singlepath,\"6o6f_prot_chainB.pqr\"))\n",
    "asel = u.select_atoms(\"all\")\n",
    "asel.write(os.path.join(singlepath,\"6o6f.pdbqt\"))"
   ]
  },
  {
   "cell_type": "markdown",
   "metadata": {
    "colab": {
     "base_uri": "https://localhost:8080/"
    },
    "id": "Gvq9H_C6DJvU",
    "outputId": "936a4b0a-dab7-4c2e-bf39-ce5be5c30122"
   },
   "source": [
    "This will keep the protein side chains rigid in the docking. If you want to use a flexible receptor you will have to use the script\n",
    "\n",
    "```\n",
    "!prepare_receptor4.py -r $singlepath/6o6f_prot.pqr -o $singlepath/6o6f_prot.pdbqt -C -U nphs_lps -v\n",
    "```"
   ]
  },
  {
   "cell_type": "markdown",
   "metadata": {
    "id": "6GCejhZNGjcV"
   },
   "source": [
    "### You are all set with your target protein!**\n",
    "\n",
    ">Before we move onto preparing the ligand for molecular docking, please consider the following questions:\n",
    "- Why is it important to add hydrogens for the purposes of our docking simulations?\n",
    "- Why are we only adding polar hydrogens?\n",
    "- If the partial charges are ignored by Autodock Vina, how can these different strategies affect my docking results? (this is something you can actually test!)\n",
    "\n"
   ]
  },
  {
   "cell_type": "markdown",
   "metadata": {},
   "source": [
    "<div class=\"alert alert-success\">\n",
    "<b>Task 1: Here are some questions to think about:</b> \n",
    "</div>\n",
    "\n",
    "- Why are hydrogens important when you want to run docking?   \n",
    "- Why are we only adding polar hydrogens?    \n",
    "- If the partial charges are ignored by Autodock Vina, how can these different strategies affect my docking results? (this is something you can actually test!)\n",
    "- Should we ignore the water?"
   ]
  },
  {
   "cell_type": "markdown",
   "metadata": {
    "id": "B4j--lVNGsDg"
   },
   "source": [
    "## 2.2 Preparing the Ligand for AutoDock"
   ]
  },
  {
   "cell_type": "markdown",
   "metadata": {},
   "source": [
    "We already have the ligand written out to a pdb file. To make this file work with Vina we need to weild some magic.\n",
    "First we load the pdb file, convert it to mol2 and add some hydrogens using the python API of openbabl"
   ]
  },
  {
   "cell_type": "code",
   "execution_count": 31,
   "metadata": {},
   "outputs": [],
   "source": [
    "from openbabel import pybel\n",
    "mol = next(pybel.readfile('pdb', os.path.join(ligandpath,'ligand.pdb')))\n",
    "mol.addh()\n",
    "mol.calccharges()\n",
    "mol.write(\"mol2\", \"ligand.mol2\",overwrite=True)"
   ]
  },
  {
   "cell_type": "code",
   "execution_count": null,
   "metadata": {},
   "outputs": [],
   "source": [
    "# !prepare_ligand4.py -l lig27.mol2 -o $singlepath/lig27.pdbqt -U nphs_lps -v\n",
    "# NOTE: for some reason, MGLtools does not recognize the ligand when inside a different folder\n",
    "# Here we are deleting the temporary PDB file required for generating the PDBQT file\n",
    "os.remove(\"ligand.mol2\")"
   ]
  },
  {
   "cell_type": "code",
   "execution_count": null,
   "metadata": {},
   "outputs": [],
   "source": [
    "We are now ready to try and scoring of the ligand in the binding site. "
   ]
  },
  {
   "cell_type": "markdown",
   "metadata": {},
   "source": [
    "### 3. Scoring and docking of the crystal structure ligand"
   ]
  },
  {
   "cell_type": "markdown",
   "metadata": {},
   "source": [
    "To define the docking grid we find the centre of geometry of the ligand using MDanalysis"
   ]
  },
  {
   "cell_type": "code",
   "execution_count": 33,
   "metadata": {},
   "outputs": [],
   "source": [
    "u = mda.Universe('ligand.mol2')"
   ]
  },
  {
   "cell_type": "code",
   "execution_count": 38,
   "metadata": {},
   "outputs": [
    {
     "name": "stdout",
     "output_type": "stream",
     "text": [
      "[-29.32799603  -7.88153462 -19.97967687]\n"
     ]
    }
   ],
   "source": [
    "# We select all the atoms and the compute the centre of geometry\n",
    "sel = u.select_atoms('all')\n",
    "grid_centre = sel.center_of_geometry()\n",
    "print(grid_centre)"
   ]
  },
  {
   "cell_type": "markdown",
   "metadata": {},
   "source": [
    "Now we can do the actual docking!"
   ]
  },
  {
   "cell_type": "code",
   "execution_count": null,
   "metadata": {},
   "outputs": [],
   "source": [
    "import vina as v\n",
    "\n",
    "# Setting the protein\n",
    "v.set_protein_from_file(os.path.join(singlepath,'6o6f.pdbqt ')\n",
    "# Setting the ligand\n",
    "v.set_ligand_from_file(os.path.join(ligandpath,'ligand.pdbqt')\n",
    "\n",
    "# Now we use the grid centre we computed before\n",
    "v.compute_vina_maps(center=grid_centre, box_size=[20, 20, 20])\n",
    "\n",
    "# Score the current pose\n",
    "energy = v.score()\n",
    "print('Score before minimization: %.3f (kcal/mol)' % energy[0])\n",
    "\n",
    "# Minimized locally the current pose\n",
    "energy_minimized = v.optimize()\n",
    "print('Score after minimization : %.3f (kcal/mol)' % energy_minimized[0])\n",
    "v.write_pose('ligand_minized.pdbqt', overwrite=True)"
   ]
  },
  {
   "cell_type": "markdown",
   "metadata": {},
   "source": [
    "### Visualising the protein and ligand before and after minimization"
   ]
  },
  {
   "cell_type": "code",
   "execution_count": null,
   "metadata": {},
   "outputs": [],
   "source": []
  },
  {
   "cell_type": "code",
   "execution_count": null,
   "metadata": {},
   "outputs": [],
   "source": []
  },
  {
   "cell_type": "code",
   "execution_count": null,
   "metadata": {},
   "outputs": [],
   "source": []
  },
  {
   "cell_type": "markdown",
   "metadata": {
    "id": "Feav4RTWH3Ol"
   },
   "source": [
    "1. We now need to prepare the ligand that we will use for our docking analysis. In our case, we will use known inhibitors from the protein-ligand benchmark. We will attempt to predict the docking pose of first one and later multiple inhibitors onto the binding site of MCL1.\n",
    "\n",
    "We will first start by creating a folder in which we will store our ligands for molecular docking."
   ]
  },
  {
   "cell_type": "code",
   "execution_count": null,
   "metadata": {
    "colab": {
     "base_uri": "https://localhost:8080/"
    },
    "id": "LX_ojmvdBTd4",
    "outputId": "b14b2899-32d5-4f9e-a857-9854140f59d4"
   },
   "outputs": [],
   "source": [
    "# We will first create a path for all ligands that we will use in this tutorial\n",
    "# Notice that the HOME folder for a hosted runtime in colab is /content/\n",
    "ligandpath = Path(\"/content/ligands/\")\n",
    "\n",
    "# Now, we create the folder using the os.mkdir() command\n",
    "# The if conditional is just to check whether the folder already exists\n",
    "# In which case, python returns an error\n",
    "if os.path.exists(ligandpath):\n",
    "    print(\"ligand path already exists\")\n",
    "else:\n",
    "    os.mkdir(ligandpath)\n",
    "    print(\"ligand path was successfully created\")"
   ]
  },
  {
   "cell_type": "markdown",
   "metadata": {
    "id": "tLanf4sTChrO"
   },
   "source": [
    "### 2.2.2. Loading the ligand file\n",
    "One example ligand can be found in `4_Docking/resources/lig27.smi` We will have to read this file. It contains ligand 27 in a SMILES string format.\n",
    "\n"
   ]
  },
  {
   "cell_type": "code",
   "execution_count": null,
   "metadata": {
    "id": "7C8ZjiVDDMDg"
   },
   "outputs": [],
   "source": [
    "!cp CCP5_Simulation_of_BioMolecules/4_Docking/resources/lig27.smi /content/ligands/"
   ]
  },
  {
   "cell_type": "markdown",
   "metadata": {
    "id": "NEM5fwsTFcXd"
   },
   "source": [
    "**But what is a SMILES format?** Well, the **Simplified Molecular-Input Line-Entry System** (SMILES) is a text notation that allows a user to represent a chemical structure in a way that can be used by the computer. The elemental notation for different types of bonds between different atoms is as follows:\n",
    "\n",
    "  \\-\tfor single bonds (eg. C-C or CC is CH3CH3)\n",
    "\n",
    "  \\=\tfor double bonds (eg. C=C for CH2CH2)\n",
    "\n",
    "  \\#\tfor triple bonds (eg. C#N for C≡N)\n",
    "\n",
    "  \\\tfor aromatic bond (eg. C\\*1\\*C\\*C\\*C\\*C\\*C1 or c1ccccc1 for benzene)\n",
    "\n",
    "  \\. for disconnected structures (eg. Na.Cl for NaCl)\n",
    "\n",
    "  / and \\ for double bond stereoisomers (eg. F/C=C/F for trans-1,2-difluoroethylene and F/C=C\\F for cis-1,2-difluoroethylene)\n",
    "\n",
    "  @ and @@ for enantiomers (eg. N\\[C@@H](C)C(=O)O for L-alanine and N\\[C@H](C)C(=O)O for D-alanine)\n",
    "\n",
    "  **Let's take a look at the SMILES of our MCL1 inhibitor, also known as Lig 27!**"
   ]
  },
  {
   "cell_type": "code",
   "execution_count": null,
   "metadata": {
    "colab": {
     "base_uri": "https://localhost:8080/"
    },
    "id": "DWW3DTsY_J4F",
    "outputId": "734419fc-180a-4778-d5bf-215aea1b0522"
   },
   "outputs": [],
   "source": [
    "# Print the SMILES of Lig 27 to see what it is all about\n",
    "# smiles = ((ligandpath / \"lig27.smi\").read_text())\n",
    "f = open(\"resources/lig27.smi\", \"r\")\n",
    "smiles = (f.readline())\n",
    "f.close()\n",
    "print(smiles)"
   ]
  },
  {
   "cell_type": "code",
   "execution_count": null,
   "metadata": {
    "cellView": "form",
    "colab": {
     "base_uri": "https://localhost:8080/",
     "height": 530,
     "referenced_widgets": [
      "b180744a341946d49d319b86f3e2701e",
      "5e0aa3f3ead8462cad995418a247f755",
      "6d743fc0b9124c069b56a401e2dc33a6",
      "2019ef843ae6461780efb6701362904d",
      "db7d6ca8ffc14741b7cb8f2607fe14ca",
      "ad37e938d35f4be1bea5e75370d8c8dd",
      "59796cdc352844938891e6093535bd06"
     ]
    },
    "id": "PjvRbRRMHrw_",
    "outputId": "9d987c1f-9683-4ace-ce97-d5d07c0c251d"
   },
   "outputs": [],
   "source": [
    "# Use the following Viewer to load your SMILES as a 3D molecule\n",
    "import py3Dmol\n",
    "import rdkit\n",
    "from rdkit import Chem\n",
    "from rdkit.Chem import AllChem\n",
    "\n",
    "def MolTo3DView(mol, size=(300, 300), style=\"stick\", surface=False, opacity=0.5):\n",
    "    assert style in ('line', 'stick', 'sphere', 'carton')\n",
    "    mblock = Chem.MolToMolBlock(mol)\n",
    "    viewer = py3Dmol.view()\n",
    "    viewer.addModel(mblock, 'mol')\n",
    "    viewer.setStyle({style:{}})\n",
    "    if surface:\n",
    "        viewer.addSurface(py3Dmol.SAS, {'opacity': opacity})\n",
    "    viewer.zoomTo()\n",
    "    return viewer\n",
    "\n",
    "from ipywidgets import interact,fixed,IntSlider\n",
    "import ipywidgets\n",
    "\n",
    "def smi2conf(smiles):\n",
    "    '''Convert SMILES to rdkit.Mol with 3D coordinates'''\n",
    "    mol = Chem.MolFromSmiles(smiles)\n",
    "    if mol is not None:\n",
    "        mol = Chem.AddHs(mol)\n",
    "        AllChem.EmbedMolecule(mol)\n",
    "        AllChem.MMFFOptimizeMolecule(mol, maxIters=200)\n",
    "        return mol\n",
    "    else:\n",
    "        return None\n",
    "\n",
    "@interact\n",
    "def smi2viewer(smi='CC=O'):\n",
    "    try:\n",
    "        conf = smi2conf(smi)\n",
    "        return MolTo3DView(conf).show()\n",
    "    except:\n",
    "        return None"
   ]
  },
  {
   "cell_type": "markdown",
   "metadata": {
    "id": "jYkw6q2gkGDH"
   },
   "source": [
    "#### 2.2.4. Constructing parameters\n",
    "\n",
    "Now, we will take this SMILES format and use it to construct and parameterize a three-dimensional structure of Lig 27 in **PDBQT** format for its use in molecular docking. As with the receptor, we also have different options to prepare our ligand for molecular docking:"
   ]
  },
  {
   "cell_type": "markdown",
   "metadata": {
    "id": "OkjbrWHeooc_"
   },
   "source": [
    "4. a) Use the program **babel** to convert the SMILES into a **MOL2** file without any extra work (such as searching for best conformers) except for setting the protonation state to pH 7.4, and then use **MGLtools** to parameterize the ligand using **Gasteiger** partial charges (this is the canonical option for the majority of AutoDock users). Please note that we are generating a ligand in which **all torsions are active** during the docking procedure."
   ]
  },
  {
   "cell_type": "code",
   "execution_count": null,
   "metadata": {
    "id": "Xczg-Yb1HBvZ"
   },
   "outputs": [],
   "source": [
    "from openbabel import pybel\n",
    "mol = pybel.readstring(\"smi\", smiles)\n",
    "mol.addh()\n",
    "mol.make3D()\n",
    "mol.write(\"mol2\", \"lig27.mol2\")"
   ]
  },
  {
   "cell_type": "code",
   "execution_count": null,
   "metadata": {
    "colab": {
     "base_uri": "https://localhost:8080/"
    },
    "id": "sGUHorvYnJ9k",
    "outputId": "b6be9415-0a05-4150-e2c1-bee56f05423e"
   },
   "outputs": [],
   "source": [
    "# !prepare_ligand4.py -l lig27.mol2 -o $singlepath/lig27.pdbqt -U nphs_lps -v\n",
    "# NOTE: for some reason, MGLtools does not recognize the ligand when inside a different folder\n",
    "# Here we are deleting the temporary PDB file required for generating the PDBQT file\n",
    "# os.remove(\"lig27.mol2\")"
   ]
  },
  {
   "cell_type": "markdown",
   "metadata": {
    "id": "j9aZXCeVnJlv"
   },
   "source": [
    "4. b) We can also use babel in **biobb_chemistry** to  convert the SMILES into a 3D **MOL2** file while simultaneously performing and energy minimization using the Generalized Amber Force Field (**GAFF**). Then, use **MGLtools** to parameterize the ligand using **Gasteiger** partial charges. Please note that we are generating a ligand in which **all torsions are active** during the docking procedure."
   ]
  },
  {
   "cell_type": "code",
   "execution_count": null,
   "metadata": {},
   "outputs": [],
   "source": [
    "from biobb_chemistry.babelm.babel_minimize import babel_minimize\n",
    "prop = {\n",
    "    'criteria': 1e-6,\n",
    "    'method': 'cg',\n",
    "    'force_field': 'GAFF'\n",
    "}\n",
    "babel_minimize(input_path='lig27.mol2',\n",
    "                output_path='minlig27.mol2',\n",
    "                properties=prop)"
   ]
  },
  {
   "cell_type": "code",
   "execution_count": null,
   "metadata": {
    "id": "RG6kDCBobRlT"
   },
   "outputs": [],
   "source": [
    "# Preparing the ligand for docking\n",
    "!prepare_ligand4.py -l minlig27.mol2 -o $singlepath/lig27.pdbqt -U nphs_lps -v\n",
    "os.remove(\"minlig27.mol2\")"
   ]
  },
  {
   "cell_type": "markdown",
   "metadata": {
    "id": "PWxOC9h7qMVE"
   },
   "source": [
    "4. c) Use the program **babel** to  convert the SMILES into a 3D **MOL2** file while simultaneously performing a weighted rotor search for the lowest energy conformer using the Generalized Amber Force Field (**GAFF**). Then, use **MGLtools** to parameterize the ligand using **Gasteiger** partial charges. Please note that we are generating a ligand in which **all torsions are active** during the docking procedure."
   ]
  },
  {
   "cell_type": "code",
   "execution_count": null,
   "metadata": {
    "id": "Zo0K2pO0o6LP"
   },
   "outputs": [],
   "source": [
    "# Converting lig27 from SMILES into a 3D MOL2 format and perform a weighted rotor search for lowest energy conformer\n",
    "#Then, prepare ligand for docking using the Autodock script\n",
    "!obabel $ligandpath/lig27.smi -O lig27.mol2 --gen3d --best --canonical --conformers --weighted --nconf 50 --ff GAFF\n",
    "!prepare_ligand4.py -l lig27.mol2 -o $singlepath/lig27.pdbqt -U nphs_lps -v\n",
    "os.remove(\"lig27.mol2\")"
   ]
  },
  {
   "cell_type": "markdown",
   "metadata": {
    "id": "83g5ZTtGTANG"
   },
   "source": [
    "**You are all set with your ligand!** Now, we move onto setting up the molecular docking experiment"
   ]
  },
  {
   "cell_type": "markdown",
   "metadata": {
    "id": "vZxnFIB-TW8X"
   },
   "source": [
    "## 3. Setting up and Performing Molecular Docking with AutoDock"
   ]
  },
  {
   "cell_type": "code",
   "execution_count": 3,
   "metadata": {},
   "outputs": [
    {
     "data": {
      "text/plain": [
       "\"\\nv.set_ligand_from_file('1iep_ligand.pdbqt')\\nv.compute_vina_maps(center=[15.190, 53.903, 16.917], box_size=[20, 20, 20])\\n\\n# Score the current pose\\nenergy = v.score()\\nprint('Score before minimization: %.3f (kcal/mol)' % energy[0])\\n\\n# Minimized locally the current pose\\nenergy_minimized = v.optimize()\\nprint('Score after minimization : %.3f (kcal/mol)' % energy_minimized[0])\\nv.write_pose('1iep_ligand_minimized.pdbqt', overwrite=True)\\n\\n# Dock the ligand\\nv.dock(exhaustiveness=32, n_poses=20)\\nv.write_poses('1iep_ligand_vina_out.pdbqt', n_poses=5, overwrite=True)\\n\""
      ]
     },
     "execution_count": 3,
     "metadata": {},
     "output_type": "execute_result"
    }
   ],
   "source": [
    "from vina import Vina\n",
    "\n",
    "\n",
    "v = Vina(sf_name='vina')\n",
    "\n",
    "v.set_receptor('resources/MCL1.pdbqt')\n",
    "v.\n",
    "\n",
    "\"\"\"\n",
    "v.set_ligand_from_file('1iep_ligand.pdbqt')\n",
    "v.compute_vina_maps(center=[15.190, 53.903, 16.917], box_size=[20, 20, 20])\n",
    "\n",
    "# Score the current pose\n",
    "energy = v.score()\n",
    "print('Score before minimization: %.3f (kcal/mol)' % energy[0])\n",
    "\n",
    "# Minimized locally the current pose\n",
    "energy_minimized = v.optimize()\n",
    "print('Score after minimization : %.3f (kcal/mol)' % energy_minimized[0])\n",
    "v.write_pose('1iep_ligand_minimized.pdbqt', overwrite=True)\n",
    "\n",
    "# Dock the ligand\n",
    "v.dock(exhaustiveness=32, n_poses=20)\n",
    "v.write_poses('1iep_ligand_vina_out.pdbqt', n_poses=5, overwrite=True)\n",
    "\"\"\""
   ]
  },
  {
   "cell_type": "code",
   "execution_count": null,
   "metadata": {},
   "outputs": [],
   "source": []
  },
  {
   "cell_type": "markdown",
   "metadata": {
    "id": "ltabEnTrWzdT"
   },
   "source": [
    "### 3.1. Defining the docking grid\n",
    "\n",
    "As explained in the lectures, it is necessary to define the search space for molecular docking on a given target protein through the use of a **grid box**. This grid box is usually centred within the binding, active or allosteric site of the target protein and its size will be sufficiently large such that **all binding residues are placed inside the grid box**.\n",
    "\n",
    "  Here, we will make use of **py3Dmol** to visually inspect the protein structure in cartoon representation and to draw a grid box. The position and size of the grid box will be defined by the coordinates of its centroid and by its dimensions in x, y and z.\n",
    "\n",
    "  To better guide the search for the optimal dimensions and coordinates of the grid box, we will also show the residues Val32, Ile47 and Val82 of HIV-2 protease.\n",
    "\n",
    "  The script that defines the visualizer, which we called **ViewProtGrid**, is first loaded into **Colab** with the following lines of code"
   ]
  },
  {
   "cell_type": "code",
   "execution_count": null,
   "metadata": {
    "cellView": "form",
    "id": "eyqcfX1ebPcg"
   },
   "outputs": [],
   "source": [
    "# @title Loading the script that creates our Docking Box Viewer\n",
    "# These definitions will enable loading our protein and then\n",
    "# drawing a box with a given size and centroid on the cartesian space\n",
    "# This box will enable us to set up the system coordinates for the simulation\n",
    "#\n",
    "# HINT: The active site of MCL1 is where we have a ligand bound\n",
    "#\n",
    "# ACKNOWLEDGE: This script is largely based on the one created by Jose Manuel\n",
    "# Napoles Duarte, Physics Teacher at the Chemical Sciences Faculty of the\n",
    "# Autonomous University of Chihuahua (https://github.com/napoles-uach)\n",
    "#\n",
    "# First, we define the grid box\n",
    "def definegrid(object,bxi,byi,bzi,bxf,byf,bzf):\n",
    "  object.addBox({'center':{'x':bxi,'y':byi,'z':bzi},'dimensions': {'w':bxf,'h':byf,'d':bzf},'color':'blue','opacity': 0.6})\n",
    "\n",
    "# Next, we define how the protein will be shown in py3Dmol\n",
    "# Note that we are also adding a style representation for active site residues\n",
    "def viewprot(object,prot_PDBfile,resids):\n",
    "  mol1 = open(prot_PDBfile, 'r').read()\n",
    "  object.addModel(mol1,'pdb')\n",
    "  object.setStyle({'cartoon': {'color':'spectrum'}})\n",
    "  object.addStyle({'resi':resids},{'stick':{'colorscheme':'greenCarbon'}})\n",
    "\n",
    "# Lastly, we combine the box grid and protein into a single viewer\n",
    "def viewprotgrid(prot_PDBfile,resids,bxi,byi,bzi,bxf=10,byf=10,bzf=10):\n",
    "  mol_view = py3Dmol.view(1000,1000,viewergrid=(1,2))\n",
    "  definegrid(mol_view,bxi,byi,bzi,bxf,byf,bzf)\n",
    "  viewprot(mol_view,prot_PDBfile,resids)\n",
    "  mol_view.setBackgroundColor('0xffffff')\n",
    "  mol_view.rotate(90, {'x':0,'y':1,'z':0},viewer=(0,1));\n",
    "  mol_view.zoomTo()\n",
    "  mol_view.show()\n"
   ]
  },
  {
   "cell_type": "markdown",
   "metadata": {
    "id": "22cz8leUL6P5"
   },
   "source": [
    "### 3.2. Defining the viewpoint grid\n",
    "\n",
    "Now, we will use our ViewProtGrid to visualize the protein, binding site residues and a grid box of variable size and position that we can manipulate using a slider through *ipywidgets*. You have to edit this viewer by indicating the location of the PDB file in the *prot_PDBfile* variable (e.g. singlepath/'4hw3_prot.pdb') and the residues that you want to show from the PDB in the *resids* variable.\n",
    "\n",
    "### FIXME!!!\n",
    "Examples of how to use the *protein_PDBfile* variable\n",
    ">prot_PDBfile = ['4hw3_prot.pdb'] (if the PDB file is in the current path)\n",
    "\n",
    ">prot_PDBfile = [singlepath/'4hw3_prot.pdb'] (if the PDB file is in a path defined as singlepath)\n",
    "\n",
    "\n",
    "Examples of how to use the *resids* variable\n",
    "\n",
    ">resids = [82] shows a single residue in position 82)\n",
    "\n",
    ">resids = [82,83,84] shows residues 82, 83 or 84 separately, which you can select in the viewer\n",
    "\n",
    ">resids = [(82,83,84)] shows residue 82, 83 and 84 in the same visualization\n",
    "\n",
    ">resids = ['82-84'] shows residue range 82-84 in the same visualization\n",
    "\n",
    "**NOTE:** This code fails when attempting to show two non-consecutive residues in the same visualization.\n"
   ]
  },
  {
   "cell_type": "code",
   "execution_count": null,
   "metadata": {
    "cellView": "form",
    "id": "eLphxzcKKbcf"
   },
   "outputs": [],
   "source": [
    "# @title Loading the Docking Box viewer for a user-defined PDB input file and highlighted residues\n",
    "from ipywidgets import interact,fixed,IntSlider\n",
    "import ipywidgets\n",
    "\n",
    "pdbfile = \"\" # @param {type:\"string\"}\n",
    "resids = None # @param {type:\"raw\"}\n",
    "interact(viewprotgrid,\n",
    "# ADD YOUR PDB LOCATION AND FILENAME HERE\n",
    "         prot_PDBfile = pdbfile,\n",
    "# ADD THE RESIDUES YOU WANT TO VISUALIZE HERE\n",
    "         resids = resids,\n",
    "         bxi=ipywidgets.IntSlider(min=-100,max=100, step=1),\n",
    "         byi=ipywidgets.IntSlider(min=-100,max=100, step=1),\n",
    "         bzi=ipywidgets.IntSlider(min=-100,max=100, step=1),\n",
    "         bxf=ipywidgets.IntSlider(min=4,max=40, step=1),\n",
    "         byf=ipywidgets.IntSlider(min=4,max=30, step=1),\n",
    "         bzf=ipywidgets.IntSlider(min=4,max=30, step=1))"
   ]
  },
  {
   "cell_type": "markdown",
   "metadata": {
    "id": "75yCJ-eNS7Ia"
   },
   "source": [
    "### 3.3.\n",
    " Now, we will generate a configuration file for **Autodock Vina**. As expected, the configuration file contains information about the target protein and ligand, as well as the position and dimensions of the grid box that defines the search space.\n",
    "\n",
    "  For defining the grid box, you will use the  box origin and size coordinates that you defined manually in the previous step.\n",
    "\n",
    "  The following is an example file of a standard **Autodock Vina configuration file**, including several possible variables that can be edited. A very relevant variable is the **exhaustiveness**, i.e., the number of independent runs starting from random conformations, and therefore the amount of computational effort during molecular docking.\n",
    "\n",
    "\n",
    "```\n",
    "#CONFIGURATION FILE\n",
    "\n",
    "#INPUT OPTIONS\n",
    "receptor = [target protein pdbqt file]\n",
    "ligand = [ligand pdbqt file]\n",
    "flex = [flexible residues in receptor in pdbqt format]\n",
    "\n",
    "#SEARCH SPACE CONFIGURATIONS\n",
    "#Center of the box (coordinates x, y and z\n",
    "center_x = [value]\n",
    "center_y = [value]\n",
    "center_z = [value]\n",
    "#Size of the box (dimensions in x, y and z)\n",
    "size_x = [value]\n",
    "size_y = [value]\n",
    "size_z = [value]\n",
    "\n",
    "#OUTPUT OPTIONS\n",
    "#out = [output pdbqt file for all conformations]\n",
    "#log = [output log file for binding energies]\n",
    "\n",
    "#OTHER OPTIONS\n",
    "cpu = [value] # more cpus reduces the computation time\n",
    "exhaustiveness = [value] # search time for finding the global minimum, default is 8\n",
    "num_modes = [value] # maximum number of binding modes to generate, default is 9\n",
    "energy_range = [value] # maximum energy difference between the best binding mode and the worst one displayed (kcal/mol), default is 3\n",
    "seed = [value] # explicit random seed, not required\n",
    "```\n",
    "\n",
    "The following script will create this file for our docking procedure. **You will need to add the position and dimensions of your grid box**\n"
   ]
  },
  {
   "cell_type": "code",
   "execution_count": null,
   "metadata": {
    "cellView": "form",
    "id": "Q8g2JIgB5fna"
   },
   "outputs": [],
   "source": [
    "#@title Generating an AutoDock Vina file\n",
    "receptor = \"\" # @param {type:\"string\"}\n",
    "ligand = \"\" # @param {type:\"string\"}\n",
    "center_x = \"\" # @param {type:\"string\"}\n",
    "center_y = \"\" # @param {type:\"string\"}\n",
    "center_z = \"\" # @param {type:\"string\"}\n",
    "size_x = \"\" # @param {type:\"string\"}\n",
    "size_y = \"\" # @param {type:\"string\"}\n",
    "size_z = \"\" # @param {type:\"string\"}\n",
    "with open(singlepath / \"config_singledock\",\"w\") as f:\n",
    "  f.write(\"#CONFIGURATION FILE (options not used are commented) \\n\")\n",
    "  f.write(\"\\n\")\n",
    "  f.write(\"#INPUT OPTIONS \\n\")\n",
    "  f.write(\"receptor = \" + receptor +\"\\n\")\n",
    "  f.write(\"ligand = \" + ligand +\"\\n\")\n",
    "  f.write(\"#flex = [flexible residues in receptor in pdbqt format] \\n\")\n",
    "  f.write(\"#SEARCH SPACE CONFIGURATIONS \\n\")\n",
    "  f.write(\"#Center of the box (values bxi, byi and bzi) \\n\")\n",
    "#CHANGE THE FOLLOWING DATA WITH YOUR BOX CENTER COORDINATES\n",
    "  f.write(\"center_x = \" + center_x + \"\\n\")\n",
    "  f.write(\"center_y = \" + center_y + \"\\n\")\n",
    "  f.write(\"center_z = \" + center_z + \"\\n\")\n",
    "#CHANGE THE FOLLOWING DATA WITH YOUR BOX DIMENSIONS\n",
    "  f.write(\"#Size of the box (values bxf, byf and bzf) \\n\")\n",
    "  f.write(\"size_x = \" + size_x + \"\\n\")\n",
    "  f.write(\"size_y = \" + size_y + \"\\n\")\n",
    "  f.write(\"size_z = \" + size_z + \"\\n\")\n",
    "  f.write(\"#OUTPUT OPTIONS \\n\")\n",
    "  f.write(\"#out = \\n\")\n",
    "  f.write(\"#log = \\n\")\n",
    "  f.write(\"\\n\")\n",
    "  f.write(\"#OTHER OPTIONS \\n\")\n",
    "  f.write(\"#cpu =  \\n\")\n",
    "  f.write(\"#exhaustiveness = \\n\")\n",
    "  f.write(\"#num_modes = \\n\")\n",
    "  f.write(\"#energy_range = \\n\")\n",
    "  f.write(\"#seed = \")"
   ]
  },
  {
   "cell_type": "markdown",
   "metadata": {
    "id": "cfxxqcf-XdU3"
   },
   "source": [
    "4. Lastly, we will enter into the folder that we created for the docking experiment and **perform our first molecular docking with Autodock Vina**.\n",
    "\n",
    "  Once you execute the lines of code shown below, Autodock will show you a progress bar (if running as expected). **This simulation should not take longer than 5 min**.\n",
    "  \n",
    "  Note that we are defining the filenames of the output and log file outside the configuration file."
   ]
  },
  {
   "cell_type": "code",
   "execution_count": null,
   "metadata": {
    "id": "LRlv9MqoCC19"
   },
   "outputs": [],
   "source": [
    "#Changing directory to the single docking folder\n",
    "os.chdir(singlepath)\n",
    "#Executing AutoDock Vina with our configuration file\n",
    "%vina --config config_singledock --out output.pdbqt | tee output.log\n",
    "#Exiting the execution directory\n",
    "os.chdir(\"/content/\")"
   ]
  },
  {
   "cell_type": "markdown",
   "metadata": {
    "id": "If6YK_XVYPmB"
   },
   "source": [
    "5. Once the molecular docking has finished running, we will compare the docking poses with the experimentally solved pose for indinavir. In fact, the structure of HIV-2 protease that you downloaded at the beginning of this tutorial was solved with indinavir bound to it.\n",
    "\n",
    "  The following lines of code are similar to what we did with extracting the 'ATOM' lines of the PDB file, but now we are extracting the lines containing **'MK1'**, the name of the ligand in this PDB file."
   ]
  },
  {
   "cell_type": "code",
   "execution_count": null,
   "metadata": {
    "id": "P1P1XSGWv9pe"
   },
   "outputs": [],
   "source": [
    "#Here, we will be extracting Indinavir, which is present in the structure of\n",
    "#HIV-2 protease (yes! this is a simulation with experimental validation!)\n",
    "#The approach is similar to printing the ATOM and TER lines, but we are using\n",
    "#the residue name given to the ligand in the experimentally solved structure: MK1\n",
    "protein = \"1hsg.pdb\"\n",
    "\n",
    "with open(singlepath/\"xtal_ligand.pdb\",\"w\") as g:\n",
    "  f = open(protein,'r')\n",
    "  for line in f:\n",
    "    row = line.split()\n",
    "    if \"MK1\" in row:\n",
    "      g.write(line)\n",
    "  g.write(\"END\")"
   ]
  },
  {
   "cell_type": "markdown",
   "metadata": {
    "id": "tGnWy5aVaFOP"
   },
   "source": [
    "6. We also need the different docking poses generated as a result of the molecular docking simulation. We will split these poses into separate PDB files using **babel**, starting with file numbered as 1 corresponding to the lowest-energy pose."
   ]
  },
  {
   "cell_type": "code",
   "execution_count": null,
   "metadata": {
    "id": "JDkf9pyuZdd2"
   },
   "outputs": [],
   "source": [
    "#We need to convert our Autodock Vina results from pdbqt into pdb\n",
    "#For this, we use babel\n",
    "!obabel -ipdbqt $singlepath/output.pdbqt -opdb -O $singlepath/indinavir_dock.pdb -m"
   ]
  },
  {
   "cell_type": "markdown",
   "metadata": {
    "id": "MFq6k5RofGAm"
   },
   "source": [
    "7. Finally, we will load our target protein into **py3Dmol**, along with any docking pose of our choice and the experimentally solved binding pose of indinavir for comparison."
   ]
  },
  {
   "cell_type": "code",
   "execution_count": null,
   "metadata": {
    "id": "T6RDFGiUVp7k"
   },
   "outputs": [],
   "source": [
    "view=py3Dmol.view()\n",
    "view.setBackgroundColor('white')\n",
    "#Loading the target protein as PDB file\n",
    "view.addModel(open(singlepath/'1hsg_prot.pdb', 'r').read(),'pdb')\n",
    "view.setStyle({'cartoon': {'color':'spectrum'}})\n",
    "view.zoomTo()\n",
    "#Loading the docking pose\n",
    "view.addModel(open(singlepath/'indinavir_dock1.pdb', 'r').read(),'pdb')\n",
    "view.setStyle({'model':1},{'stick':{'colorscheme':'greenCarbon'}})\n",
    "#Loading the experimentally solved binding mode\n",
    "view.addModel(open(singlepath/'xtal_ligand.pdb', 'r').read(),'pdb')\n",
    "view.setStyle({'resn':'MK1'},{'stick':{}})\n",
    "view.show()"
   ]
  },
  {
   "cell_type": "markdown",
   "metadata": {
    "id": "jmiDWmYIw2gb"
   },
   "source": [
    "How similar is your docking pose when compared to the experimentally solved one?\n",
    "\n",
    "**📚HOMEWORK:** Remember that redocking, i.e. a molecular docking simulation in which the ligand bound to the target is used as the starting conformation for the docking procedure, is commonly used as a control. Based on this information, plan a control simulation using the ligand that you just extracted in this tutorial\n",
    "\n",
    ">```\n",
    ">#Example of preparation of the experimentally solved ligand pose for redocking\n",
    ">\n",
    ">os.chdir(singlepath)\n",
    ">!pythonsh /usr/local/bin/prepare_ligand4.py -l xtal_ligand.pdb -o $singlepath/xtal_ind.pdbqt -A hydrogens -U nphs_lps -v\n",
    ">\n",
    ">#Then, you can essentially use the same configuration files.\n",
    ">```\n",
    "\n"
   ]
  },
  {
   "cell_type": "markdown",
   "metadata": {
    "id": "ACJSETwdymVx"
   },
   "source": [
    "**And this is the end of the sixth tutorial!** If you want to download your results, you can compress them into a zip file for manual download."
   ]
  },
  {
   "cell_type": "code",
   "execution_count": null,
   "metadata": {
    "id": "6--B-6se_wWb"
   },
   "outputs": [],
   "source": [
    "### ADD for multiple ligands!\n",
    "### What about plotting score v. experiment?\n",
    "### Compute RMSD? -> MDAnalysis?"
   ]
  },
  {
   "cell_type": "markdown",
   "metadata": {
    "id": "XtA5yNgk_wWb"
   },
   "source": [
    "<div class=\"alert alert-success\">\n",
    "<b>Task 1:</b> Can you think of examples of features that you would find in molecular simulations?</div>"
   ]
  },
  {
   "cell_type": "markdown",
   "metadata": {
    "id": "w0XhZ96__wWc"
   },
   "source": [
    "<details>\n",
    "<summary> <mark> Solution: </mark> </summary>\n",
    "\n",
    "Examples are:\n",
    "- C-alpha positions\n",
    "- angles\n",
    "- dihedrals\n",
    "- RMSD\n",
    "- density\n",
    "- surface area\n",
    "- ...\n",
    "\n",
    "</details>"
   ]
  },
  {
   "cell_type": "code",
   "execution_count": null,
   "metadata": {
    "id": "DPQP2YWD48xx"
   },
   "outputs": [],
   "source": [
    "!zip -r singledocking.zip $singlepath\n",
    "#By default, automatic download is enabled through the following lines\n",
    "#but you need to disable your adblocker in order for it to work\n",
    "from google.colab import files\n",
    "files.download(\"/content/singledocking.zip\")"
   ]
  }
 ],
 "metadata": {
  "colab": {
   "provenance": []
  },
  "kernelspec": {
   "display_name": "Python 3 (ipykernel)",
   "language": "python",
   "name": "python3"
  },
  "language_info": {
   "codemirror_mode": {
    "name": "ipython",
    "version": 3
   },
   "file_extension": ".py",
   "mimetype": "text/x-python",
   "name": "python",
   "nbconvert_exporter": "python",
   "pygments_lexer": "ipython3",
   "version": "3.11.0"
  },
  "widgets": {
   "application/vnd.jupyter.widget-state+json": {
    "2019ef843ae6461780efb6701362904d": {
     "model_module": "@jupyter-widgets/base",
     "model_module_version": "1.2.0",
     "model_name": "LayoutModel",
     "state": {
      "_model_module": "@jupyter-widgets/base",
      "_model_module_version": "1.2.0",
      "_model_name": "LayoutModel",
      "_view_count": null,
      "_view_module": "@jupyter-widgets/base",
      "_view_module_version": "1.2.0",
      "_view_name": "LayoutView",
      "align_content": null,
      "align_items": null,
      "align_self": null,
      "border": null,
      "bottom": null,
      "display": null,
      "flex": null,
      "flex_flow": null,
      "grid_area": null,
      "grid_auto_columns": null,
      "grid_auto_flow": null,
      "grid_auto_rows": null,
      "grid_column": null,
      "grid_gap": null,
      "grid_row": null,
      "grid_template_areas": null,
      "grid_template_columns": null,
      "grid_template_rows": null,
      "height": null,
      "justify_content": null,
      "justify_items": null,
      "left": null,
      "margin": null,
      "max_height": null,
      "max_width": null,
      "min_height": null,
      "min_width": null,
      "object_fit": null,
      "object_position": null,
      "order": null,
      "overflow": null,
      "overflow_x": null,
      "overflow_y": null,
      "padding": null,
      "right": null,
      "top": null,
      "visibility": null,
      "width": null
     }
    },
    "59796cdc352844938891e6093535bd06": {
     "model_module": "@jupyter-widgets/base",
     "model_module_version": "1.2.0",
     "model_name": "LayoutModel",
     "state": {
      "_model_module": "@jupyter-widgets/base",
      "_model_module_version": "1.2.0",
      "_model_name": "LayoutModel",
      "_view_count": null,
      "_view_module": "@jupyter-widgets/base",
      "_view_module_version": "1.2.0",
      "_view_name": "LayoutView",
      "align_content": null,
      "align_items": null,
      "align_self": null,
      "border": null,
      "bottom": null,
      "display": null,
      "flex": null,
      "flex_flow": null,
      "grid_area": null,
      "grid_auto_columns": null,
      "grid_auto_flow": null,
      "grid_auto_rows": null,
      "grid_column": null,
      "grid_gap": null,
      "grid_row": null,
      "grid_template_areas": null,
      "grid_template_columns": null,
      "grid_template_rows": null,
      "height": null,
      "justify_content": null,
      "justify_items": null,
      "left": null,
      "margin": null,
      "max_height": null,
      "max_width": null,
      "min_height": null,
      "min_width": null,
      "object_fit": null,
      "object_position": null,
      "order": null,
      "overflow": null,
      "overflow_x": null,
      "overflow_y": null,
      "padding": null,
      "right": null,
      "top": null,
      "visibility": null,
      "width": null
     }
    },
    "5e0aa3f3ead8462cad995418a247f755": {
     "model_module": "@jupyter-widgets/controls",
     "model_module_version": "1.5.0",
     "model_name": "TextModel",
     "state": {
      "_dom_classes": [],
      "_model_module": "@jupyter-widgets/controls",
      "_model_module_version": "1.5.0",
      "_model_name": "TextModel",
      "_view_count": null,
      "_view_module": "@jupyter-widgets/controls",
      "_view_module_version": "1.5.0",
      "_view_name": "TextView",
      "continuous_update": true,
      "description": "smi",
      "description_tooltip": null,
      "disabled": false,
      "layout": "IPY_MODEL_db7d6ca8ffc14741b7cb8f2607fe14ca",
      "placeholder": "​",
      "style": "IPY_MODEL_ad37e938d35f4be1bea5e75370d8c8dd",
      "value": "O=C([O-])c1[nH]c2ccccc2c1CCCOc1ccccc1"
     }
    },
    "6d743fc0b9124c069b56a401e2dc33a6": {
     "model_module": "@jupyter-widgets/output",
     "model_module_version": "1.0.0",
     "model_name": "OutputModel",
     "state": {
      "_dom_classes": [],
      "_model_module": "@jupyter-widgets/output",
      "_model_module_version": "1.0.0",
      "_model_name": "OutputModel",
      "_view_count": null,
      "_view_module": "@jupyter-widgets/output",
      "_view_module_version": "1.0.0",
      "_view_name": "OutputView",
      "layout": "IPY_MODEL_59796cdc352844938891e6093535bd06",
      "msg_id": "",
      "outputs": [
       {
        "data": {
         "application/3dmoljs_load.v0": "<div id=\"3dmolviewer_17214950360134382\"  style=\"position: relative; width: 640px; height: 480px;\">\n        <p id=\"3dmolwarning_17214950360134382\" style=\"background-color:#ffcccc;color:black\">3Dmol.js failed to load for some reason.  Please check your browser console for error messages.<br></p>\n        </div>\n<script>\n\nvar loadScriptAsync = function(uri){\n  return new Promise((resolve, reject) => {\n    //this is to ignore the existence of requirejs amd\n    var savedexports, savedmodule;\n    if (typeof exports !== 'undefined') savedexports = exports;\n    else exports = {}\n    if (typeof module !== 'undefined') savedmodule = module;\n    else module = {}\n\n    var tag = document.createElement('script');\n    tag.src = uri;\n    tag.async = true;\n    tag.onload = () => {\n        exports = savedexports;\n        module = savedmodule;\n        resolve();\n    };\n  var firstScriptTag = document.getElementsByTagName('script')[0];\n  firstScriptTag.parentNode.insertBefore(tag, firstScriptTag);\n});\n};\n\nif(typeof $3Dmolpromise === 'undefined') {\n$3Dmolpromise = null;\n  $3Dmolpromise = loadScriptAsync('https://cdnjs.cloudflare.com/ajax/libs/3Dmol/2.2.1-post1/3Dmol-min.js');\n}\n\nvar viewer_17214950360134382 = null;\nvar warn = document.getElementById(\"3dmolwarning_17214950360134382\");\nif(warn) {\n    warn.parentNode.removeChild(warn);\n}\n$3Dmolpromise.then(function() {\nviewer_17214950360134382 = $3Dmol.createViewer(document.getElementById(\"3dmolviewer_17214950360134382\"),{backgroundColor:\"white\"});\nviewer_17214950360134382.zoomTo();\n\tviewer_17214950360134382.addModel(\"\\n     RDKit          3D\\n\\n 38 40  0  0  0  0  0  0  0  0999 V2000\\n   -2.8730    2.7277    3.2799 O   0  0  0  0  0  0  0  0  0  0  0  0\\n   -2.0606    2.3537    2.3799 C   0  0  0  0  0  0  0  0  0  0  0  0\\n   -0.8293    2.6255    2.2814 O   0  0  0  0  0  1  0  0  0  0  0  0\\n   -2.7003    1.4476    1.2798 C   0  0  0  0  0  0  0  0  0  0  0  0\\n   -4.0166    1.0877    1.3479 N   0  0  0  0  0  0  0  0  0  0  0  0\\n   -4.3507    0.2830    0.2877 C   0  0  0  0  0  0  0  0  0  0  0  0\\n   -5.5709   -0.3184   -0.0435 C   0  0  0  0  0  0  0  0  0  0  0  0\\n   -5.6153   -1.1011   -1.2010 C   0  0  0  0  0  0  0  0  0  0  0  0\\n   -4.4827   -1.2739   -1.9931 C   0  0  0  0  0  0  0  0  0  0  0  0\\n   -3.2706   -0.6643   -1.6468 C   0  0  0  0  0  0  0  0  0  0  0  0\\n   -3.1963    0.1326   -0.4846 C   0  0  0  0  0  0  0  0  0  0  0  0\\n   -2.1451    0.8818    0.1470 C   0  0  0  0  0  0  0  0  0  0  0  0\\n   -0.7336    1.0193   -0.3230 C   0  0  0  0  0  0  0  0  0  0  0  0\\n    0.1837   -0.0495    0.2679 C   0  0  0  0  0  0  0  0  0  0  0  0\\n    1.6468    0.2733   -0.0134 C   0  0  0  0  0  0  0  0  0  0  0  0\\n    2.4393   -0.8610    0.3509 O   0  0  0  0  0  0  0  0  0  0  0  0\\n    3.7878   -0.7674    0.1431 C   0  0  0  0  0  0  0  0  0  0  0  0\\n    4.5043   -1.9340    0.4236 C   0  0  0  0  0  0  0  0  0  0  0  0\\n    5.8894   -1.9782    0.2542 C   0  0  0  0  0  0  0  0  0  0  0  0\\n    6.5689   -0.8491   -0.1964 C   0  0  0  0  0  0  0  0  0  0  0  0\\n    5.8621    0.3200   -0.4738 C   0  0  0  0  0  0  0  0  0  0  0  0\\n    4.4743    0.3622   -0.3040 C   0  0  0  0  0  0  0  0  0  0  0  0\\n   -4.6171    1.3947    2.1022 H   0  0  0  0  0  0  0  0  0  0  0  0\\n   -6.4494   -0.1824    0.5774 H   0  0  0  0  0  0  0  0  0  0  0  0\\n   -6.5482   -1.5815   -1.4831 H   0  0  0  0  0  0  0  0  0  0  0  0\\n   -4.5356   -1.8874   -2.8878 H   0  0  0  0  0  0  0  0  0  0  0  0\\n   -2.3908   -0.8047   -2.2660 H   0  0  0  0  0  0  0  0  0  0  0  0\\n   -0.7069    0.9493   -1.4181 H   0  0  0  0  0  0  0  0  0  0  0  0\\n   -0.3576    2.0217   -0.0901 H   0  0  0  0  0  0  0  0  0  0  0  0\\n   -0.0702   -1.0345   -0.1445 H   0  0  0  0  0  0  0  0  0  0  0  0\\n    0.0418   -0.1396    1.3525 H   0  0  0  0  0  0  0  0  0  0  0  0\\n    1.7775    0.4816   -1.0824 H   0  0  0  0  0  0  0  0  0  0  0  0\\n    1.9432    1.1484    0.5774 H   0  0  0  0  0  0  0  0  0  0  0  0\\n    3.9734   -2.8132    0.7799 H   0  0  0  0  0  0  0  0  0  0  0  0\\n    6.4326   -2.8915    0.4784 H   0  0  0  0  0  0  0  0  0  0  0  0\\n    7.6470   -0.8771   -0.3257 H   0  0  0  0  0  0  0  0  0  0  0  0\\n    6.3890    1.2061   -0.8175 H   0  0  0  0  0  0  0  0  0  0  0  0\\n    3.9593    1.2928   -0.5191 H   0  0  0  0  0  0  0  0  0  0  0  0\\n  1  2  2  0\\n  2  3  1  0\\n  2  4  1  0\\n  4  5  1  0\\n  5  6  1  0\\n  6  7  2  0\\n  7  8  1  0\\n  8  9  2  0\\n  9 10  1  0\\n 10 11  2  0\\n 11 12  1  0\\n 12 13  1  0\\n 13 14  1  0\\n 14 15  1  0\\n 15 16  1  0\\n 16 17  1  0\\n 17 18  2  0\\n 18 19  1  0\\n 19 20  2  0\\n 20 21  1  0\\n 21 22  2  0\\n 12  4  2  0\\n 22 17  1  0\\n 11  6  1  0\\n  5 23  1  0\\n  7 24  1  0\\n  8 25  1  0\\n  9 26  1  0\\n 10 27  1  0\\n 13 28  1  0\\n 13 29  1  0\\n 14 30  1  0\\n 14 31  1  0\\n 15 32  1  0\\n 15 33  1  0\\n 18 34  1  0\\n 19 35  1  0\\n 20 36  1  0\\n 21 37  1  0\\n 22 38  1  0\\nM  CHG  1   3  -1\\nM  END\\n\",\"mol\");\n\tviewer_17214950360134382.setStyle({\"stick\": {}});\n\tviewer_17214950360134382.zoomTo();\nviewer_17214950360134382.render();\n});\n</script>",
         "text/html": "<div id=\"3dmolviewer_17214950360134382\"  style=\"position: relative; width: 640px; height: 480px;\">\n        <p id=\"3dmolwarning_17214950360134382\" style=\"background-color:#ffcccc;color:black\">3Dmol.js failed to load for some reason.  Please check your browser console for error messages.<br></p>\n        </div>\n<script>\n\nvar loadScriptAsync = function(uri){\n  return new Promise((resolve, reject) => {\n    //this is to ignore the existence of requirejs amd\n    var savedexports, savedmodule;\n    if (typeof exports !== 'undefined') savedexports = exports;\n    else exports = {}\n    if (typeof module !== 'undefined') savedmodule = module;\n    else module = {}\n\n    var tag = document.createElement('script');\n    tag.src = uri;\n    tag.async = true;\n    tag.onload = () => {\n        exports = savedexports;\n        module = savedmodule;\n        resolve();\n    };\n  var firstScriptTag = document.getElementsByTagName('script')[0];\n  firstScriptTag.parentNode.insertBefore(tag, firstScriptTag);\n});\n};\n\nif(typeof $3Dmolpromise === 'undefined') {\n$3Dmolpromise = null;\n  $3Dmolpromise = loadScriptAsync('https://cdnjs.cloudflare.com/ajax/libs/3Dmol/2.2.1-post1/3Dmol-min.js');\n}\n\nvar viewer_17214950360134382 = null;\nvar warn = document.getElementById(\"3dmolwarning_17214950360134382\");\nif(warn) {\n    warn.parentNode.removeChild(warn);\n}\n$3Dmolpromise.then(function() {\nviewer_17214950360134382 = $3Dmol.createViewer(document.getElementById(\"3dmolviewer_17214950360134382\"),{backgroundColor:\"white\"});\nviewer_17214950360134382.zoomTo();\n\tviewer_17214950360134382.addModel(\"\\n     RDKit          3D\\n\\n 38 40  0  0  0  0  0  0  0  0999 V2000\\n   -2.8730    2.7277    3.2799 O   0  0  0  0  0  0  0  0  0  0  0  0\\n   -2.0606    2.3537    2.3799 C   0  0  0  0  0  0  0  0  0  0  0  0\\n   -0.8293    2.6255    2.2814 O   0  0  0  0  0  1  0  0  0  0  0  0\\n   -2.7003    1.4476    1.2798 C   0  0  0  0  0  0  0  0  0  0  0  0\\n   -4.0166    1.0877    1.3479 N   0  0  0  0  0  0  0  0  0  0  0  0\\n   -4.3507    0.2830    0.2877 C   0  0  0  0  0  0  0  0  0  0  0  0\\n   -5.5709   -0.3184   -0.0435 C   0  0  0  0  0  0  0  0  0  0  0  0\\n   -5.6153   -1.1011   -1.2010 C   0  0  0  0  0  0  0  0  0  0  0  0\\n   -4.4827   -1.2739   -1.9931 C   0  0  0  0  0  0  0  0  0  0  0  0\\n   -3.2706   -0.6643   -1.6468 C   0  0  0  0  0  0  0  0  0  0  0  0\\n   -3.1963    0.1326   -0.4846 C   0  0  0  0  0  0  0  0  0  0  0  0\\n   -2.1451    0.8818    0.1470 C   0  0  0  0  0  0  0  0  0  0  0  0\\n   -0.7336    1.0193   -0.3230 C   0  0  0  0  0  0  0  0  0  0  0  0\\n    0.1837   -0.0495    0.2679 C   0  0  0  0  0  0  0  0  0  0  0  0\\n    1.6468    0.2733   -0.0134 C   0  0  0  0  0  0  0  0  0  0  0  0\\n    2.4393   -0.8610    0.3509 O   0  0  0  0  0  0  0  0  0  0  0  0\\n    3.7878   -0.7674    0.1431 C   0  0  0  0  0  0  0  0  0  0  0  0\\n    4.5043   -1.9340    0.4236 C   0  0  0  0  0  0  0  0  0  0  0  0\\n    5.8894   -1.9782    0.2542 C   0  0  0  0  0  0  0  0  0  0  0  0\\n    6.5689   -0.8491   -0.1964 C   0  0  0  0  0  0  0  0  0  0  0  0\\n    5.8621    0.3200   -0.4738 C   0  0  0  0  0  0  0  0  0  0  0  0\\n    4.4743    0.3622   -0.3040 C   0  0  0  0  0  0  0  0  0  0  0  0\\n   -4.6171    1.3947    2.1022 H   0  0  0  0  0  0  0  0  0  0  0  0\\n   -6.4494   -0.1824    0.5774 H   0  0  0  0  0  0  0  0  0  0  0  0\\n   -6.5482   -1.5815   -1.4831 H   0  0  0  0  0  0  0  0  0  0  0  0\\n   -4.5356   -1.8874   -2.8878 H   0  0  0  0  0  0  0  0  0  0  0  0\\n   -2.3908   -0.8047   -2.2660 H   0  0  0  0  0  0  0  0  0  0  0  0\\n   -0.7069    0.9493   -1.4181 H   0  0  0  0  0  0  0  0  0  0  0  0\\n   -0.3576    2.0217   -0.0901 H   0  0  0  0  0  0  0  0  0  0  0  0\\n   -0.0702   -1.0345   -0.1445 H   0  0  0  0  0  0  0  0  0  0  0  0\\n    0.0418   -0.1396    1.3525 H   0  0  0  0  0  0  0  0  0  0  0  0\\n    1.7775    0.4816   -1.0824 H   0  0  0  0  0  0  0  0  0  0  0  0\\n    1.9432    1.1484    0.5774 H   0  0  0  0  0  0  0  0  0  0  0  0\\n    3.9734   -2.8132    0.7799 H   0  0  0  0  0  0  0  0  0  0  0  0\\n    6.4326   -2.8915    0.4784 H   0  0  0  0  0  0  0  0  0  0  0  0\\n    7.6470   -0.8771   -0.3257 H   0  0  0  0  0  0  0  0  0  0  0  0\\n    6.3890    1.2061   -0.8175 H   0  0  0  0  0  0  0  0  0  0  0  0\\n    3.9593    1.2928   -0.5191 H   0  0  0  0  0  0  0  0  0  0  0  0\\n  1  2  2  0\\n  2  3  1  0\\n  2  4  1  0\\n  4  5  1  0\\n  5  6  1  0\\n  6  7  2  0\\n  7  8  1  0\\n  8  9  2  0\\n  9 10  1  0\\n 10 11  2  0\\n 11 12  1  0\\n 12 13  1  0\\n 13 14  1  0\\n 14 15  1  0\\n 15 16  1  0\\n 16 17  1  0\\n 17 18  2  0\\n 18 19  1  0\\n 19 20  2  0\\n 20 21  1  0\\n 21 22  2  0\\n 12  4  2  0\\n 22 17  1  0\\n 11  6  1  0\\n  5 23  1  0\\n  7 24  1  0\\n  8 25  1  0\\n  9 26  1  0\\n 10 27  1  0\\n 13 28  1  0\\n 13 29  1  0\\n 14 30  1  0\\n 14 31  1  0\\n 15 32  1  0\\n 15 33  1  0\\n 18 34  1  0\\n 19 35  1  0\\n 20 36  1  0\\n 21 37  1  0\\n 22 38  1  0\\nM  CHG  1   3  -1\\nM  END\\n\",\"mol\");\n\tviewer_17214950360134382.setStyle({\"stick\": {}});\n\tviewer_17214950360134382.zoomTo();\nviewer_17214950360134382.render();\n});\n</script>"
        },
        "metadata": {},
        "output_type": "display_data"
       }
      ]
     }
    },
    "ad37e938d35f4be1bea5e75370d8c8dd": {
     "model_module": "@jupyter-widgets/controls",
     "model_module_version": "1.5.0",
     "model_name": "DescriptionStyleModel",
     "state": {
      "_model_module": "@jupyter-widgets/controls",
      "_model_module_version": "1.5.0",
      "_model_name": "DescriptionStyleModel",
      "_view_count": null,
      "_view_module": "@jupyter-widgets/base",
      "_view_module_version": "1.2.0",
      "_view_name": "StyleView",
      "description_width": ""
     }
    },
    "b180744a341946d49d319b86f3e2701e": {
     "model_module": "@jupyter-widgets/controls",
     "model_module_version": "1.5.0",
     "model_name": "VBoxModel",
     "state": {
      "_dom_classes": [
       "widget-interact"
      ],
      "_model_module": "@jupyter-widgets/controls",
      "_model_module_version": "1.5.0",
      "_model_name": "VBoxModel",
      "_view_count": null,
      "_view_module": "@jupyter-widgets/controls",
      "_view_module_version": "1.5.0",
      "_view_name": "VBoxView",
      "box_style": "",
      "children": [
       "IPY_MODEL_5e0aa3f3ead8462cad995418a247f755",
       "IPY_MODEL_6d743fc0b9124c069b56a401e2dc33a6"
      ],
      "layout": "IPY_MODEL_2019ef843ae6461780efb6701362904d"
     }
    },
    "db7d6ca8ffc14741b7cb8f2607fe14ca": {
     "model_module": "@jupyter-widgets/base",
     "model_module_version": "1.2.0",
     "model_name": "LayoutModel",
     "state": {
      "_model_module": "@jupyter-widgets/base",
      "_model_module_version": "1.2.0",
      "_model_name": "LayoutModel",
      "_view_count": null,
      "_view_module": "@jupyter-widgets/base",
      "_view_module_version": "1.2.0",
      "_view_name": "LayoutView",
      "align_content": null,
      "align_items": null,
      "align_self": null,
      "border": null,
      "bottom": null,
      "display": null,
      "flex": null,
      "flex_flow": null,
      "grid_area": null,
      "grid_auto_columns": null,
      "grid_auto_flow": null,
      "grid_auto_rows": null,
      "grid_column": null,
      "grid_gap": null,
      "grid_row": null,
      "grid_template_areas": null,
      "grid_template_columns": null,
      "grid_template_rows": null,
      "height": null,
      "justify_content": null,
      "justify_items": null,
      "left": null,
      "margin": null,
      "max_height": null,
      "max_width": null,
      "min_height": null,
      "min_width": null,
      "object_fit": null,
      "object_position": null,
      "order": null,
      "overflow": null,
      "overflow_x": null,
      "overflow_y": null,
      "padding": null,
      "right": null,
      "top": null,
      "visibility": null,
      "width": null
     }
    }
   }
  }
 },
 "nbformat": 4,
 "nbformat_minor": 4
}
